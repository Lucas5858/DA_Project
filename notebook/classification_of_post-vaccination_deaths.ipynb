{
 "cells": [
  {
   "cell_type": "markdown",
   "metadata": {},
   "source": [
    "# <center>Mortality prediction based on the VAERS post vaccine adverse reactions</center>\n",
    "\n",
    "## *<center>Authors: Szymon Szewczyk, Łukasz Szyszka</center>*\n",
    "\n",
    "### *<center>July 7, 2024</center>*\n",
    "\n",
    "---"
   ]
  },
  {
   "cell_type": "markdown",
   "metadata": {},
   "source": [
    "### Legal Disclaimer\n",
    "\n",
    "The purpose of this project is to develop Bayesian Models for predicting the probability of patient mortality due to adverse reactions from COVID-19 vaccination. This project is intended solely for educational purposes. The analysis and results derived from this project should not be interpreted as advice for or against any type of vaccination. The authors strongly recommend that individuals consult with appropriate healthcare professionals before making any health-related decisions. The authors disclaim any responsibility for any consequences resulting from actions taken by individuals based on information from this project, in compliance with applicable US and EU laws.\n",
    "\n",
    "---"
   ]
  },
  {
   "cell_type": "markdown",
   "metadata": {},
   "source": [
    "### 1. Problem formulation [0-5 pts]:\n",
    "- is the problem clearly stated [1 pt]\n",
    "- what is the point of creating model, are potential use cases defined [1 pt]\n",
    "- where do data comes from, what does it containt [1 pt]\n",
    "- DAG has been drawn [1 pt]\n",
    "- confoundings (pipe, fork, collider) were described [1 pt]"
   ]
  },
  {
   "cell_type": "markdown",
   "metadata": {},
   "source": [
    "The Bayesian Models developed in this project are designed to predict the probability of patient mortality due to adverse reactions from COVID-19 vaccination. The predictions are based on various predictors, such as the patient's age, sex, number of days since vaccination, and the number of days the patient had to spend in the hospital due to the adverse reaction.\n",
    "\n",
    "The objective of creating these models is to present the probability of patient mortality in an unbiased and objective manner. The first model is more general, utilizing two predictors, while the second model employs four predictors. Both models can be used similarly to illustrate the influence of different predictors on the final outcome. Healthcare is a critical aspect of our lives, and conducting unbiased research is essential to improving the quality of all forms of medicine and medical services.\n",
    "\n",
    "The data used to create the models is sourced from the VAERS datasets for the year 2022, available at [VAERS datasets](https://vaers.hhs.gov/data/datasets.html). This data contains reported cases of vaccination adverse reactions in the United States in 2022.\n",
    "The names and descriptions of the columns can be found below:\n",
    "\n",
    "#### VAERSDARA.csv:\n",
    "VAERS_ID: VAERS identification number\\\n",
    "RECVDATE: Date report was received\\\n",
    "STATE: State\\\n",
    "AGE_YRS: Age in years\\\n",
    "CAGE_YR: Calculated age of patient in years *\\\n",
    "CAGE_MO: Calculated age of patient in months *\\\n",
    "SEX: Sex\\\n",
    "RPT_DATE: Date form completed\\\n",
    "SYMPTOM_TEXT: Reported symptom text\\\n",
    "DIED Char: Died\\\n",
    "DATEDIED: Date of death\\\n",
    "L_THREAT: Life-threatening illness\\\n",
    "ER_VISIT: Emergency room or doctor visit\\\n",
    "HOSPITAL: Hospitalized\\\n",
    "HOSPDAYS: Number of days hospitalized\\\n",
    "X_STAY: Prolongation of existing hospitalization\\\n",
    "DISABLE: Disability\\\n",
    "RECOVD: Recovered\\\n",
    "VAX_DATE: Vaccination date\\\n",
    "ONSET_DATE: Adverse event onset date\\\n",
    "NUMDAYS: Number of days (onset date – vaccination date)\\\n",
    "LAB_DATA: Diagnostic laboratory data\\\n",
    "V_ADMINBY: Type of facility where vaccine was administered\\\n",
    "V_FUNDBY: Type of funds used to purchase vaccines\\\n",
    "OTHER_MEDS: Other medications\\\n",
    "CUR_ILL: Illnesses at time of vaccination\\\n",
    "HISTORY: Chronic or long-standing health conditions\\\n",
    "PRIOR_VAX: Prior vaccination event information\\\n",
    "SPLTTYPE: Manufacturer/immunization project report number\\\n",
    "FORM_VERS: VAERS form version 1 or 2\\\n",
    "TODAYS_DATE Date: Date Form Completed\\\n",
    "BIRTH_DEFECT: Congenital anomaly or birth defect\\\n",
    "OFC_VISIT: Doctor or other healthcare provider office/clinic visit\\\n",
    "ER_ED_VISIT: Emergency room/ department or urgent care\\\n",
    "ALLERGIES: Allergies to medications, food, or other products\n",
    "\n",
    "\\* The sum of the two variables CAGE_YR and CAGE_MO provide the calculated age of a person. For example, if CAGE_YR = 1\n",
    "and CAGE_MO = 0.5, then the age of the individual is 1.5 years, or 1 year 6 months. \n",
    "\n",
    "#### VAERSVAX.csv:\n",
    "VAERS_ID: VAERS identification number\\\n",
    "VAX_TYPE: Administered vaccine type\\\n",
    "VAX_MANU: Vaccine manufacturer\\\n",
    "VAX_LOT: Manufacturer’s vaccine lot\\\n",
    "VAX_DOSE_SERIES: Number of doses administered\\\n",
    "VAX_ROUTE: Vaccination route\\\n",
    "VAX_SITE: Vaccination site\\\n",
    "VAX_NAME: Vaccination name\n",
    "\n",
    "\n",
    "About VAERS (source: https://vaers.hhs.gov/about.html):\\\n",
    "Established in 1990, the Vaccine Adverse Event Reporting System (VAERS) is a national early warning system to detect possible safety problems in U.S.-licensed vaccines. VAERS is co-managed by the Centers for Disease Control and Prevention (CDC) and the U.S. Food and Drug Administration (FDA). VAERS accepts and analyzes reports of adverse events (possible side effects) after a person has received a vaccination. Anyone can report an adverse event to VAERS. Healthcare professionals are required to report certain adverse events and vaccine manufacturers are required to report all adverse events that come to their attention.\n",
    "\n",
    "DAG (Directed acyclic graph) used to create the models is presented below:\n",
    "\n",
    "\n",
    "![DAG graph](DAG_DA_2.png)"
   ]
  },
  {
   "cell_type": "markdown",
   "metadata": {},
   "source": [
    "The confoundings (pipe, fork, collider) are described below:\n",
    "\n",
    "#### Pipes: When one variable influences the next in a direct sequence.\n",
    "\n",
    "'Patient's age' influences both 'Probability of patient reporting illness/adverse reaction(s)' and 'Patient's history of illnesses'.\\\n",
    "'Patient's sex' influences both 'General probability of females suffering from adverse reaction(s) (usually mild ones)' and 'Probability of males suffering from serious adverse reaction(s)'.\\\n",
    "Then all the above except for 'Patient's age' and 'Patient's sex' influence 'Probability that a patient needs hospitalization'.\\\n",
    "Then 'Number of days spent in hospital' influences 'Probability of patient mortality'.\n",
    "\n",
    "'Type of vaccine (mRNA / Protein subunit)' influences 'Probability of patient mortality'.\\\n",
    "'Vaccine manufacturer' influences 'Probability of patient mortality'.\\\n",
    "'Number of days since vaccination' influences 'Probability of patient mortality'.\\\n",
    "'State of residence (quality of healthcare)' influences 'Probability of patient mortality'.\n",
    "\n",
    "#### Forks: When one variable influences multiple variables.\n",
    "\n",
    "Patient's age infuences:\n",
    "- 'Probability of patient reporting illness/adverse reaction(s)'\n",
    "- 'Patient's history of illnesses'\n",
    "\n",
    "Patient's sex influences:\n",
    "- 'General probability of females suffering from adverse reaction(s) (usually mild ones)'\n",
    "- 'Probability of males suffering from serious adverse reaction(s)'\n",
    "\n",
    "#### Colliders: When two or more variables influence a single variable.\n",
    "\n",
    "'Probability that a patient needs hospitalization' is influenced by:\n",
    "- 'Probability of patient reporting illness/adverse reaction(s)'\n",
    "- 'Patient's history of illnesses'\n",
    "- 'General probability of females suffering from adverse reaction(s) (usually mild ones)'\n",
    "- 'Probability of males suffering from serious adverse reaction(s)'\n",
    "\n",
    "'Probability of patient mortality' is influenced by:\n",
    "- 'Patient's age'\n",
    "- 'Patient's sex'\n",
    "- 'Number of days spent in hospital'\n",
    "- 'Type of vaccine (mRNA / Protein subunit)'\n",
    "- 'Vaccine manufacturer'\n",
    "- 'Number of days since vaccination'\n",
    "- 'State of residence (quality of healthcare)'\n",
    "\n"
   ]
  },
  {
   "cell_type": "markdown",
   "metadata": {},
   "source": [
    "### 2. Data preprocessing [0-2 pts]:\n",
    "- is preprocessing step clearly described [1 pt]\n",
    "- reasoning and types of actions taken on the dataset have been described [1 pt]\n",
    "\n",
    "#### Original Data\n",
    "TODO: Load original data\n",
    "\n",
    "\n",
    "#### Data preprocessing\n",
    "\n",
    "Preprocessing of the original data includes several steps, involving three distinctive types of actions:\n",
    "\n",
    "1. Modifying classification-like columns so that character (string) values such as 'F' or 'M' become integer values ('F' becomes 0 and 'M' becomes 1). This simplifies data analysis without losing any information.\n",
    "\n",
    "2. Clearing the data of all None or 'U' (undefined) values. This step ensures the data does not contain unrepresentative records. Additionally, for the column 'HOSPDAYS', if there is no value for a certain record, it is replaced by 0.\n",
    "\n",
    "3. Adding suitable constraints and selection criteria:\n",
    "- State Selection: Include only the following states: VA, AZ, ME, MS, MA, LA, CT, AL, NV, KS, IL, FL, MN, TX, MO, NH, and NJ. These states were chosen as they are the most representative in the dataset for the year 2022, ensuring relevant trends and proportions are maintained.\n",
    "- Age Group Selection: Focus on patients aged 50 to 100 years. This age group exhibits a consistent trend regarding mortality rates, making it essential for accurate analysis.\n",
    "- Vaccine Selection: Include only COVID-19 vaccines manufactured by Pfizer/BioNTech or Moderna. This allows the analysis to focus specifically on mRNA vaccines against COVID-19.\n",
    "- Hospital Stay Duration: Limit the maximum number of days a patient spent in the hospital to 30. Records exceeding this duration were found to be unrepresentative, while most records fall within this range.\n",
    "- Report Timing: Restrict the maximum number of days between vaccination and report creation to 90. Reports created more than 90 days after vaccination are unlikely to be related to the vaccination."
   ]
  },
  {
   "cell_type": "code",
   "execution_count": 1,
   "metadata": {},
   "outputs": [
    {
     "name": "stderr",
     "output_type": "stream",
     "text": [
      "/usr/local/lib/python3.12/site-packages/tqdm/auto.py:22: TqdmWarning: IProgress not found. Please update jupyter and ipywidgets. See https://ipywidgets.readthedocs.io/en/stable/user_install.html\n",
      "  from .autonotebook import tqdm as notebook_tqdm\n"
     ]
    }
   ],
   "source": [
    "from cmdstanpy import CmdStanModel\n",
    "import arviz as az\n",
    "import numpy as np\n",
    "import scipy.stats as stats\n",
    "import seaborn as sns\n",
    "import matplotlib.pyplot as plt\n",
    "import pandas as pd"
   ]
  },
  {
   "cell_type": "code",
   "execution_count": 2,
   "metadata": {},
   "outputs": [
    {
     "data": {
      "text/plain": [
       "Index(['VAERS_ID', 'RECVDATE', 'STATE', 'AGE_YRS', 'CAGE_YR', 'CAGE_MO', 'SEX',\n",
       "       'RPT_DATE', 'SYMPTOM_TEXT', 'DIED', 'DATEDIED', 'L_THREAT', 'ER_VISIT',\n",
       "       'HOSPITAL', 'HOSPDAYS', 'X_STAY', 'DISABLE', 'RECOVD', 'VAX_DATE',\n",
       "       'ONSET_DATE', 'NUMDAYS', 'LAB_DATA', 'V_ADMINBY', 'V_FUNDBY',\n",
       "       'OTHER_MEDS', 'CUR_ILL', 'HISTORY', 'PRIOR_VAX', 'SPLTTYPE',\n",
       "       'FORM_VERS', 'TODAYS_DATE', 'BIRTH_DEFECT', 'OFC_VISIT', 'ER_ED_VISIT',\n",
       "       'ALLERGIES', 'VAX_TYPE', 'VAX_MANU', 'VAX_LOT', 'VAX_DOSE_SERIES',\n",
       "       'VAX_ROUTE', 'VAX_SITE', 'VAX_NAME'],\n",
       "      dtype='object')"
      ]
     },
     "execution_count": 2,
     "metadata": {},
     "output_type": "execute_result"
    }
   ],
   "source": [
    "df_data = pd.read_csv(\"../dane/2022VAERSDATA.csv\", encoding='latin1', low_memory=False)\n",
    "df_vax = pd.read_csv(\"../dane/2022VAERSVAX.csv\", encoding='latin1', low_memory=False)\n",
    "df = pd.merge(df_data, df_vax, on='VAERS_ID')\n",
    "df.columns"
   ]
  },
  {
   "cell_type": "code",
   "execution_count": 3,
   "metadata": {},
   "outputs": [
    {
     "name": "stdout",
     "output_type": "stream",
     "text": [
      "<class 'pandas.core.frame.DataFrame'>\n",
      "Int64Index: 283454 entries, 0 to 283453\n",
      "Data columns (total 10 columns):\n",
      " #   Column    Non-Null Count   Dtype  \n",
      "---  ------    --------------   -----  \n",
      " 0   VAERS_ID  283454 non-null  int64  \n",
      " 1   STATE     227998 non-null  object \n",
      " 2   CAGE_YR   214658 non-null  float64\n",
      " 3   SEX       283454 non-null  object \n",
      " 4   DIED      8248 non-null    object \n",
      " 5   HOSPITAL  39676 non-null   object \n",
      " 6   HOSPDAYS  23257 non-null   float64\n",
      " 7   NUMDAYS   228359 non-null  float64\n",
      " 8   VAX_TYPE  283454 non-null  object \n",
      " 9   VAX_MANU  283454 non-null  object \n",
      "dtypes: float64(3), int64(1), object(6)\n",
      "memory usage: 23.8+ MB\n"
     ]
    }
   ],
   "source": [
    "df = df[['VAERS_ID', \"STATE\", \"CAGE_YR\", \"SEX\", \"DIED\", \"HOSPITAL\", \"HOSPDAYS\", \"NUMDAYS\", \"VAX_TYPE\", \"VAX_MANU\"]]\n",
    "df.info()"
   ]
  },
  {
   "cell_type": "code",
   "execution_count": 4,
   "metadata": {},
   "outputs": [
    {
     "name": "stdout",
     "output_type": "stream",
     "text": [
      "<class 'pandas.core.frame.DataFrame'>\n",
      "Int64Index: 173665 entries, 208 to 283453\n",
      "Data columns (total 10 columns):\n",
      " #   Column    Non-Null Count   Dtype  \n",
      "---  ------    --------------   -----  \n",
      " 0   VAERS_ID  173665 non-null  int64  \n",
      " 1   STATE     173665 non-null  object \n",
      " 2   CAGE_YR   173665 non-null  float64\n",
      " 3   SEX       173665 non-null  int64  \n",
      " 4   DIED      173665 non-null  int64  \n",
      " 5   HOSPITAL  173665 non-null  int64  \n",
      " 6   HOSPDAYS  173665 non-null  float64\n",
      " 7   NUMDAYS   173665 non-null  float64\n",
      " 8   VAX_TYPE  173665 non-null  object \n",
      " 9   VAX_MANU  173665 non-null  object \n",
      "dtypes: float64(3), int64(4), object(3)\n",
      "memory usage: 14.6+ MB\n"
     ]
    }
   ],
   "source": [
    "df = df[df[\"SEX\"].isin([\"F\", \"M\"])]\n",
    "df['SEX'] = df['SEX'].apply(lambda x: 1 if x == 'M' else 0)\n",
    "df = df.dropna(subset=[\"STATE\", \"CAGE_YR\", \"NUMDAYS\"])\n",
    "df['DIED'] = df['DIED'].apply(lambda x: 1 if x == 'Y' else 0)\n",
    "df['HOSPITAL'] = df['HOSPITAL'].apply(lambda x: 1 if x == 'Y' else 0)\n",
    "df['HOSPDAYS'] = pd.to_numeric(df['HOSPDAYS'], errors='coerce').fillna(0)\n",
    "\n",
    "df.info()"
   ]
  },
  {
   "cell_type": "code",
   "execution_count": 5,
   "metadata": {},
   "outputs": [
    {
     "data": {
      "text/html": [
       "<div>\n",
       "<style scoped>\n",
       "    .dataframe tbody tr th:only-of-type {\n",
       "        vertical-align: middle;\n",
       "    }\n",
       "\n",
       "    .dataframe tbody tr th {\n",
       "        vertical-align: top;\n",
       "    }\n",
       "\n",
       "    .dataframe thead th {\n",
       "        text-align: right;\n",
       "    }\n",
       "</style>\n",
       "<table border=\"1\" class=\"dataframe\">\n",
       "  <thead>\n",
       "    <tr style=\"text-align: right;\">\n",
       "      <th></th>\n",
       "      <th>VAERS_ID</th>\n",
       "      <th>CAGE_YR</th>\n",
       "      <th>SEX</th>\n",
       "      <th>DIED</th>\n",
       "      <th>HOSPITAL</th>\n",
       "      <th>HOSPDAYS</th>\n",
       "      <th>NUMDAYS</th>\n",
       "    </tr>\n",
       "  </thead>\n",
       "  <tbody>\n",
       "    <tr>\n",
       "      <th>count</th>\n",
       "      <td>1.631600e+04</td>\n",
       "      <td>16316.000000</td>\n",
       "      <td>16316.000000</td>\n",
       "      <td>16316.000000</td>\n",
       "      <td>16316.000000</td>\n",
       "      <td>16316.000000</td>\n",
       "      <td>16316.000000</td>\n",
       "    </tr>\n",
       "    <tr>\n",
       "      <th>mean</th>\n",
       "      <td>2.256706e+06</td>\n",
       "      <td>65.634714</td>\n",
       "      <td>0.361792</td>\n",
       "      <td>0.018142</td>\n",
       "      <td>0.097879</td>\n",
       "      <td>0.416524</td>\n",
       "      <td>15.132079</td>\n",
       "    </tr>\n",
       "    <tr>\n",
       "      <th>std</th>\n",
       "      <td>1.498792e+05</td>\n",
       "      <td>9.937238</td>\n",
       "      <td>0.480534</td>\n",
       "      <td>0.133468</td>\n",
       "      <td>0.297161</td>\n",
       "      <td>2.120104</td>\n",
       "      <td>24.162300</td>\n",
       "    </tr>\n",
       "    <tr>\n",
       "      <th>min</th>\n",
       "      <td>1.997131e+06</td>\n",
       "      <td>50.000000</td>\n",
       "      <td>0.000000</td>\n",
       "      <td>0.000000</td>\n",
       "      <td>0.000000</td>\n",
       "      <td>0.000000</td>\n",
       "      <td>0.000000</td>\n",
       "    </tr>\n",
       "    <tr>\n",
       "      <th>25%</th>\n",
       "      <td>2.131228e+06</td>\n",
       "      <td>58.000000</td>\n",
       "      <td>0.000000</td>\n",
       "      <td>0.000000</td>\n",
       "      <td>0.000000</td>\n",
       "      <td>0.000000</td>\n",
       "      <td>0.000000</td>\n",
       "    </tr>\n",
       "    <tr>\n",
       "      <th>50%</th>\n",
       "      <td>2.257472e+06</td>\n",
       "      <td>65.000000</td>\n",
       "      <td>0.000000</td>\n",
       "      <td>0.000000</td>\n",
       "      <td>0.000000</td>\n",
       "      <td>0.000000</td>\n",
       "      <td>1.000000</td>\n",
       "    </tr>\n",
       "    <tr>\n",
       "      <th>75%</th>\n",
       "      <td>2.372556e+06</td>\n",
       "      <td>72.000000</td>\n",
       "      <td>1.000000</td>\n",
       "      <td>0.000000</td>\n",
       "      <td>0.000000</td>\n",
       "      <td>0.000000</td>\n",
       "      <td>22.000000</td>\n",
       "    </tr>\n",
       "    <tr>\n",
       "      <th>max</th>\n",
       "      <td>2.719846e+06</td>\n",
       "      <td>100.000000</td>\n",
       "      <td>1.000000</td>\n",
       "      <td>1.000000</td>\n",
       "      <td>1.000000</td>\n",
       "      <td>30.000000</td>\n",
       "      <td>90.000000</td>\n",
       "    </tr>\n",
       "  </tbody>\n",
       "</table>\n",
       "</div>"
      ],
      "text/plain": [
       "           VAERS_ID       CAGE_YR           SEX          DIED      HOSPITAL  \\\n",
       "count  1.631600e+04  16316.000000  16316.000000  16316.000000  16316.000000   \n",
       "mean   2.256706e+06     65.634714      0.361792      0.018142      0.097879   \n",
       "std    1.498792e+05      9.937238      0.480534      0.133468      0.297161   \n",
       "min    1.997131e+06     50.000000      0.000000      0.000000      0.000000   \n",
       "25%    2.131228e+06     58.000000      0.000000      0.000000      0.000000   \n",
       "50%    2.257472e+06     65.000000      0.000000      0.000000      0.000000   \n",
       "75%    2.372556e+06     72.000000      1.000000      0.000000      0.000000   \n",
       "max    2.719846e+06    100.000000      1.000000      1.000000      1.000000   \n",
       "\n",
       "           HOSPDAYS       NUMDAYS  \n",
       "count  16316.000000  16316.000000  \n",
       "mean       0.416524     15.132079  \n",
       "std        2.120104     24.162300  \n",
       "min        0.000000      0.000000  \n",
       "25%        0.000000      0.000000  \n",
       "50%        0.000000      1.000000  \n",
       "75%        0.000000     22.000000  \n",
       "max       30.000000     90.000000  "
      ]
     },
     "execution_count": 5,
     "metadata": {},
     "output_type": "execute_result"
    }
   ],
   "source": [
    "######################### STATES #######################\n",
    "df = df[df[\"STATE\"].isin([\"VA\", \"AZ\", \"ME\", \"MS\", \"MA\", \"LA\", \"CT\", \"AL\", \"NV\", \"KS\", \"IL\", \"FL\", \"MN\", \"TX\", \"MO\", \"NH\", \"NJ\"])]\n",
    "\n",
    "######################### AGE ########################\n",
    "df = df[df[\"CAGE_YR\"] >= 50]\n",
    "df = df[df[\"CAGE_YR\"] <= 100]\n",
    "\n",
    "#################### VACCINE TYPE ########################\n",
    "df = df[df[\"VAX_TYPE\"] == 'COVID19']\n",
    "\n",
    "#################### VACCINE MANU ########################\n",
    "df = df[df[\"VAX_MANU\"].isin([\"MODERNA\", r\"PFIZER\\BIONTECH\"])]\n",
    "\n",
    "#################### HOSPDAYS ########################\n",
    "df = df[df[\"HOSPDAYS\"] <= 30]\n",
    "\n",
    "#################### NUMDAYS ########################\n",
    "df = df[df[\"NUMDAYS\"] <= 90]\n",
    "\n",
    "df.describe()"
   ]
  },
  {
   "cell_type": "markdown",
   "metadata": {},
   "source": [
    "## Correlation matrix for data from 2022"
   ]
  },
  {
   "cell_type": "code",
   "execution_count": 6,
   "metadata": {},
   "outputs": [],
   "source": [
    "corr = df[[\"CAGE_YR\", \"SEX\", \"HOSPITAL\", \"HOSPDAYS\", \"NUMDAYS\", \"DIED\"]].corr()"
   ]
  },
  {
   "cell_type": "code",
   "execution_count": 7,
   "metadata": {},
   "outputs": [
    {
     "data": {
      "image/png": "[encoded data removed]",
      "text/plain": [
       "<Figure size 432x432 with 1 Axes>"
      ]
     },
     "metadata": {
      "needs_background": "light"
     },
     "output_type": "display_data"
    }
   ],
   "source": [
    "cor = [\"CAGE_YR\", \"SEX\", \"HOSPITAL\", \"HOSPDAYS\", \"NUMDAYS\", \"DIED\"]\n",
    "\n",
    "fig, ax = plt.subplots(figsize=(6,6))\n",
    "im = ax.imshow(corr)\n",
    "\n",
    "ax.set_xticks(np.arange(len(cor)), labels=cor)\n",
    "ax.set_yticks(np.arange(len(cor)), labels=cor)\n",
    "plt.setp(ax.get_xticklabels(), rotation=45, ha=\"right\",\n",
    "         rotation_mode=\"anchor\")\n",
    "\n",
    "for i in range(len(cor)):\n",
    "    for j in range(len(cor)):\n",
    "        text = ax.text(j, i, f\"{corr.iloc[i, j]:.2f}\",\n",
    "                       ha=\"center\", va=\"center\", color=\"w\")\n",
    "\n",
    "ax.set_title(\"Features Corr\")\n",
    "fig.tight_layout()\n",
    "plt.show()"
   ]
  },
  {
   "cell_type": "markdown",
   "metadata": {},
   "source": [
    "# Preprocessing the data from the article\n",
    "[Age and Gender Disparities in Adverse Events Following COVID-19 Vaccination: Real-World Evidence Based on Big Data for Risk Management](https://www.frontiersin.org/journals/medicine/articles/10.3389/fmed.2021.700014/full)"
   ]
  },
  {
   "cell_type": "code",
   "execution_count": 8,
   "metadata": {},
   "outputs": [],
   "source": [
    "df_data_2020 = pd.read_csv(\"../dane/2020VAERSDATA.csv\", encoding='latin1', low_memory=False)\n",
    "df_vax_2020 = pd.read_csv(\"../dane/2020VAERSVAX.csv\", encoding='latin1', low_memory=False)\n",
    "df_2020 = pd.merge(df_data_2020, df_vax_2020, on='VAERS_ID')\n",
    "df_data_2021 = pd.read_csv(\"../dane/2021VAERSDATA.csv\", encoding='latin1', low_memory=False)\n",
    "df_vax_2021 = pd.read_csv(\"../dane/2021VAERSVAX.csv\", encoding='latin1', low_memory=False)\n",
    "df_2021 = pd.merge(df_data_2021, df_vax_2021, on='VAERS_ID')\n",
    "df_article = pd.concat([df_2020, df_2021])\n",
    "df_article = df_article.set_index('VAERS_ID')"
   ]
  },
  {
   "cell_type": "code",
   "execution_count": 9,
   "metadata": {},
   "outputs": [
    {
     "name": "stdout",
     "output_type": "stream",
     "text": [
      "<class 'pandas.core.frame.DataFrame'>\n",
      "Int64Index: 64921 entries, 901875 to 2642529\n",
      "Data columns (total 9 columns):\n",
      " #   Column    Non-Null Count  Dtype  \n",
      "---  ------    --------------  -----  \n",
      " 0   STATE     52156 non-null  object \n",
      " 1   CAGE_YR   56362 non-null  float64\n",
      " 2   SEX       64921 non-null  object \n",
      " 3   DIED      349 non-null    object \n",
      " 4   HOSPITAL  1044 non-null   object \n",
      " 5   HOSPDAYS  653 non-null    float64\n",
      " 6   NUMDAYS   60416 non-null  float64\n",
      " 7   VAX_TYPE  64921 non-null  object \n",
      " 8   VAX_MANU  64921 non-null  object \n",
      "dtypes: float64(3), object(6)\n",
      "memory usage: 5.0+ MB\n"
     ]
    }
   ],
   "source": [
    "df_article['RECVDATE'] = pd.to_datetime(df_article['RECVDATE'], format='%m/%d/%Y')\n",
    "start_date = '2020-12-14'\n",
    "end_date = '2021-01-22'\n",
    "df_article = df_article[(df_article['RECVDATE'] >= start_date) & (df_article['RECVDATE'] <= end_date)]\n",
    "df_article = df_article[[\"STATE\", \"CAGE_YR\", \"SEX\", \"DIED\", \"HOSPITAL\", \"HOSPDAYS\", \"NUMDAYS\", \"VAX_TYPE\", \"VAX_MANU\"]]\n",
    "df_article.info()"
   ]
  },
  {
   "cell_type": "code",
   "execution_count": 10,
   "metadata": {},
   "outputs": [
    {
     "name": "stdout",
     "output_type": "stream",
     "text": [
      "<class 'pandas.core.frame.DataFrame'>\n",
      "Int64Index: 45649 entries, 901875 to 2642010\n",
      "Data columns (total 9 columns):\n",
      " #   Column    Non-Null Count  Dtype  \n",
      "---  ------    --------------  -----  \n",
      " 0   STATE     45649 non-null  object \n",
      " 1   CAGE_YR   45649 non-null  float64\n",
      " 2   SEX       45649 non-null  int64  \n",
      " 3   DIED      45649 non-null  int64  \n",
      " 4   HOSPITAL  45649 non-null  int64  \n",
      " 5   HOSPDAYS  45649 non-null  float64\n",
      " 6   NUMDAYS   45649 non-null  float64\n",
      " 7   VAX_TYPE  45649 non-null  object \n",
      " 8   VAX_MANU  45649 non-null  object \n",
      "dtypes: float64(3), int64(3), object(3)\n",
      "memory usage: 3.5+ MB\n"
     ]
    }
   ],
   "source": [
    "df_article = df_article[df_article[\"SEX\"].isin([\"F\", \"M\"])]\n",
    "df_article['SEX'] = df_article['SEX'].apply(lambda x: 1 if x == 'M' else 0)\n",
    "df_article = df_article.dropna(subset=[\"STATE\", \"CAGE_YR\", \"NUMDAYS\"])\n",
    "df_article['DIED'] = df_article['DIED'].apply(lambda x: 1 if x == 'Y' else 0)\n",
    "df_article['HOSPITAL'] = df_article['HOSPITAL'].apply(lambda x: 1 if x == 'Y' else 0)\n",
    "df_article['HOSPDAYS'] = pd.to_numeric(df_article['HOSPDAYS'], errors='coerce').fillna(0)\n",
    "df_article = df_article[df_article[\"NUMDAYS\"] <= 90]\n",
    "df_article.info()"
   ]
  },
  {
   "cell_type": "markdown",
   "metadata": {},
   "source": [
    "### Correlation matrix for the data from the article"
   ]
  },
  {
   "cell_type": "code",
   "execution_count": 11,
   "metadata": {},
   "outputs": [
    {
     "data": {
      "image/png": "[encoded data removed]",
      "text/plain": [
       "<Figure size 432x432 with 1 Axes>"
      ]
     },
     "metadata": {
      "needs_background": "light"
     },
     "output_type": "display_data"
    }
   ],
   "source": [
    "corr_article = df_article[[\"CAGE_YR\", \"SEX\", \"HOSPITAL\", \"HOSPDAYS\", \"NUMDAYS\", \"DIED\"]].corr()\n",
    "cor = [\"CAGE_YR\", \"SEX\", \"HOSPITAL\", \"HOSPDAYS\", \"NUMDAYS\", \"DIED\"]\n",
    "\n",
    "fig, ax = plt.subplots(figsize=(6,6))\n",
    "im = ax.imshow(corr_article)\n",
    "ax.set_xticks(np.arange(len(cor)), labels=cor)\n",
    "ax.set_yticks(np.arange(len(cor)), labels=cor)\n",
    "plt.setp(ax.get_xticklabels(), rotation=45, ha=\"right\",\n",
    "         rotation_mode=\"anchor\")\n",
    "for i in range(len(cor)):\n",
    "    for j in range(len(cor)):\n",
    "        text = ax.text(j, i, f\"{corr_article.iloc[i, j]:.2f}\",\n",
    "                       ha=\"center\", va=\"center\", color=\"w\")\n",
    "ax.set_title(\"Features Corr\")\n",
    "fig.tight_layout()\n",
    "plt.show()"
   ]
  },
  {
   "cell_type": "code",
   "execution_count": 12,
   "metadata": {},
   "outputs": [
    {
     "data": {
      "text/html": [
       "<div>\n",
       "<style scoped>\n",
       "    .dataframe tbody tr th:only-of-type {\n",
       "        vertical-align: middle;\n",
       "    }\n",
       "\n",
       "    .dataframe tbody tr th {\n",
       "        vertical-align: top;\n",
       "    }\n",
       "\n",
       "    .dataframe thead th {\n",
       "        text-align: right;\n",
       "    }\n",
       "</style>\n",
       "<table border=\"1\" class=\"dataframe\">\n",
       "  <thead>\n",
       "    <tr style=\"text-align: right;\">\n",
       "      <th></th>\n",
       "      <th>CAGE_YR</th>\n",
       "      <th>SEX</th>\n",
       "      <th>DIED</th>\n",
       "      <th>HOSPITAL</th>\n",
       "      <th>HOSPDAYS</th>\n",
       "      <th>NUMDAYS</th>\n",
       "    </tr>\n",
       "  </thead>\n",
       "  <tbody>\n",
       "    <tr>\n",
       "      <th>count</th>\n",
       "      <td>45649.000000</td>\n",
       "      <td>45649.000000</td>\n",
       "      <td>45649.000000</td>\n",
       "      <td>45649.000000</td>\n",
       "      <td>45649.000000</td>\n",
       "      <td>45649.000000</td>\n",
       "    </tr>\n",
       "    <tr>\n",
       "      <th>mean</th>\n",
       "      <td>45.371837</td>\n",
       "      <td>0.193104</td>\n",
       "      <td>0.006134</td>\n",
       "      <td>0.017613</td>\n",
       "      <td>0.035247</td>\n",
       "      <td>2.026375</td>\n",
       "    </tr>\n",
       "    <tr>\n",
       "      <th>std</th>\n",
       "      <td>16.623778</td>\n",
       "      <td>0.394738</td>\n",
       "      <td>0.078079</td>\n",
       "      <td>0.131540</td>\n",
       "      <td>0.439273</td>\n",
       "      <td>4.233492</td>\n",
       "    </tr>\n",
       "    <tr>\n",
       "      <th>min</th>\n",
       "      <td>0.000000</td>\n",
       "      <td>0.000000</td>\n",
       "      <td>0.000000</td>\n",
       "      <td>0.000000</td>\n",
       "      <td>0.000000</td>\n",
       "      <td>0.000000</td>\n",
       "    </tr>\n",
       "    <tr>\n",
       "      <th>25%</th>\n",
       "      <td>33.000000</td>\n",
       "      <td>0.000000</td>\n",
       "      <td>0.000000</td>\n",
       "      <td>0.000000</td>\n",
       "      <td>0.000000</td>\n",
       "      <td>0.000000</td>\n",
       "    </tr>\n",
       "    <tr>\n",
       "      <th>50%</th>\n",
       "      <td>44.000000</td>\n",
       "      <td>0.000000</td>\n",
       "      <td>0.000000</td>\n",
       "      <td>0.000000</td>\n",
       "      <td>0.000000</td>\n",
       "      <td>1.000000</td>\n",
       "    </tr>\n",
       "    <tr>\n",
       "      <th>75%</th>\n",
       "      <td>57.000000</td>\n",
       "      <td>0.000000</td>\n",
       "      <td>0.000000</td>\n",
       "      <td>0.000000</td>\n",
       "      <td>0.000000</td>\n",
       "      <td>2.000000</td>\n",
       "    </tr>\n",
       "    <tr>\n",
       "      <th>max</th>\n",
       "      <td>104.000000</td>\n",
       "      <td>1.000000</td>\n",
       "      <td>1.000000</td>\n",
       "      <td>1.000000</td>\n",
       "      <td>30.000000</td>\n",
       "      <td>90.000000</td>\n",
       "    </tr>\n",
       "  </tbody>\n",
       "</table>\n",
       "</div>"
      ],
      "text/plain": [
       "            CAGE_YR           SEX          DIED      HOSPITAL      HOSPDAYS  \\\n",
       "count  45649.000000  45649.000000  45649.000000  45649.000000  45649.000000   \n",
       "mean      45.371837      0.193104      0.006134      0.017613      0.035247   \n",
       "std       16.623778      0.394738      0.078079      0.131540      0.439273   \n",
       "min        0.000000      0.000000      0.000000      0.000000      0.000000   \n",
       "25%       33.000000      0.000000      0.000000      0.000000      0.000000   \n",
       "50%       44.000000      0.000000      0.000000      0.000000      0.000000   \n",
       "75%       57.000000      0.000000      0.000000      0.000000      0.000000   \n",
       "max      104.000000      1.000000      1.000000      1.000000     30.000000   \n",
       "\n",
       "            NUMDAYS  \n",
       "count  45649.000000  \n",
       "mean       2.026375  \n",
       "std        4.233492  \n",
       "min        0.000000  \n",
       "25%        0.000000  \n",
       "50%        1.000000  \n",
       "75%        2.000000  \n",
       "max       90.000000  "
      ]
     },
     "execution_count": 12,
     "metadata": {},
     "output_type": "execute_result"
    }
   ],
   "source": [
    "df_article.describe()"
   ]
  },
  {
   "cell_type": "markdown",
   "metadata": {},
   "source": [
    "### 3. Model [0-4 pts] and 4. Priors [0-4 pts]\n",
    "Model:\n",
    "- are two different models specified [1 pt]\n",
    "- are difference between two models explained [1 pt]\n",
    "- is the difference in the models justified (e.g. does adding aditional parameter makes sense? ) [1 pt]\n",
    "- are models sufficiently described (what are formulas, what are parameters, what data are required ) [1 pt]\n",
    "\n",
    "Priors:\n",
    "- Is it explained why particular priors for parameters were selected [1 pt]\n",
    "- Have prior predictive checks been done for parameters (are parameters simulated from priors make sense) [1 pt]\n",
    "- Have prior predictive checks been done for measurements (are measurements simulated from priors make sense) [1 pt]\n",
    "- How prior parameters were selected [1 pt]"
   ]
  },
  {
   "cell_type": "markdown",
   "metadata": {},
   "source": [
    "The concept for developing the model is derived from the article available at: [Age and Gender Disparities in Adverse Events Following COVID-19 Vaccination: Real-World Evidence Based on Big Data for Risk Management](https://www.frontiersin.org/journals/medicine/articles/10.3389/fmed.2021.700014/full)\n",
    "\n",
    "The article analyzes data from the VAERS system covering the period from December 14, 2020, to January 22, 2021. By utilizing the information provided in this article and the corresponding data available on the VAERS website, it is possible to create functions describing mortality probability. Subsequently, using the appropriate coefficient values, two models were developed.\n",
    "\n",
    "As described in section 1:\\\n",
    "The data used to create the models is sourced from the VAERS datasets for the year 2022, available at [VAERS datasets](https://vaers.hhs.gov/data/datasets.html). This data contains reported cases of vaccination adverse reactions in the United States in 2022.\n",
    "\n",
    "### First model\n",
    "\n",
    "The first model uses two predictors:\n",
    "- Patient's age\n",
    "- Patient's sex\n",
    "\n",
    "The mortality probability \\( p \\) for each observation is calculated using the following formula:\n",
    "\n",
    "\n",
    "$p[n] = \\alpha \\cdot \\text{e}^{(\\beta_{\\text{age}} \\cdot \\text{age}[n])} \\cdot ((\\beta_{\\text{sex}})^{\\text{sex}[n]}) / 100$\n",
    "\n",
    "\n",
    "Where:\\\n",
    "$\\alpha \\sim \\text{Normal}(0.0215, 0.003)\\\\$\n",
    "$\\beta_{\\text{age}} \\sim \\text{Normal}(0.0618, 0.001)\\\\$\n",
    "$\\beta_{\\text{sex}} \\sim \\text{Normal}(1.4, 0.02)\\\\$\n",
    "$\\text{age}[n] \\text{ is the age of the patient from n-th record}\\\\$\n",
    "$\\text{sex}[n] \\text{ is the sex of the patient from n-th record, where 0 represents female and 1 represents male}\\\\$\n",
    "\n",
    "\n",
    "The formula ensures that \\( p[n] \\) is within the bounds [0, 1]. If \\( p[n] \\) exceeds 1, it is set to 1. If \\( p[n] \\) is below 0, it is set to 0."
   ]
  },
  {
   "cell_type": "markdown",
   "metadata": {},
   "source": [
    "# Model based on the data from the article - prior analysis"
   ]
  },
  {
   "cell_type": "code",
   "execution_count": 31,
   "metadata": {},
   "outputs": [
    {
     "name": "stderr",
     "output_type": "stream",
     "text": [
      "INFO:cmdstanpy:compiling stan file /root/models/model_1_prior_art.stan to exe file /root/models/model_1_prior_art\n",
      "INFO:cmdstanpy:compiled model executable: /root/models/model_1_prior_art\n",
      "INFO:cmdstanpy:CmdStan start processing\n",
      "chain 1 |\u001b[34m██████████\u001b[0m| 00:02 Sampling completed                    "
     ]
    },
    {
     "name": "stdout",
     "output_type": "stream",
     "text": [
      "                                                                                "
     ]
    },
    {
     "name": "stderr",
     "output_type": "stream",
     "text": [
      "\n",
      "INFO:cmdstanpy:CmdStan done processing.\n"
     ]
    },
    {
     "name": "stdout",
     "output_type": "stream",
     "text": [
      "\n"
     ]
    }
   ],
   "source": [
    "model_ppc_art = CmdStanModel(stan_file='../models/model_1_prior_art.stan')\n",
    "R = 100\n",
    "dict = {\n",
    "        \"N\": len(df_article),\n",
    "        \"sex\": df_article[\"SEX\"],\n",
    "        \"age\": df_article[\"CAGE_YR\"]\n",
    "}\n",
    "\n",
    "sim_data_art = model_ppc_art.sample(data=dict,\n",
    "                        iter_sampling=R,\n",
    "                        iter_warmup=1,\n",
    "                        refresh=R,\n",
    "                        fixed_param=True,\n",
    "                        chains=1)"
   ]
  },
  {
   "cell_type": "code",
   "execution_count": 32,
   "metadata": {},
   "outputs": [],
   "source": [
    "sim_prior_model_1_1 = sim_data_art.draws_pd()\n",
    "\n",
    "death_pred_prior_1_1 = sim_data_art.stan_variable(\"death\")\n",
    "p_1_1 = sim_data_art.stan_variable(\"p\")\n",
    "alpha_1_1 = sim_data_art.stan_variable(\"alpha\")\n",
    "beta_age_1_1 = sim_data_art.stan_variable(\"beta_age\")\n",
    "beta_sex_1_1 = sim_data_art.stan_variable(\"beta_sex\")"
   ]
  },
  {
   "cell_type": "code",
   "execution_count": 33,
   "metadata": {},
   "outputs": [
    {
     "data": {
      "text/plain": [
       "(100, 45649)"
      ]
     },
     "execution_count": 33,
     "metadata": {},
     "output_type": "execute_result"
    }
   ],
   "source": [
    "death_pred_prior_1_1.shape"
   ]
  },
  {
   "cell_type": "code",
   "execution_count": 34,
   "metadata": {},
   "outputs": [],
   "source": [
    "death_pred_mean_art = np.mean(death_pred_prior_1_1, axis=0)\n",
    "p_1_1 = np.mean(p_1_1, axis=0)\n",
    "death_pred_prior_1_1_ = death_pred_prior_1_1.flatten()"
   ]
  },
  {
   "cell_type": "markdown",
   "metadata": {},
   "source": [
    "### Comparing the mortality probability predicted by the model with the probability observed in the actual data (measured in %)."
   ]
  },
  {
   "cell_type": "code",
   "execution_count": 43,
   "metadata": {},
   "outputs": [
    {
     "name": "stdout",
     "output_type": "stream",
     "text": [
      "0.5988959232403778\n",
      "0.6133759775679642\n"
     ]
    }
   ],
   "source": [
    "print(death_pred_mean_art.mean()*100)\n",
    "print(df_article[\"DIED\"].mean()*100)"
   ]
  },
  {
   "cell_type": "markdown",
   "metadata": {},
   "source": [
    "### Histogram of values of mortality probability calculated by the model"
   ]
  },
  {
   "cell_type": "code",
   "execution_count": 36,
   "metadata": {},
   "outputs": [
    {
     "data": {
      "image/png": "[encoded data removed]",
      "text/plain": [
       "<Figure size 432x288 with 1 Axes>"
      ]
     },
     "metadata": {
      "needs_background": "light"
     },
     "output_type": "display_data"
    }
   ],
   "source": [
    "plt.hist(death_pred_mean_art*100,bins=20, density=True)\n",
    "plt.show()"
   ]
  },
  {
   "cell_type": "markdown",
   "metadata": {},
   "source": [
    "### Histogram of the distribution of all the prediction records whether a patient died (1 means that the patient died)"
   ]
  },
  {
   "cell_type": "code",
   "execution_count": 37,
   "metadata": {},
   "outputs": [
    {
     "data": {
      "image/png": "[encoded data removed]",
      "text/plain": [
       "<Figure size 432x288 with 1 Axes>"
      ]
     },
     "metadata": {
      "needs_background": "light"
     },
     "output_type": "display_data"
    }
   ],
   "source": [
    "plt.hist(death_pred_prior_1_1_, density=True)\n",
    "plt.show()"
   ]
  },
  {
   "cell_type": "markdown",
   "metadata": {},
   "source": [
    "## Model 1 - based on the data from 2022 - Prior analysis"
   ]
  },
  {
   "cell_type": "code",
   "execution_count": 38,
   "metadata": {},
   "outputs": [
    {
     "name": "stderr",
     "output_type": "stream",
     "text": [
      "INFO:cmdstanpy:compiling stan file /root/models/model_1_prior_real.stan to exe file /root/models/model_1_prior_real\n",
      "INFO:cmdstanpy:compiled model executable: /root/models/model_1_prior_real\n"
     ]
    }
   ],
   "source": [
    "model_ppc_real = CmdStanModel(stan_file='../models/model_1_prior_real.stan')"
   ]
  },
  {
   "cell_type": "code",
   "execution_count": 39,
   "metadata": {},
   "outputs": [
    {
     "name": "stderr",
     "output_type": "stream",
     "text": [
      "INFO:cmdstanpy:CmdStan start processing\n",
      "chain 1 |\u001b[34m██████████\u001b[0m| 00:09 Sampling completed                      "
     ]
    },
    {
     "name": "stdout",
     "output_type": "stream",
     "text": [
      "                                                                                "
     ]
    },
    {
     "name": "stderr",
     "output_type": "stream",
     "text": [
      "\n",
      "INFO:cmdstanpy:CmdStan done processing.\n"
     ]
    },
    {
     "name": "stdout",
     "output_type": "stream",
     "text": [
      "\n"
     ]
    }
   ],
   "source": [
    "R = 1000\n",
    "dict = {\n",
    "        \"N\": len(df),\n",
    "        \"sex\": df[\"SEX\"],\n",
    "        \"age\": df[\"CAGE_YR\"]\n",
    "}\n",
    "\n",
    "sim_data_real = model_ppc_real.sample(data=dict,\n",
    "                        iter_sampling=R,\n",
    "                        iter_warmup=1,\n",
    "                        refresh=R,\n",
    "                        fixed_param=True,\n",
    "                        chains=1)"
   ]
  },
  {
   "cell_type": "code",
   "execution_count": 40,
   "metadata": {},
   "outputs": [],
   "source": [
    "sim_prior_model_1_2 = sim_data_real.draws_pd()\n",
    "death_pred_prior_1_2 = sim_data_real.stan_variable(\"death\")\n",
    "p_1_2 = sim_data_real.stan_variable(\"p\")\n",
    "alpha_1_2 = sim_data_real.stan_variable(\"alpha\")\n",
    "beta_age_1_2 = sim_data_real.stan_variable(\"beta_age\")\n",
    "beta_sex_1_2 = sim_data_real.stan_variable(\"beta_sex\")"
   ]
  },
  {
   "cell_type": "markdown",
   "metadata": {},
   "source": [
    "### Comparing the mortality probability predicted by the model with the probability observed in the actual data (measured in %)."
   ]
  },
  {
   "cell_type": "code",
   "execution_count": 30,
   "metadata": {},
   "outputs": [
    {
     "name": "stdout",
     "output_type": "stream",
     "text": [
      "1.769398136798235\n",
      "1.8141701397401324\n"
     ]
    }
   ],
   "source": [
    "death_pred_real_1 = np.mean(death_pred_prior_1_2, axis=0)\n",
    "p_1_2 = np.mean(p_1_2, axis=0)\n",
    "print(death_pred_real_1.mean()*100)\n",
    "print(df[\"DIED\"].mean()*100)"
   ]
  },
  {
   "cell_type": "markdown",
   "metadata": {},
   "source": [
    "### Histogram of values of mortality probability calculated by the model"
   ]
  },
  {
   "cell_type": "code",
   "execution_count": 42,
   "metadata": {},
   "outputs": [
    {
     "data": {
      "image/png": "[encoded data removed]",
      "text/plain": [
       "<Figure size 432x288 with 1 Axes>"
      ]
     },
     "metadata": {
      "needs_background": "light"
     },
     "output_type": "display_data"
    }
   ],
   "source": [
    "plt.hist(death_pred_real_1*100, bins=20, density=True)\n",
    "plt.show()"
   ]
  },
  {
   "cell_type": "markdown",
   "metadata": {},
   "source": [
    "## Model 1 - based on the data from 2022- Posterior analysis"
   ]
  },
  {
   "cell_type": "markdown",
   "metadata": {},
   "source": [
    "### 5. Posterior analysis (model 1) [0-4 pts]\n",
    "- were there any issues with the sampling? if there were what kind of ideas for mitigation were used [1 pt]\n",
    "- are the samples from posterior predictive distribution analyzed [1 pt]\n",
    "- are the data consistent with posterior predictive samples and is it sufficiently commented (if they are not then is the justification provided)\n",
    "- have parameter marginal disrtibutions been analyzed (histograms of individual parametes plus summaries, are they diffuse or concentrated, what can we say about values) [1 pt]"
   ]
  },
  {
   "cell_type": "code",
   "execution_count": 44,
   "metadata": {},
   "outputs": [
    {
     "name": "stderr",
     "output_type": "stream",
     "text": [
      "INFO:cmdstanpy:compiling stan file /root/models/model_1_posterior.stan to exe file /root/models/model_1_posterior\n",
      "INFO:cmdstanpy:compiled model executable: /root/models/model_1_posterior\n"
     ]
    }
   ],
   "source": [
    "model_1_posterior = CmdStanModel(stan_file='../models/model_1_posterior.stan')"
   ]
  },
  {
   "cell_type": "code",
   "execution_count": 45,
   "metadata": {},
   "outputs": [
    {
     "name": "stderr",
     "output_type": "stream",
     "text": [
      "INFO:cmdstanpy:CmdStan start processing\n",
      "chain 1 |\u001b[33m          \u001b[0m| 00:00 Status"
     ]
    },
    {
     "name": "stderr",
     "output_type": "stream",
     "text": [
      "\n",
      "\u001b[A\n",
      "\n",
      "chain 1 |\u001b[33m▍         \u001b[0m| 00:00 Status\n",
      "\n",
      "\u001b[A\u001b[A\n",
      "\u001b[A\n",
      "\n",
      "\u001b[A\u001b[A\n",
      "chain 1 |\u001b[33m▉         \u001b[0m| 00:06 Iteration:    1 / 2000 [  0%]  (Warmup)\n",
      "\n",
      "chain 1 |\u001b[33m█▎        \u001b[0m| 00:13 Iteration:  100 / 2000 [  5%]  (Warmup)\n",
      "\n",
      "\u001b[A\u001b[A\n",
      "chain 1 |\u001b[33m█▊        \u001b[0m| 00:18 Iteration:  200 / 2000 [ 10%]  (Warmup)\n",
      "\n",
      "\u001b[A\u001b[A\n",
      "chain 1 |\u001b[33m██▎       \u001b[0m| 00:23 Iteration:  300 / 2000 [ 15%]  (Warmup)\n",
      "\n",
      "\u001b[A\u001b[A\n",
      "\u001b[A\n",
      "\n",
      "chain 1 |\u001b[33m██▋       \u001b[0m| 00:27 Iteration:  400 / 2000 [ 20%]  (Warmup)\n",
      "\n",
      "chain 1 |\u001b[33m███▏      \u001b[0m| 00:31 Iteration:  500 / 2000 [ 25%]  (Warmup)\n",
      "\u001b[A\n",
      "\n",
      "chain 1 |\u001b[33m███▋      \u001b[0m| 00:34 Iteration:  600 / 2000 [ 30%]  (Warmup)\n",
      "\u001b[A\n",
      "\n",
      "chain 1 |\u001b[33m████      \u001b[0m| 00:37 Iteration:  700 / 2000 [ 35%]  (Warmup)\n",
      "\u001b[A\n",
      "\n",
      "chain 1 |\u001b[33m████▌     \u001b[0m| 00:41 Iteration:  800 / 2000 [ 40%]  (Warmup)\n",
      "chain 1 |\u001b[33m█████     \u001b[0m| 00:45 Iteration:  900 / 2000 [ 45%]  (Warmup)\n",
      "\n",
      "\u001b[A\u001b[A\n",
      "chain 1 |\u001b[34m█████▉    \u001b[0m| 00:49 Iteration: 1001 / 2000 [ 50%]  (Sampling)\n",
      "\n",
      "\u001b[A\u001b[A\n",
      "chain 1 |\u001b[34m██████▎   \u001b[0m| 00:54 Iteration: 1100 / 2000 [ 55%]  (Sampling)\n",
      "\n",
      "\u001b[A\u001b[A\n",
      "chain 1 |\u001b[34m██████▊   \u001b[0m| 00:59 Iteration: 1200 / 2000 [ 60%]  (Sampling)\n",
      "\n",
      "\u001b[A\u001b[A\n",
      "chain 1 |\u001b[34m███████▎  \u001b[0m| 01:03 Iteration: 1300 / 2000 [ 65%]  (Sampling)\n",
      "\n",
      "\u001b[A\u001b[A\n",
      "chain 1 |\u001b[34m███████▋  \u001b[0m| 01:08 Iteration: 1400 / 2000 [ 70%]  (Sampling)\n",
      "\n",
      "\u001b[A\u001b[A\n",
      "chain 1 |\u001b[34m████████▏ \u001b[0m| 01:13 Iteration: 1500 / 2000 [ 75%]  (Sampling)\n",
      "\n",
      "\u001b[A\u001b[A\n",
      "chain 1 |\u001b[34m████████▋ \u001b[0m| 01:18 Iteration: 1600 / 2000 [ 80%]  (Sampling)\n",
      "\n",
      "\u001b[A\u001b[A\n",
      "chain 1 |\u001b[34m█████████ \u001b[0m| 01:22 Iteration: 1700 / 2000 [ 85%]  (Sampling)\n",
      "\n",
      "\u001b[A\u001b[A\n",
      "chain 1 |\u001b[34m█████████▌\u001b[0m| 01:27 Iteration: 1800 / 2000 [ 90%]  (Sampling)\n",
      "\n",
      "\u001b[A\u001b[A\n",
      "chain 1 |\u001b[34m██████████\u001b[0m| 01:31 Iteration: 1900 / 2000 [ 95%]  (Sampling)\n",
      "\u001b[A\n",
      "chain 1 |\u001b[34m██████████\u001b[0m| 01:37 Sampling completed                       \n",
      "chain 2 |\u001b[34m██████████\u001b[0m| 01:37 Sampling completed                       \n",
      "chain 3 |\u001b[34m██████████\u001b[0m| 01:37 Sampling completed                       \n",
      "chain 4 |\u001b[34m██████████\u001b[0m| 01:37 Sampling completed                       "
     ]
    },
    {
     "name": "stdout",
     "output_type": "stream",
     "text": [
      "                                                                                                                                                                                                                                                                                                                                "
     ]
    },
    {
     "name": "stderr",
     "output_type": "stream",
     "text": [
      "\n",
      "INFO:cmdstanpy:CmdStan done processing.\n"
     ]
    },
    {
     "name": "stdout",
     "output_type": "stream",
     "text": [
      "\n"
     ]
    }
   ],
   "source": [
    "R = 1000\n",
    "dict = {\n",
    "        \"N\": len(df),\n",
    "        \"age\": df[\"CAGE_YR\"],\n",
    "        \"sex\": df[\"SEX\"],\n",
    "        \"death\": df[\"DIED\"]\n",
    "    }\n",
    "\n",
    "fit = model_1_posterior.sample(data=dict, seed=42)"
   ]
  },
  {
   "cell_type": "code",
   "execution_count": 46,
   "metadata": {},
   "outputs": [],
   "source": [
    "death_pred_posterior = fit.stan_variable(\"death_pred\")"
   ]
  },
  {
   "cell_type": "code",
   "execution_count": 47,
   "metadata": {},
   "outputs": [],
   "source": [
    "death_pred_mean = np.mean(death_pred_posterior, axis=0)\n",
    "death_pred_flat = death_pred_posterior.flatten()"
   ]
  },
  {
   "cell_type": "code",
   "execution_count": 48,
   "metadata": {},
   "outputs": [
    {
     "name": "stdout",
     "output_type": "stream",
     "text": [
      "1.835934052463839\n",
      "1.8141701397401324\n"
     ]
    }
   ],
   "source": [
    "print(death_pred_mean.mean()*100)\n",
    "print(df[\"DIED\"].mean()*100)"
   ]
  },
  {
   "cell_type": "code",
   "execution_count": 49,
   "metadata": {},
   "outputs": [
    {
     "data": {
      "text/plain": [
       "1.0"
      ]
     },
     "execution_count": 49,
     "metadata": {},
     "output_type": "execute_result"
    }
   ],
   "source": [
    "death_pred_posterior.max()"
   ]
  },
  {
   "cell_type": "markdown",
   "metadata": {},
   "source": [
    "### Histogram of values of mortality probability calculated by the model"
   ]
  },
  {
   "cell_type": "code",
   "execution_count": 50,
   "metadata": {},
   "outputs": [
    {
     "data": {
      "image/png": "[encoded data removed]",
      "text/plain": [
       "<Figure size 432x288 with 1 Axes>"
      ]
     },
     "metadata": {
      "needs_background": "light"
     },
     "output_type": "display_data"
    }
   ],
   "source": [
    "plt.hist(death_pred_mean*100, bins=14, density=True, alpha=0.7)\n",
    "# plt.hist(df[\"DIED\"], density=True, alpha=0.5)\n",
    "plt.show()"
   ]
  },
  {
   "cell_type": "markdown",
   "metadata": {},
   "source": [
    "### Histogram of the distribution of all the prediction records whether a patient died (1 means that the patient died)"
   ]
  },
  {
   "cell_type": "code",
   "execution_count": 52,
   "metadata": {},
   "outputs": [
    {
     "data": {
      "image/png": "[encoded data removed]",
      "text/plain": [
       "<Figure size 432x288 with 1 Axes>"
      ]
     },
     "metadata": {
      "needs_background": "light"
     },
     "output_type": "display_data"
    }
   ],
   "source": [
    "plt.hist(death_pred_flat, density=True, alpha=0.7)\n",
    "plt.show()"
   ]
  },
  {
   "cell_type": "code",
   "execution_count": 53,
   "metadata": {},
   "outputs": [
    {
     "data": {
      "image/png": "[encoded data removed]",
      "text/plain": [
       "<Figure size 720x2160 with 3 Axes>"
      ]
     },
     "metadata": {
      "needs_background": "light"
     },
     "output_type": "display_data"
    }
   ],
   "source": [
    "param_names = ['alpha', 'beta_age', 'beta_sex']\n",
    "\n",
    "n_params = len(param_names)\n",
    "n_rows, n_cols = n_params, 1\n",
    "fig, axes = plt.subplots(n_rows, n_cols, figsize=(10*n_cols, 10*n_rows))\n",
    "\n",
    "\n",
    "for i, param_name in enumerate(param_names):\n",
    "    param_values = fit.stan_variable(param_name)\n",
    "\n",
    "    counts, bins, patches = axes[i].hist(param_values.flatten(), bins=50, color='cornflowerblue', edgecolor='royalblue', density=True)\n",
    "\n",
    "    statistics = az.summary(fit, var_names=[param_name], kind='stats', hdi_prob=0.94)\n",
    "\n",
    "    hdi_l = statistics.loc[param_name, 'hdi_3%']\n",
    "    hdi_h = statistics.loc[param_name, 'hdi_97%']\n",
    "    mean = statistics.loc[param_name, 'mean']\n",
    "    \n",
    "    max_count = max(counts)\n",
    "    y_hdi = max_count * 0.1\n",
    "    y_annotate = max_count * 0.15\n",
    "\n",
    "    # Plot HDI line and annotations\n",
    "    axes[i].hlines(y=y_hdi, xmin=hdi_l, xmax=hdi_h, color='black')\n",
    "    axes[i].annotate(f'{hdi_l:.3f}', xy=(hdi_l, y_annotate), xycoords='data', fontsize=12, horizontalalignment='center')\n",
    "    axes[i].annotate(f'{hdi_h:.3f}', xy=(hdi_h, y_annotate), xycoords='data', fontsize=12, horizontalalignment='center')\n",
    "    axes[i].annotate('94% HDI', xy=((hdi_l + hdi_h) / 2, y_annotate), xycoords='data', fontsize=12, horizontalalignment='center')\n",
    "    axes[i].annotate(f'mean={mean:.3f}', xy=(mean, y_annotate * 1.5), xycoords='data', fontsize=12, horizontalalignment='center')\n",
    "    \n",
    "    axes[i].set_title(param_name.upper())\n",
    "    axes[i].set_xlabel(param_name)\n",
    "    axes[i].set_ylabel('Density')\n",
    "\n",
    "fig.tight_layout()\n",
    "plt.show()"
   ]
  },
  {
   "cell_type": "markdown",
   "metadata": {},
   "source": [
    "# Model 2\n",
    "## Article prior"
   ]
  },
  {
   "cell_type": "code",
   "execution_count": 54,
   "metadata": {},
   "outputs": [
    {
     "name": "stderr",
     "output_type": "stream",
     "text": [
      "INFO:cmdstanpy:compiling stan file /root/models/model_2_prior_art.stan to exe file /root/models/model_2_prior_art\n",
      "INFO:cmdstanpy:compiled model executable: /root/models/model_2_prior_art\n"
     ]
    }
   ],
   "source": [
    "model_2_ppc_art = CmdStanModel(stan_file='../models/model_2_prior_art.stan')"
   ]
  },
  {
   "cell_type": "code",
   "execution_count": 55,
   "metadata": {},
   "outputs": [
    {
     "name": "stderr",
     "output_type": "stream",
     "text": [
      "INFO:cmdstanpy:CmdStan start processing\n",
      "chain 1 |\u001b[34m██████████\u001b[0m| 00:26 Sampling completed                      "
     ]
    },
    {
     "name": "stdout",
     "output_type": "stream",
     "text": [
      "                                                                                "
     ]
    },
    {
     "name": "stderr",
     "output_type": "stream",
     "text": [
      "\n",
      "INFO:cmdstanpy:CmdStan done processing.\n"
     ]
    },
    {
     "name": "stdout",
     "output_type": "stream",
     "text": [
      "\n"
     ]
    }
   ],
   "source": [
    "R = 1000\n",
    "dict = {\n",
    "        \"N\": len(df_article),\n",
    "        \"sex\": df_article[\"SEX\"],\n",
    "        \"age\": df_article[\"CAGE_YR\"],\n",
    "        \"hospital_days\" : df_article[\"HOSPDAYS\"]\n",
    "}\n",
    "\n",
    "sim_data_art_2 = model_2_ppc_art.sample(data=dict,\n",
    "                        iter_sampling=R,\n",
    "                        iter_warmup=1,\n",
    "                        refresh=R,\n",
    "                        fixed_param=True,\n",
    "                        chains=1)"
   ]
  },
  {
   "cell_type": "code",
   "execution_count": 56,
   "metadata": {},
   "outputs": [],
   "source": [
    "sim_prior_model_2_1 = sim_data_art_2.draws_pd()\n",
    "\n",
    "death_pred_prior_2_1 = sim_data_art_2.stan_variable(\"death\")\n",
    "p_2_1 = sim_data_art_2.stan_variable(\"p\")\n",
    "a_2 = sim_data_art_2.stan_variable(\"a\")\n",
    "b_2 = sim_data_art_2.stan_variable(\"b\")\n",
    "c_2 = sim_data_art_2.stan_variable(\"c\")\n",
    "d_2 = sim_data_art_2.stan_variable(\"d\")\n",
    "# e_2 = sim_data_art_2.stan_variable(\"e\")\n",
    "f_2 = sim_data_art_2.stan_variable(\"f\")"
   ]
  },
  {
   "cell_type": "code",
   "execution_count": 59,
   "metadata": {},
   "outputs": [],
   "source": [
    "death_pred_mean_2_art = np.mean(death_pred_prior_2_1, axis=0)\n",
    "death_pred_prior_2_1_ = death_pred_prior_2_1.flatten()"
   ]
  },
  {
   "cell_type": "code",
   "execution_count": 60,
   "metadata": {},
   "outputs": [
    {
     "name": "stdout",
     "output_type": "stream",
     "text": [
      "0.005804114000306688\n",
      "0.006133759775679643\n"
     ]
    }
   ],
   "source": [
    "print(death_pred_mean_2_art.mean())\n",
    "print(df_article[\"DIED\"].mean())"
   ]
  },
  {
   "cell_type": "code",
   "execution_count": 61,
   "metadata": {},
   "outputs": [
    {
     "data": {
      "image/png": "[encoded data removed]",
      "text/plain": [
       "<Figure size 432x288 with 1 Axes>"
      ]
     },
     "metadata": {
      "needs_background": "light"
     },
     "output_type": "display_data"
    }
   ],
   "source": [
    "plt.hist(death_pred_mean_2_art*100, bins=20, density=True)\n",
    "plt.show()"
   ]
  },
  {
   "cell_type": "code",
   "execution_count": 62,
   "metadata": {},
   "outputs": [
    {
     "data": {
      "image/png": "[encoded data removed]",
      "text/plain": [
       "<Figure size 432x288 with 1 Axes>"
      ]
     },
     "metadata": {
      "needs_background": "light"
     },
     "output_type": "display_data"
    }
   ],
   "source": [
    "plt.hist(death_pred_prior_2_1_*100, density=True)\n",
    "plt.show()"
   ]
  },
  {
   "cell_type": "markdown",
   "metadata": {},
   "source": [
    "## Model 2 - based on the data from 2022 - Prior analysis"
   ]
  },
  {
   "cell_type": "markdown",
   "metadata": {},
   "source": [
    "The second model extends the first model by adding a new parameter:\n",
    "\n",
    "Number of days patient spent in hospital\n",
    "The mortality probability 𝑝[n] for each observation is calculated using the following formula:\n",
    "\n",
    "$$\n",
    "p[n] = \\alpha \\cdot \\text{e}^{(\\beta_{\\text{age}} \\cdot \\text{age}[n])} \\cdot ((\\beta_{\\text{sex}})^{\\text{sex}[n]}) \\cdot \\left( \\delta \\cdot \\text{e}^{-\\frac{(\\text{hospital\\_days}[n] - 14)^2}{2\\phi^2}} \\right) / 100\n",
    "$$\n",
    "\n",
    "Where:\\\n",
    "$\\alpha \\sim \\text{Normal}(0.0215, 0.003)\\\\$\n",
    "$\\beta_{\\text{age}} \\sim \\text{Normal}(0.0618, 0.001)\\\\$\n",
    "$\\beta_{\\text{sex}} \\sim \\text{Normal}(1.4, 0.02)\\\\$\n",
    "$\\delta \\sim \\text{Normal}(9.4, 0.5)\\\\$\n",
    "$\\phi \\sim \\text{Normal}(6.2, 0.3)\\\\$\n",
    "$\\text{age}[n] \\text{ is the age of the patient from n-th record}\\\\$\n",
    "$\\text{sex}[n] \\text{ is the sex of the patient from n-th record, where 0 represents female and 1 represents male}\\\\$\n",
    "$\\text{hospital\\_days}[n] \\text{ is the number of days the patient spent in the hospital from n-th record}\\\\$\n",
    "\n",
    "\n",
    "The formula ensures that \\( p[n] \\) is within the bounds [0, 1]. If \\( p[n] \\) exceeds 1, it is set to 1. If \\( p[n] \\) is below 0, it is set to 0."
   ]
  },
  {
   "cell_type": "code",
   "execution_count": 87,
   "metadata": {},
   "outputs": [
    {
     "name": "stderr",
     "output_type": "stream",
     "text": [
      "INFO:cmdstanpy:compiling stan file /root/models/model_2_prior_real.stan to exe file /root/models/model_2_prior_real\n",
      "INFO:cmdstanpy:compiled model executable: /root/models/model_2_prior_real\n"
     ]
    }
   ],
   "source": [
    "model_2_ppc_real = CmdStanModel(stan_file='../models/model_2_prior_real.stan')"
   ]
  },
  {
   "cell_type": "code",
   "execution_count": 90,
   "metadata": {},
   "outputs": [
    {
     "name": "stderr",
     "output_type": "stream",
     "text": [
      "INFO:cmdstanpy:CmdStan start processing\n",
      "chain 1 |\u001b[33m          \u001b[0m| 00:00 Status"
     ]
    },
    {
     "name": "stderr",
     "output_type": "stream",
     "text": [
      "chain 1 |\u001b[34m██████████\u001b[0m| 00:09 Sampling completed                      "
     ]
    },
    {
     "name": "stdout",
     "output_type": "stream",
     "text": [
      "                                                                                "
     ]
    },
    {
     "name": "stderr",
     "output_type": "stream",
     "text": [
      "\n",
      "INFO:cmdstanpy:CmdStan done processing.\n"
     ]
    },
    {
     "name": "stdout",
     "output_type": "stream",
     "text": [
      "\n"
     ]
    }
   ],
   "source": [
    "R = 1000\n",
    "dict = {\n",
    "        \"N\": len(df),\n",
    "        \"sex\": df[\"SEX\"],\n",
    "        \"age\": df[\"CAGE_YR\"],\n",
    "        \"hospital_days\" : df[\"HOSPDAYS\"]\n",
    "}\n",
    "\n",
    "sim_data_real_2 = model_2_ppc_real.sample(data=dict,\n",
    "                        iter_sampling=R,\n",
    "                        iter_warmup=1,\n",
    "                        refresh=R,\n",
    "                        fixed_param=True,\n",
    "                        chains=1)"
   ]
  },
  {
   "cell_type": "code",
   "execution_count": 91,
   "metadata": {},
   "outputs": [],
   "source": [
    "sim_prior_model_2_2 = sim_data_real_2.draws_pd()\n",
    "\n",
    "death_pred_prior_2_2 = sim_data_real_2.stan_variable(\"death\")\n",
    "p_2_2 = sim_data_real_2.stan_variable(\"p\")\n",
    "a_2_2 = sim_data_real_2.stan_variable(\"a\")\n",
    "b_2_2 = sim_data_real_2.stan_variable(\"b\")\n",
    "c_2_2 = sim_data_real_2.stan_variable(\"c\")\n",
    "d_2_2 = sim_data_real_2.stan_variable(\"d\")\n",
    "f_2_2 = sim_data_real_2.stan_variable(\"f\")"
   ]
  },
  {
   "cell_type": "markdown",
   "metadata": {},
   "source": [
    "### Comparing the mortality probability predicted by the model with the probability observed in the actual data (measured in %)."
   ]
  },
  {
   "cell_type": "code",
   "execution_count": 94,
   "metadata": {},
   "outputs": [
    {
     "name": "stdout",
     "output_type": "stream",
     "text": [
      "0.018034076979651877\n",
      "0.018141701397401323\n"
     ]
    }
   ],
   "source": [
    "death_pred_real_2_mean = np.mean(death_pred_prior_2_2, axis=0)\n",
    "death_pred_real_2_flat = death_pred_prior_2_2.flatten()\n",
    "p_2_2 = np.mean(p_2_2, axis=0)\n",
    "print(death_pred_real_2_mean.mean())\n",
    "print(df[\"DIED\"].mean())"
   ]
  },
  {
   "cell_type": "code",
   "execution_count": 108,
   "metadata": {},
   "outputs": [
    {
     "data": {
      "text/plain": [
       "0.875"
      ]
     },
     "execution_count": 108,
     "metadata": {},
     "output_type": "execute_result"
    }
   ],
   "source": [
    "death_pred_real_2_mean.max()"
   ]
  },
  {
   "cell_type": "code",
   "execution_count": 122,
   "metadata": {},
   "outputs": [
    {
     "data": {
      "text/plain": [
       "13"
      ]
     },
     "execution_count": 122,
     "metadata": {},
     "output_type": "execute_result"
    }
   ],
   "source": [
    "new = [el>=0.5 for el in death_pred_real_2_mean]\n",
    "sum(new)"
   ]
  },
  {
   "cell_type": "markdown",
   "metadata": {},
   "source": [
    "### Confusion matrix"
   ]
  },
  {
   "cell_type": "code",
   "execution_count": 123,
   "metadata": {},
   "outputs": [
    {
     "data": {
      "image/png": "[encoded data removed]",
      "text/plain": [
       "<Figure size 576x432 with 1 Axes>"
      ]
     },
     "metadata": {
      "needs_background": "light"
     },
     "output_type": "display_data"
    }
   ],
   "source": [
    "from sklearn.metrics import  roc_curve, auc ,accuracy_score, precision_score, recall_score, f1_score, confusion_matrix\n",
    "\n",
    "accuracy = accuracy_score(df['DIED'], new)\n",
    "precision = precision_score(df['DIED'], new)\n",
    "recall = recall_score(df[\"DIED\"], new)\n",
    "f1 = f1_score(df[\"DIED\"], new)\n",
    "\n",
    "conf_matrix = confusion_matrix(df[\"DIED\"], new)\n",
    "plt.figure(figsize=(8, 6))\n",
    "sns.heatmap(conf_matrix, annot=True, fmt='d', cmap='Blues', cbar=False)\n",
    "plt.title('Confusion matrix')\n",
    "plt.xlabel('Predicted')\n",
    "plt.ylabel('Actual')\n",
    "plt.show()"
   ]
  },
  {
   "cell_type": "markdown",
   "metadata": {},
   "source": [
    "### Histogram of values of mortality probability calculated by the model"
   ]
  },
  {
   "cell_type": "code",
   "execution_count": 96,
   "metadata": {},
   "outputs": [
    {
     "data": {
      "image/png": "[encoded data removed]",
      "text/plain": [
       "<Figure size 432x288 with 1 Axes>"
      ]
     },
     "metadata": {
      "needs_background": "light"
     },
     "output_type": "display_data"
    }
   ],
   "source": [
    "plt.hist(death_pred_real_2_mean*100, bins=20, density=True)\n",
    "plt.show()"
   ]
  },
  {
   "cell_type": "markdown",
   "metadata": {},
   "source": [
    "### Histogram of the distribution of all the prediction records whether a patient died (1 means that the patient died)"
   ]
  },
  {
   "cell_type": "code",
   "execution_count": 97,
   "metadata": {},
   "outputs": [
    {
     "data": {
      "image/png": "[encoded data removed]",
      "text/plain": [
       "<Figure size 432x288 with 1 Axes>"
      ]
     },
     "metadata": {
      "needs_background": "light"
     },
     "output_type": "display_data"
    }
   ],
   "source": [
    "plt.hist(death_pred_real_2_flat, density=True)\n",
    "plt.show()"
   ]
  },
  {
   "cell_type": "markdown",
   "metadata": {},
   "source": [
    "## Model 2 - based on the data from 2022- Posterior analysis"
   ]
  },
  {
   "cell_type": "markdown",
   "metadata": {},
   "source": [
    "### 6. Posterior analysis (model 2) [0-4 pts]\n",
    "- were there any issues with the sampling? if there were what kind of ideas for mitigation were used [1 pt]\n",
    "- are the samples from posterior predictive distribution analyzed [1 pt]\n",
    "- are the data consistent with posterior predictive samples and is it sufficiently commented (if they are not then is the justification provided)\n",
    "- have parameter marginal disrtibutions been analyzed (histograms of individual parametes plus summaries, are they diffuse or concentrated, what can we say about values) [1 pt]"
   ]
  },
  {
   "cell_type": "code",
   "execution_count": 98,
   "metadata": {},
   "outputs": [
    {
     "name": "stderr",
     "output_type": "stream",
     "text": [
      "INFO:cmdstanpy:compiling stan file /root/models/model_2_posterior.stan to exe file /root/models/model_2_posterior\n",
      "INFO:cmdstanpy:compiled model executable: /root/models/model_2_posterior\n"
     ]
    }
   ],
   "source": [
    "model_2_posterior = CmdStanModel(stan_file='../models/model_2_posterior.stan')"
   ]
  },
  {
   "cell_type": "code",
   "execution_count": 99,
   "metadata": {},
   "outputs": [
    {
     "name": "stderr",
     "output_type": "stream",
     "text": [
      "INFO:cmdstanpy:CmdStan start processing\n"
     ]
    },
    {
     "name": "stderr",
     "output_type": "stream",
     "text": [
      "chain 1 |\u001b[33m          \u001b[0m| 00:00 Status\n",
      "\u001b[A\n",
      "\n",
      "chain 1 |\u001b[33m▍         \u001b[0m| 00:00 Status\n",
      "\u001b[A\n",
      "\n",
      "\u001b[A\u001b[A\n",
      "\n",
      "\u001b[A\u001b[A\n",
      "chain 1 |\u001b[33m▉         \u001b[0m| 00:05 Iteration:    1 / 2000 [  0%]  (Warmup)\n",
      "\u001b[A\n",
      "\n",
      "chain 1 |\u001b[33m█▎        \u001b[0m| 00:11 Iteration:  100 / 2000 [  5%]  (Warmup)\n",
      "chain 1 |\u001b[33m██▋       \u001b[0m| 00:27 Iteration:  400 / 2000 [ 20%]  (Warmup)\n",
      "\n",
      "\u001b[A\u001b[A\n",
      "chain 1 |\u001b[33m███▏      \u001b[0m| 01:42 Iteration:  500 / 2000 [ 25%]  (Warmup)\n",
      "\n",
      "\u001b[A\u001b[A\n",
      "\u001b[A\n",
      "\n",
      "\u001b[A\u001b[A\n",
      "\u001b[A\n",
      "\n",
      "\u001b[A\u001b[A\n",
      "\n",
      "\u001b[A\u001b[A\n",
      "\n",
      "\u001b[A\u001b[A\n",
      "\n",
      "\u001b[A\u001b[A\n",
      "\u001b[A\n",
      "\n",
      "\u001b[A\u001b[A\n",
      "\n",
      "\u001b[A\u001b[A\n",
      "\n",
      "\u001b[A\u001b[A\n",
      "\u001b[A\n",
      "\n",
      "\u001b[A\u001b[A\n",
      "\n",
      "\u001b[A\u001b[A\n",
      "\u001b[A\n",
      "\n",
      "\u001b[A\u001b[A\n",
      "\u001b[A\n",
      "\n",
      "\u001b[A\u001b[A\n",
      "chain 1 |\u001b[33m███▋      \u001b[0m| 10:32 Iteration:  600 / 2000 [ 30%]  (Warmup)\n",
      "\u001b[A\n",
      "\n",
      "\u001b[A\u001b[A\n",
      "\u001b[A\n",
      "\n",
      "\u001b[A\u001b[A\n",
      "\u001b[A\n",
      "\u001b[A\n",
      "\n",
      "\u001b[A\u001b[A\n",
      "\u001b[A\n",
      "\n",
      "\u001b[A\u001b[A\n",
      "\u001b[A\n",
      "\u001b[A\n",
      "\n",
      "\u001b[A\u001b[A\n",
      "\u001b[A\n",
      "chain 1 |\u001b[34m██████████\u001b[0m| 22:17 Sampling completed                       \n",
      "chain 2 |\u001b[34m██████████\u001b[0m| 22:17 Sampling completed                       \n",
      "chain 3 |\u001b[34m██████████\u001b[0m| 22:17 Sampling completed                       \n",
      "chain 4 |\u001b[34m██████████\u001b[0m| 22:17 Sampling completed                       "
     ]
    },
    {
     "name": "stdout",
     "output_type": "stream",
     "text": [
      "                                                                                                                                                                                                                                                                                                                                "
     ]
    },
    {
     "name": "stderr",
     "output_type": "stream",
     "text": [
      "\n",
      "INFO:cmdstanpy:CmdStan done processing.\n"
     ]
    },
    {
     "name": "stdout",
     "output_type": "stream",
     "text": [
      "\n"
     ]
    }
   ],
   "source": [
    "R = 1000\n",
    "dict = {\n",
    "        \"N\": len(df),\n",
    "        \"age\": df[\"CAGE_YR\"],\n",
    "        \"sex\": df[\"SEX\"],\n",
    "        \"hospital_days\": df[\"HOSPDAYS\"],\n",
    "        \"death\": df[\"DIED\"]\n",
    "    }\n",
    "\n",
    "fit_2 = model_2_posterior.sample(data=dict, seed=42)"
   ]
  },
  {
   "cell_type": "code",
   "execution_count": 101,
   "metadata": {},
   "outputs": [],
   "source": [
    "death_pred_posterior_2 = fit_2.stan_variable(\"death_pred\")"
   ]
  },
  {
   "cell_type": "code",
   "execution_count": 102,
   "metadata": {},
   "outputs": [],
   "source": [
    "death_pred_mean_2 = np.mean(death_pred_posterior_2, axis=0)\n",
    "death_pred_flat_2 = death_pred_posterior_2.flatten()"
   ]
  },
  {
   "cell_type": "code",
   "execution_count": 103,
   "metadata": {},
   "outputs": [
    {
     "name": "stdout",
     "output_type": "stream",
     "text": [
      "1.4048234861485658\n",
      "1.8141701397401324\n"
     ]
    }
   ],
   "source": [
    "print(death_pred_mean_2.mean()*100)\n",
    "print(df[\"DIED\"].mean()*100)"
   ]
  },
  {
   "cell_type": "code",
   "execution_count": 124,
   "metadata": {},
   "outputs": [
    {
     "data": {
      "text/plain": [
       "15"
      ]
     },
     "execution_count": 124,
     "metadata": {},
     "output_type": "execute_result"
    }
   ],
   "source": [
    "new_2 = [el>=0.5 for el in death_pred_mean_2]\n",
    "sum(new_2)"
   ]
  },
  {
   "cell_type": "code",
   "execution_count": 125,
   "metadata": {},
   "outputs": [
    {
     "data": {
      "image/png": "[encoded data removed]",
      "text/plain": [
       "<Figure size 576x432 with 1 Axes>"
      ]
     },
     "metadata": {
      "needs_background": "light"
     },
     "output_type": "display_data"
    }
   ],
   "source": [
    "accuracy = accuracy_score(df['DIED'], new_2)\n",
    "precision = precision_score(df['DIED'], new_2)\n",
    "recall = recall_score(df[\"DIED\"], new_2)\n",
    "f1 = f1_score(df[\"DIED\"], new_2)\n",
    "\n",
    "conf_matrix = confusion_matrix(df[\"DIED\"], new_2)\n",
    "plt.figure(figsize=(8, 6))\n",
    "sns.heatmap(conf_matrix, annot=True, fmt='d', cmap='Blues', cbar=False)\n",
    "plt.title('Confusion matrix')\n",
    "plt.xlabel('Predicted')\n",
    "plt.ylabel('Actual')\n",
    "plt.show()"
   ]
  },
  {
   "cell_type": "code",
   "execution_count": 104,
   "metadata": {},
   "outputs": [
    {
     "data": {
      "image/png": "[encoded data removed]",
      "text/plain": [
       "<Figure size 432x288 with 1 Axes>"
      ]
     },
     "metadata": {
      "needs_background": "light"
     },
     "output_type": "display_data"
    }
   ],
   "source": [
    "plt.hist(death_pred_mean_2*100, bins=14, density=True, alpha=0.7)\n",
    "# plt.hist(df[\"DIED\"], density=True, alpha=0.5)\n",
    "plt.show()"
   ]
  },
  {
   "cell_type": "code",
   "execution_count": 105,
   "metadata": {},
   "outputs": [
    {
     "data": {
      "image/png": "[encoded data removed]",
      "text/plain": [
       "<Figure size 432x288 with 1 Axes>"
      ]
     },
     "metadata": {
      "needs_background": "light"
     },
     "output_type": "display_data"
    }
   ],
   "source": [
    "plt.hist(death_pred_flat_2, density=True, alpha=0.7)\n",
    "plt.show()"
   ]
  },
  {
   "cell_type": "code",
   "execution_count": 107,
   "metadata": {},
   "outputs": [
    {
     "data": {
      "image/png": "[encoded data removed]",
      "text/plain": [
       "<Figure size 720x3600 with 5 Axes>"
      ]
     },
     "metadata": {
      "needs_background": "light"
     },
     "output_type": "display_data"
    }
   ],
   "source": [
    "param_names = ['a', 'b', 'c', 'd', 'f']\n",
    "\n",
    "n_params = len(param_names)\n",
    "n_rows, n_cols = n_params, 1\n",
    "fig, axes = plt.subplots(n_rows, n_cols, figsize=(10*n_cols, 10*n_rows))\n",
    "\n",
    "\n",
    "for i, param_name in enumerate(param_names):\n",
    "    param_values = fit_2.stan_variable(param_name)\n",
    "\n",
    "    counts, bins, patches = axes[i].hist(param_values.flatten(), bins=50, color='cornflowerblue', edgecolor='royalblue', density=True)\n",
    "\n",
    "    statistics = az.summary(fit_2, var_names=[param_name], kind='stats', hdi_prob=0.94)\n",
    "\n",
    "    hdi_l = statistics.loc[param_name, 'hdi_3%']\n",
    "    hdi_h = statistics.loc[param_name, 'hdi_97%']\n",
    "    mean = statistics.loc[param_name, 'mean']\n",
    "    \n",
    "    max_count = max(counts)\n",
    "    y_hdi = max_count * 0.1\n",
    "    y_annotate = max_count * 0.15\n",
    "\n",
    "    # Plot HDI line and annotations\n",
    "    axes[i].hlines(y=y_hdi, xmin=hdi_l, xmax=hdi_h, color='black')\n",
    "    axes[i].annotate(f'{hdi_l:.3f}', xy=(hdi_l, y_annotate), xycoords='data', fontsize=12, horizontalalignment='center')\n",
    "    axes[i].annotate(f'{hdi_h:.3f}', xy=(hdi_h, y_annotate), xycoords='data', fontsize=12, horizontalalignment='center')\n",
    "    axes[i].annotate('94% HDI', xy=((hdi_l + hdi_h) / 2, y_annotate), xycoords='data', fontsize=12, horizontalalignment='center')\n",
    "    axes[i].annotate(f'mean={mean:.3f}', xy=(mean, y_annotate * 1.5), xycoords='data', fontsize=12, horizontalalignment='center')\n",
    "    \n",
    "    axes[i].set_title(param_name.upper())\n",
    "    axes[i].set_xlabel(param_name)\n",
    "    axes[i].set_ylabel('Density')\n",
    "\n",
    "fig.tight_layout()\n",
    "plt.show()"
   ]
  },
  {
   "cell_type": "markdown",
   "metadata": {},
   "source": [
    "# Model 3"
   ]
  },
  {
   "cell_type": "code",
   "execution_count": 130,
   "metadata": {},
   "outputs": [
    {
     "name": "stderr",
     "output_type": "stream",
     "text": [
      "INFO:cmdstanpy:found newer exe file, not recompiling\n"
     ]
    }
   ],
   "source": [
    "model_3_posterior = CmdStanModel(stan_file='../models/model_2_posterior.stan')"
   ]
  },
  {
   "cell_type": "code",
   "execution_count": 131,
   "metadata": {},
   "outputs": [
    {
     "name": "stderr",
     "output_type": "stream",
     "text": [
      "INFO:cmdstanpy:CmdStan start processing\n",
      "chain 1 |\u001b[33m          \u001b[0m| 00:00 Status\n",
      "\u001b[A\n",
      "\n",
      "chain 1 |\u001b[33m▊         \u001b[0m| 00:00 Status\n",
      "\u001b[A\n",
      "\n",
      "\u001b[A\u001b[A\n",
      "\n",
      "\u001b[A\u001b[A\n",
      "chain 1 |\u001b[33m█▋        \u001b[0m| 00:05 Iteration:   1 / 1000 [  0%]  (Warmup)\n",
      "\u001b[A\n",
      "\n",
      "chain 1 |\u001b[33m██▌       \u001b[0m| 00:12 Iteration: 100 / 1000 [ 10%]  (Warmup)\n",
      "chain 1 |\u001b[34m█████▊    \u001b[0m| 00:29 Iteration: 500 / 1000 [ 50%]  (Warmup)\n",
      "\n",
      "\u001b[A\u001b[A\n",
      "chain 1 |\u001b[34m██████▋   \u001b[0m| 05:28 Iteration: 501 / 1000 [ 50%]  (Sampling)\n",
      "\n",
      "\u001b[A\u001b[A\n",
      "\u001b[A\n",
      "\u001b[A\n",
      "\n",
      "\u001b[A\u001b[A\n",
      "\n",
      "\u001b[A\u001b[A\n",
      "\n",
      "\u001b[A\u001b[A\n",
      "\u001b[A\n",
      "\n",
      "\u001b[A\u001b[A\n",
      "\n",
      "\u001b[A\u001b[A\n",
      "\n",
      "\u001b[A\u001b[A\n",
      "\n",
      "\u001b[A\u001b[A\n",
      "\u001b[A\n",
      "\u001b[A\n",
      "\u001b[A\n",
      "chain 1 |\u001b[34m██████████\u001b[0m| 28:42 Sampling completed                      \n",
      "chain 2 |\u001b[34m██████████\u001b[0m| 28:42 Sampling completed                      \n",
      "chain 3 |\u001b[34m██████████\u001b[0m| 28:42 Sampling completed                      \n",
      "chain 4 |\u001b[34m██████████\u001b[0m| 28:42 Sampling completed                      "
     ]
    },
    {
     "name": "stdout",
     "output_type": "stream",
     "text": [
      "                                                                                                                                                                                                                                                                                                                                "
     ]
    },
    {
     "name": "stderr",
     "output_type": "stream",
     "text": [
      "\n",
      "INFO:cmdstanpy:CmdStan done processing.\n"
     ]
    },
    {
     "name": "stdout",
     "output_type": "stream",
     "text": [
      "\n"
     ]
    }
   ],
   "source": [
    "R = 1000\n",
    "dict = {\n",
    "        \"N\": len(df),\n",
    "        \"age\": df[\"CAGE_YR\"],\n",
    "        \"sex\": df[\"SEX\"],\n",
    "        \"hospital_days\": df[\"HOSPDAYS\"],\n",
    "        \"death\": df[\"DIED\"]\n",
    "    }\n",
    "\n",
    "fit_3 = model_3_posterior.sample(data=dict, seed=42, iter_sampling=500, iter_warmup=500, chains=4, parallel_chains=4, refresh=100)"
   ]
  },
  {
   "cell_type": "code",
   "execution_count": 132,
   "metadata": {},
   "outputs": [
    {
     "data": {
      "image/png": "[encoded data removed]",
      "text/plain": [
       "<Figure size 720x3600 with 5 Axes>"
      ]
     },
     "metadata": {
      "needs_background": "light"
     },
     "output_type": "display_data"
    }
   ],
   "source": [
    "param_names = ['a', 'b', 'c', 'd', 'f']\n",
    "\n",
    "n_params = len(param_names)\n",
    "n_rows, n_cols = n_params, 1\n",
    "fig, axes = plt.subplots(n_rows, n_cols, figsize=(10*n_cols, 10*n_rows))\n",
    "\n",
    "\n",
    "for i, param_name in enumerate(param_names):\n",
    "    param_values = fit_3.stan_variable(param_name)\n",
    "\n",
    "    counts, bins, patches = axes[i].hist(param_values.flatten(), bins=50, color='cornflowerblue', edgecolor='royalblue', density=True)\n",
    "\n",
    "    statistics = az.summary(fit_3, var_names=[param_name], kind='stats', hdi_prob=0.94)\n",
    "\n",
    "    hdi_l = statistics.loc[param_name, 'hdi_3%']\n",
    "    hdi_h = statistics.loc[param_name, 'hdi_97%']\n",
    "    mean = statistics.loc[param_name, 'mean']\n",
    "    \n",
    "    max_count = max(counts)\n",
    "    y_hdi = max_count * 0.1\n",
    "    y_annotate = max_count * 0.15\n",
    "\n",
    "    # Plot HDI line and annotations\n",
    "    axes[i].hlines(y=y_hdi, xmin=hdi_l, xmax=hdi_h, color='black')\n",
    "    axes[i].annotate(f'{hdi_l:.3f}', xy=(hdi_l, y_annotate), xycoords='data', fontsize=12, horizontalalignment='center')\n",
    "    axes[i].annotate(f'{hdi_h:.3f}', xy=(hdi_h, y_annotate), xycoords='data', fontsize=12, horizontalalignment='center')\n",
    "    axes[i].annotate('94% HDI', xy=((hdi_l + hdi_h) / 2, y_annotate), xycoords='data', fontsize=12, horizontalalignment='center')\n",
    "    axes[i].annotate(f'mean={mean:.3f}', xy=(mean, y_annotate * 1.5), xycoords='data', fontsize=12, horizontalalignment='center')\n",
    "    \n",
    "    axes[i].set_title(param_name.upper())\n",
    "    axes[i].set_xlabel(param_name)\n",
    "    axes[i].set_ylabel('Density')\n",
    "\n",
    "fig.tight_layout()\n",
    "plt.show()"
   ]
  },
  {
   "cell_type": "markdown",
   "metadata": {},
   "source": [
    "# Models comparison"
   ]
  },
  {
   "cell_type": "markdown",
   "metadata": {},
   "source": [
    "### 7. Model comaprison [0-4 pts]\n",
    "- have models been compared using information criteria [1 pt]\n",
    "- have result for WAIC been discussed (is there a clear winner, or is there an overlap, were there any warnings) [1 pt]\n",
    "- have result for PSIS-LOO been discussed (is there a clear winner, or is there an overlap, were there any warnings) [1 pt]\n",
    "- what the model comparison discussed? Do authors agree with information criteria? Why in your opinion one model better than another [1 pt]"
   ]
  },
  {
   "cell_type": "code",
   "execution_count": 128,
   "metadata": {},
   "outputs": [
    {
     "data": {
      "text/plain": [
       "<AxesSubplot:xlabel='Deviance'>"
      ]
     },
     "execution_count": 128,
     "metadata": {},
     "output_type": "execute_result"
    },
    {
     "data": {
      "image/png": "[encoded data removed]",
      "text/plain": [
       "<Figure size 432x144 with 1 Axes>"
      ]
     },
     "metadata": {
      "needs_background": "light"
     },
     "output_type": "display_data"
    }
   ],
   "source": [
    "comp_dict = {\"model 1\":fit, \"model 2\": fit_2}\n",
    "comp_loo = az.compare(comp_dict, ic=\"loo\", scale=\"deviance\")\n",
    "az.plot_compare(comp_loo)"
   ]
  },
  {
   "cell_type": "code",
   "execution_count": 129,
   "metadata": {},
   "outputs": [
    {
     "name": "stderr",
     "output_type": "stream",
     "text": [
      "/usr/local/lib/python3.12/site-packages/arviz/stats/stats.py:1635: UserWarning: For one or more samples the posterior variance of the log predictive densities exceeds 0.4. This could be indication of WAIC starting to fail. \n",
      "See http://arxiv.org/abs/1507.04544 for details\n",
      "  warnings.warn(\n"
     ]
    },
    {
     "data": {
      "text/plain": [
       "<AxesSubplot:xlabel='Deviance'>"
      ]
     },
     "execution_count": 129,
     "metadata": {},
     "output_type": "execute_result"
    },
    {
     "data": {
      "image/png": "[encoded data removed]",
      "text/plain": [
       "<Figure size 432x144 with 1 Axes>"
      ]
     },
     "metadata": {
      "needs_background": "light"
     },
     "output_type": "display_data"
    }
   ],
   "source": [
    "comp_waic = az.compare(comp_dict, ic=\"waic\",scale=\"deviance\")\n",
    "az.plot_compare(comp_waic)"
   ]
  }
 ],
 "metadata": {
  "kernelspec": {
   "display_name": ".venv",
   "language": "python",
   "name": "python3"
  },
  "language_info": {
   "codemirror_mode": {
    "name": "ipython",
    "version": 3
   },
   "file_extension": ".py",
   "mimetype": "text/x-python",
   "name": "python",
   "nbconvert_exporter": "python",
   "pygments_lexer": "ipython3",
   "version": "3.12.2"
  }
 },
 "nbformat": 4,
 "nbformat_minor": 2
}
