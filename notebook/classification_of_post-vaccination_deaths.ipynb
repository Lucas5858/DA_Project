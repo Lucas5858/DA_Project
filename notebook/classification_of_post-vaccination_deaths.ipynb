{
 "cells": [
  {
   "cell_type": "markdown",
   "metadata": {},
   "source": [
    "# <center>Death prediction based on the VAERS post vaccine adverse reactions</center>\n",
    "\n",
    "*<center>Szymon Szewczyk, Łukasz Szyszka</center>*\n",
    "\n",
    "*<center>July 10, 2024</center>*\n",
    "\n",
    "---\n",
    "\n",
    "## Introduction\n",
    "\n",
    "aaa\n",
    "\n",
    "## Data Source\n",
    "\n",
    "aaa\n",
    "\n",
    "## Data Preprocessing"
   ]
  },
  {
   "cell_type": "code",
   "execution_count": 1,
   "metadata": {},
   "outputs": [
    {
     "name": "stderr",
     "output_type": "stream",
     "text": [
      "/usr/local/lib/python3.12/site-packages/tqdm/auto.py:22: TqdmWarning: IProgress not found. Please update jupyter and ipywidgets. See https://ipywidgets.readthedocs.io/en/stable/user_install.html\n",
      "  from .autonotebook import tqdm as notebook_tqdm\n"
     ]
    }
   ],
   "source": [
    "from cmdstanpy import CmdStanModel\n",
    "\n",
    "import arviz as az\n",
    "import numpy as np\n",
    "import scipy.stats as stats\n",
    "import seaborn as sns\n",
    "\n",
    "import matplotlib.pyplot as plt\n",
    "import pandas as pd\n",
    "# from .autonotebook import tqdm as notebook_tqdm"
   ]
  },
  {
   "cell_type": "code",
   "execution_count": 2,
   "metadata": {},
   "outputs": [
    {
     "data": {
      "text/plain": [
       "Index(['VAERS_ID', 'RECVDATE', 'STATE', 'AGE_YRS', 'CAGE_YR', 'CAGE_MO', 'SEX',\n",
       "       'RPT_DATE', 'SYMPTOM_TEXT', 'DIED', 'DATEDIED', 'L_THREAT', 'ER_VISIT',\n",
       "       'HOSPITAL', 'HOSPDAYS', 'X_STAY', 'DISABLE', 'RECOVD', 'VAX_DATE',\n",
       "       'ONSET_DATE', 'NUMDAYS', 'LAB_DATA', 'V_ADMINBY', 'V_FUNDBY',\n",
       "       'OTHER_MEDS', 'CUR_ILL', 'HISTORY', 'PRIOR_VAX', 'SPLTTYPE',\n",
       "       'FORM_VERS', 'TODAYS_DATE', 'BIRTH_DEFECT', 'OFC_VISIT', 'ER_ED_VISIT',\n",
       "       'ALLERGIES', 'VAX_TYPE', 'VAX_MANU', 'VAX_LOT', 'VAX_DOSE_SERIES',\n",
       "       'VAX_ROUTE', 'VAX_SITE', 'VAX_NAME'],\n",
       "      dtype='object')"
      ]
     },
     "execution_count": 2,
     "metadata": {},
     "output_type": "execute_result"
    }
   ],
   "source": [
    "df_data = pd.read_csv(\"../dane/2022VAERSDATA.csv\", encoding='latin1', low_memory=False)\n",
    "df_vax = pd.read_csv(\"../dane/2022VAERSVAX.csv\", encoding='latin1', low_memory=False)\n",
    "df = pd.merge(df_data, df_vax, on='VAERS_ID')\n",
    "\n",
    "df.columns"
   ]
  },
  {
   "cell_type": "code",
   "execution_count": 3,
   "metadata": {},
   "outputs": [
    {
     "name": "stdout",
     "output_type": "stream",
     "text": [
      "<class 'pandas.core.frame.DataFrame'>\n",
      "Int64Index: 283454 entries, 0 to 283453\n",
      "Data columns (total 10 columns):\n",
      " #   Column    Non-Null Count   Dtype  \n",
      "---  ------    --------------   -----  \n",
      " 0   VAERS_ID  283454 non-null  int64  \n",
      " 1   STATE     227998 non-null  object \n",
      " 2   CAGE_YR   214658 non-null  float64\n",
      " 3   SEX       283454 non-null  object \n",
      " 4   DIED      8248 non-null    object \n",
      " 5   HOSPITAL  39676 non-null   object \n",
      " 6   HOSPDAYS  23257 non-null   float64\n",
      " 7   NUMDAYS   228359 non-null  float64\n",
      " 8   VAX_TYPE  283454 non-null  object \n",
      " 9   VAX_MANU  283454 non-null  object \n",
      "dtypes: float64(3), int64(1), object(6)\n",
      "memory usage: 23.8+ MB\n"
     ]
    }
   ],
   "source": [
    "df = df[['VAERS_ID', \"STATE\", \"CAGE_YR\", \"SEX\", \"DIED\", \"HOSPITAL\", \"HOSPDAYS\", \"NUMDAYS\", \"VAX_TYPE\", \"VAX_MANU\"]]\n",
    "\n",
    "df.info()"
   ]
  },
  {
   "cell_type": "code",
   "execution_count": 4,
   "metadata": {},
   "outputs": [
    {
     "name": "stdout",
     "output_type": "stream",
     "text": [
      "<class 'pandas.core.frame.DataFrame'>\n",
      "Int64Index: 173665 entries, 208 to 283453\n",
      "Data columns (total 10 columns):\n",
      " #   Column    Non-Null Count   Dtype  \n",
      "---  ------    --------------   -----  \n",
      " 0   VAERS_ID  173665 non-null  int64  \n",
      " 1   STATE     173665 non-null  object \n",
      " 2   CAGE_YR   173665 non-null  float64\n",
      " 3   SEX       173665 non-null  int64  \n",
      " 4   DIED      173665 non-null  int64  \n",
      " 5   HOSPITAL  173665 non-null  int64  \n",
      " 6   HOSPDAYS  173665 non-null  float64\n",
      " 7   NUMDAYS   173665 non-null  float64\n",
      " 8   VAX_TYPE  173665 non-null  object \n",
      " 9   VAX_MANU  173665 non-null  object \n",
      "dtypes: float64(3), int64(4), object(3)\n",
      "memory usage: 14.6+ MB\n"
     ]
    }
   ],
   "source": [
    "df = df[df[\"SEX\"].isin([\"F\", \"M\"])]\n",
    "df['SEX'] = df['SEX'].apply(lambda x: 1 if x == 'M' else 0)\n",
    "df = df.dropna(subset=[\"STATE\", \"CAGE_YR\", \"NUMDAYS\"])\n",
    "df['DIED'] = df['DIED'].apply(lambda x: 1 if x == 'Y' else 0)\n",
    "df['HOSPITAL'] = df['HOSPITAL'].apply(lambda x: 1 if x == 'Y' else 0)\n",
    "df['HOSPDAYS'] = pd.to_numeric(df['HOSPDAYS'], errors='coerce').fillna(0)\n",
    "\n",
    "df.info()"
   ]
  },
  {
   "cell_type": "markdown",
   "metadata": {},
   "source": [
    "### Additional constrains\n",
    "\n",
    "- States\n",
    "- Age\n",
    "- Vaccine type"
   ]
  },
  {
   "cell_type": "code",
   "execution_count": 5,
   "metadata": {},
   "outputs": [
    {
     "data": {
      "text/html": [
       "<div>\n",
       "<style scoped>\n",
       "    .dataframe tbody tr th:only-of-type {\n",
       "        vertical-align: middle;\n",
       "    }\n",
       "\n",
       "    .dataframe tbody tr th {\n",
       "        vertical-align: top;\n",
       "    }\n",
       "\n",
       "    .dataframe thead th {\n",
       "        text-align: right;\n",
       "    }\n",
       "</style>\n",
       "<table border=\"1\" class=\"dataframe\">\n",
       "  <thead>\n",
       "    <tr style=\"text-align: right;\">\n",
       "      <th></th>\n",
       "      <th>VAERS_ID</th>\n",
       "      <th>CAGE_YR</th>\n",
       "      <th>SEX</th>\n",
       "      <th>DIED</th>\n",
       "      <th>HOSPITAL</th>\n",
       "      <th>HOSPDAYS</th>\n",
       "      <th>NUMDAYS</th>\n",
       "    </tr>\n",
       "  </thead>\n",
       "  <tbody>\n",
       "    <tr>\n",
       "      <th>count</th>\n",
       "      <td>4.365900e+04</td>\n",
       "      <td>43659.000000</td>\n",
       "      <td>43659.000000</td>\n",
       "      <td>43659.000000</td>\n",
       "      <td>43659.000000</td>\n",
       "      <td>43659.000000</td>\n",
       "      <td>43659.000000</td>\n",
       "    </tr>\n",
       "    <tr>\n",
       "      <th>mean</th>\n",
       "      <td>2.265529e+06</td>\n",
       "      <td>65.976591</td>\n",
       "      <td>0.369225</td>\n",
       "      <td>0.016583</td>\n",
       "      <td>0.094620</td>\n",
       "      <td>0.395680</td>\n",
       "      <td>13.492293</td>\n",
       "    </tr>\n",
       "    <tr>\n",
       "      <th>std</th>\n",
       "      <td>1.482283e+05</td>\n",
       "      <td>10.090116</td>\n",
       "      <td>0.482601</td>\n",
       "      <td>0.127705</td>\n",
       "      <td>0.292692</td>\n",
       "      <td>2.029613</td>\n",
       "      <td>23.354360</td>\n",
       "    </tr>\n",
       "    <tr>\n",
       "      <th>min</th>\n",
       "      <td>1.997131e+06</td>\n",
       "      <td>50.000000</td>\n",
       "      <td>0.000000</td>\n",
       "      <td>0.000000</td>\n",
       "      <td>0.000000</td>\n",
       "      <td>0.000000</td>\n",
       "      <td>0.000000</td>\n",
       "    </tr>\n",
       "    <tr>\n",
       "      <th>25%</th>\n",
       "      <td>2.144674e+06</td>\n",
       "      <td>58.000000</td>\n",
       "      <td>0.000000</td>\n",
       "      <td>0.000000</td>\n",
       "      <td>0.000000</td>\n",
       "      <td>0.000000</td>\n",
       "      <td>0.000000</td>\n",
       "    </tr>\n",
       "    <tr>\n",
       "      <th>50%</th>\n",
       "      <td>2.273466e+06</td>\n",
       "      <td>65.000000</td>\n",
       "      <td>0.000000</td>\n",
       "      <td>0.000000</td>\n",
       "      <td>0.000000</td>\n",
       "      <td>0.000000</td>\n",
       "      <td>1.000000</td>\n",
       "    </tr>\n",
       "    <tr>\n",
       "      <th>75%</th>\n",
       "      <td>2.373750e+06</td>\n",
       "      <td>73.000000</td>\n",
       "      <td>1.000000</td>\n",
       "      <td>0.000000</td>\n",
       "      <td>0.000000</td>\n",
       "      <td>0.000000</td>\n",
       "      <td>17.000000</td>\n",
       "    </tr>\n",
       "    <tr>\n",
       "      <th>max</th>\n",
       "      <td>2.719848e+06</td>\n",
       "      <td>100.000000</td>\n",
       "      <td>1.000000</td>\n",
       "      <td>1.000000</td>\n",
       "      <td>1.000000</td>\n",
       "      <td>30.000000</td>\n",
       "      <td>90.000000</td>\n",
       "    </tr>\n",
       "  </tbody>\n",
       "</table>\n",
       "</div>"
      ],
      "text/plain": [
       "           VAERS_ID       CAGE_YR           SEX          DIED      HOSPITAL  \\\n",
       "count  4.365900e+04  43659.000000  43659.000000  43659.000000  43659.000000   \n",
       "mean   2.265529e+06     65.976591      0.369225      0.016583      0.094620   \n",
       "std    1.482283e+05     10.090116      0.482601      0.127705      0.292692   \n",
       "min    1.997131e+06     50.000000      0.000000      0.000000      0.000000   \n",
       "25%    2.144674e+06     58.000000      0.000000      0.000000      0.000000   \n",
       "50%    2.273466e+06     65.000000      0.000000      0.000000      0.000000   \n",
       "75%    2.373750e+06     73.000000      1.000000      0.000000      0.000000   \n",
       "max    2.719848e+06    100.000000      1.000000      1.000000      1.000000   \n",
       "\n",
       "           HOSPDAYS       NUMDAYS  \n",
       "count  43659.000000  43659.000000  \n",
       "mean       0.395680     13.492293  \n",
       "std        2.029613     23.354360  \n",
       "min        0.000000      0.000000  \n",
       "25%        0.000000      0.000000  \n",
       "50%        0.000000      1.000000  \n",
       "75%        0.000000     17.000000  \n",
       "max       30.000000     90.000000  "
      ]
     },
     "execution_count": 5,
     "metadata": {},
     "output_type": "execute_result"
    }
   ],
   "source": [
    "######################### STATES #######################\n",
    "df = df[df[\"STATE\"] != 'SD']\n",
    "df = df[df[\"STATE\"] != 'TN']\n",
    "df = df[df[\"STATE\"] != 'KY']\n",
    "df = df[df[\"STATE\"] != 'WI']\n",
    "# df = df[df[\"STATES\"].isin([\"TN\", \"WI\", \"CA\"])]\n",
    "\n",
    "state_counts = df['STATE'].value_counts()\n",
    "states_to_keep = state_counts[state_counts >= 200].index\n",
    "df = df[df['STATE'].isin(states_to_keep)]\n",
    "\n",
    "######################### AGE ########################\n",
    "df = df[df[\"CAGE_YR\"] >= 50]\n",
    "df = df[df[\"CAGE_YR\"] <= 100]\n",
    "\n",
    "#################### VACCINE TYPE ########################\n",
    "df = df[df[\"VAX_TYPE\"] == 'COVID19']\n",
    "\n",
    "#################### VACCINE MANU ########################\n",
    "df = df[df[\"VAX_MANU\"].isin([\"MODERNA\", r\"PFIZER\\BIONTECH\"])]\n",
    "\n",
    "#################### HOSPITAL ########################\n",
    "# df = df[df[\"HOSPITAL\"] == 1]\n",
    "\n",
    "#################### HOSPDAYS ########################\n",
    "df = df[df[\"HOSPDAYS\"] <= 30]\n",
    "\n",
    "#################### NUMDAYS ########################\n",
    "# df = df[df[\"NUMDAYS\"] >= 1]\n",
    "df = df[df[\"NUMDAYS\"] <= 90]\n",
    "\n",
    "df.describe()"
   ]
  },
  {
   "cell_type": "markdown",
   "metadata": {},
   "source": [
    "## Distribution of outcomes"
   ]
  },
  {
   "cell_type": "code",
   "execution_count": 6,
   "metadata": {},
   "outputs": [],
   "source": [
    "# plt.figure(figsize=(5 , 5))\n",
    "# plt.hist(x=df[\"DIED\"])\n",
    "# plt.ylabel('Number of People')\n",
    "# plt.title('Distribution of Outcome')\n",
    "# plt.show()"
   ]
  },
  {
   "cell_type": "code",
   "execution_count": 7,
   "metadata": {},
   "outputs": [],
   "source": [
    "# plt.figure(figsize=(5,5))\n",
    "# pie_data=df['DIED'].value_counts()\n",
    "# explode=(0.05,0)\n",
    "# colors=['moccasin','coral']\n",
    "# labels=['0-NonDeath','1-Death']\n",
    "# sns.set(font_scale=1.5)\n",
    "# plt.pie(pie_data,labels=labels,autopct=\"%.2f%%\",explode=explode,colors=colors)\n",
    "# plt.legend(labels, loc='lower left')\n",
    "# plt.title('Proportion of Death and Non-Death Individuals')\n",
    "# plt.show()"
   ]
  },
  {
   "cell_type": "code",
   "execution_count": 8,
   "metadata": {},
   "outputs": [],
   "source": [
    "# df[[\"CAGE_YR\", \"SEX\", \"HOSPITAL\", \"HOSPDAYS\", \"NUMDAYS\", \"DIED\", \"STATE\"]].hist(figsize=(20,16), grid=True, bins=50)"
   ]
  },
  {
   "cell_type": "code",
   "execution_count": 9,
   "metadata": {},
   "outputs": [],
   "source": [
    "# df[[\"CAGE_YR\", \"SEX\", \"HOSPITAL\", \"HOSPDAYS\", \"NUMDAYS\", \"DIED\", \"STATE\"]].plot(kind='box', subplots=True, layout=(3,3), sharex=False, sharey=False, figsize=(10,10))\n",
    "# sns.set(font_scale = 1.5)"
   ]
  },
  {
   "cell_type": "code",
   "execution_count": 10,
   "metadata": {},
   "outputs": [],
   "source": [
    "# fig, ax = plt.subplots(3,2, figsize=(10,10))\n",
    "# sns.set(font_scale = 1)\n",
    "# sns.distplot(df.CAGE_YR, ax = ax[0,0], color = 'orange')\n",
    "# sns.distplot(df.SEX, ax = ax[0,1], color = 'red')\n",
    "# sns.distplot(df.HOSPDAYS, ax = ax[1,0], color = 'seagreen')\n",
    "# sns.distplot(df.HOSPITAL, ax = ax[1,1], color = 'purple')\n",
    "# sns.distplot(df.NUMDAYS, ax = ax[2,0], color = 'deeppink')\n",
    "# sns.distplot(df.DIED, ax = ax[2,1], color = 'brown')"
   ]
  },
  {
   "cell_type": "code",
   "execution_count": 11,
   "metadata": {},
   "outputs": [],
   "source": [
    "corr = df[[\"CAGE_YR\", \"SEX\", \"HOSPITAL\", \"HOSPDAYS\", \"NUMDAYS\", \"DIED\"]].corr()\n",
    "# corr"
   ]
  },
  {
   "cell_type": "code",
   "execution_count": 12,
   "metadata": {},
   "outputs": [
    {
     "data": {
      "image/png": "[encoded data removed]",
      "text/plain": [
       "<Figure size 432x432 with 1 Axes>"
      ]
     },
     "metadata": {
      "needs_background": "light"
     },
     "output_type": "display_data"
    }
   ],
   "source": [
    "# plt.figure(figsize=(15,10))\n",
    "# sns.set(font_scale = 1.5)\n",
    "# sns.heatmap(corr, annot = True, cmap = 'plasma', vmin = -1, vmax = 1, linecolor='white', linewidths= 1)\n",
    "cor = [\"CAGE_YR\", \"SEX\", \"HOSPITAL\", \"HOSPDAYS\", \"NUMDAYS\", \"DIED\"]\n",
    "\n",
    "fig, ax = plt.subplots(figsize=(6,6))\n",
    "im = ax.imshow(corr)\n",
    "\n",
    "ax.set_xticks(np.arange(len(cor)), labels=cor)\n",
    "ax.set_yticks(np.arange(len(cor)), labels=cor)\n",
    "plt.setp(ax.get_xticklabels(), rotation=45, ha=\"right\",\n",
    "         rotation_mode=\"anchor\")\n",
    "\n",
    "for i in range(len(cor)):\n",
    "    for j in range(len(cor)):\n",
    "        text = ax.text(j, i, f\"{corr.iloc[i, j]:.2f}\",\n",
    "                       ha=\"center\", va=\"center\", color=\"w\")\n",
    "\n",
    "ax.set_title(\"Features Corr\")\n",
    "fig.tight_layout()\n",
    "plt.show()"
   ]
  },
  {
   "cell_type": "code",
   "execution_count": 13,
   "metadata": {},
   "outputs": [],
   "source": [
    "# sns.set(font_scale = 1.5)\n",
    "# sns.pairplot(data=df, hue='DIED', diag_kind='kde', palette='Set2')"
   ]
  },
  {
   "cell_type": "markdown",
   "metadata": {},
   "source": [
    "# Model 1"
   ]
  },
  {
   "cell_type": "markdown",
   "metadata": {},
   "source": [
    "## Article Prior"
   ]
  },
  {
   "cell_type": "code",
   "execution_count": 14,
   "metadata": {},
   "outputs": [],
   "source": [
    "df_data_2020 = pd.read_csv(\"../dane/2020VAERSDATA.csv\", encoding='latin1', low_memory=False)\n",
    "df_vax_2020 = pd.read_csv(\"../dane/2020VAERSVAX.csv\", encoding='latin1', low_memory=False)\n",
    "df_2020 = pd.merge(df_data_2020, df_vax_2020, on='VAERS_ID')\n",
    "\n",
    "df_data_2021 = pd.read_csv(\"../dane/2021VAERSDATA.csv\", encoding='latin1', low_memory=False)\n",
    "df_vax_2021 = pd.read_csv(\"../dane/2021VAERSVAX.csv\", encoding='latin1', low_memory=False)\n",
    "df_2021 = pd.merge(df_data_2021, df_vax_2021, on='VAERS_ID')\n",
    "\n",
    "df_article = pd.concat([df_2020, df_2021])\n",
    "df_article = df_article.set_index('VAERS_ID')"
   ]
  },
  {
   "cell_type": "code",
   "execution_count": 15,
   "metadata": {},
   "outputs": [
    {
     "name": "stdout",
     "output_type": "stream",
     "text": [
      "<class 'pandas.core.frame.DataFrame'>\n",
      "Int64Index: 64921 entries, 901875 to 2642529\n",
      "Data columns (total 9 columns):\n",
      " #   Column    Non-Null Count  Dtype  \n",
      "---  ------    --------------  -----  \n",
      " 0   STATE     52156 non-null  object \n",
      " 1   CAGE_YR   56362 non-null  float64\n",
      " 2   SEX       64921 non-null  object \n",
      " 3   DIED      349 non-null    object \n",
      " 4   HOSPITAL  1044 non-null   object \n",
      " 5   HOSPDAYS  653 non-null    float64\n",
      " 6   NUMDAYS   60416 non-null  float64\n",
      " 7   VAX_TYPE  64921 non-null  object \n",
      " 8   VAX_MANU  64921 non-null  object \n",
      "dtypes: float64(3), object(6)\n",
      "memory usage: 5.0+ MB\n"
     ]
    }
   ],
   "source": [
    "df_article['RECVDATE'] = pd.to_datetime(df_article['RECVDATE'], format='%m/%d/%Y')\n",
    "\n",
    "start_date = '2020-12-14'\n",
    "end_date = '2021-01-22'\n",
    "\n",
    "df_article = df_article[(df_article['RECVDATE'] >= start_date) & (df_article['RECVDATE'] <= end_date)]\n",
    "\n",
    "df_article = df_article[[\"STATE\", \"CAGE_YR\", \"SEX\", \"DIED\", \"HOSPITAL\", \"HOSPDAYS\", \"NUMDAYS\", \"VAX_TYPE\", \"VAX_MANU\"]]\n",
    "\n",
    "df_article.info()"
   ]
  },
  {
   "cell_type": "code",
   "execution_count": 16,
   "metadata": {},
   "outputs": [
    {
     "name": "stdout",
     "output_type": "stream",
     "text": [
      "<class 'pandas.core.frame.DataFrame'>\n",
      "Int64Index: 45649 entries, 901875 to 2642010\n",
      "Data columns (total 9 columns):\n",
      " #   Column    Non-Null Count  Dtype  \n",
      "---  ------    --------------  -----  \n",
      " 0   STATE     45649 non-null  object \n",
      " 1   CAGE_YR   45649 non-null  float64\n",
      " 2   SEX       45649 non-null  int64  \n",
      " 3   DIED      45649 non-null  int64  \n",
      " 4   HOSPITAL  45649 non-null  int64  \n",
      " 5   HOSPDAYS  45649 non-null  float64\n",
      " 6   NUMDAYS   45649 non-null  float64\n",
      " 7   VAX_TYPE  45649 non-null  object \n",
      " 8   VAX_MANU  45649 non-null  object \n",
      "dtypes: float64(3), int64(3), object(3)\n",
      "memory usage: 3.5+ MB\n"
     ]
    }
   ],
   "source": [
    "df_article = df_article[df_article[\"SEX\"].isin([\"F\", \"M\"])]\n",
    "df_article['SEX'] = df_article['SEX'].apply(lambda x: 1 if x == 'M' else 0)\n",
    "df_article = df_article.dropna(subset=[\"STATE\", \"CAGE_YR\", \"NUMDAYS\"])\n",
    "df_article['DIED'] = df_article['DIED'].apply(lambda x: 1 if x == 'Y' else 0)\n",
    "df_article['HOSPITAL'] = df_article['HOSPITAL'].apply(lambda x: 1 if x == 'Y' else 0)\n",
    "df_article['HOSPDAYS'] = pd.to_numeric(df_article['HOSPDAYS'], errors='coerce').fillna(0)\n",
    "\n",
    "df_article = df_article[df_article[\"NUMDAYS\"] <= 90]\n",
    "\n",
    "df_article.info()"
   ]
  },
  {
   "cell_type": "code",
   "execution_count": 17,
   "metadata": {},
   "outputs": [
    {
     "data": {
      "image/png": "[encoded data removed]",
      "text/plain": [
       "<Figure size 432x432 with 1 Axes>"
      ]
     },
     "metadata": {
      "needs_background": "light"
     },
     "output_type": "display_data"
    }
   ],
   "source": [
    "corr_article = df_article[[\"CAGE_YR\", \"SEX\", \"HOSPITAL\", \"HOSPDAYS\", \"NUMDAYS\", \"DIED\"]].corr()\n",
    "\n",
    "cor = [\"CAGE_YR\", \"SEX\", \"HOSPITAL\", \"HOSPDAYS\", \"NUMDAYS\", \"DIED\"]\n",
    "\n",
    "fig, ax = plt.subplots(figsize=(6,6))\n",
    "im = ax.imshow(corr_article)\n",
    "\n",
    "ax.set_xticks(np.arange(len(cor)), labels=cor)\n",
    "ax.set_yticks(np.arange(len(cor)), labels=cor)\n",
    "plt.setp(ax.get_xticklabels(), rotation=45, ha=\"right\",\n",
    "         rotation_mode=\"anchor\")\n",
    "\n",
    "for i in range(len(cor)):\n",
    "    for j in range(len(cor)):\n",
    "        text = ax.text(j, i, f\"{corr_article.iloc[i, j]:.2f}\",\n",
    "                       ha=\"center\", va=\"center\", color=\"w\")\n",
    "\n",
    "ax.set_title(\"Features Corr\")\n",
    "fig.tight_layout()\n",
    "plt.show()"
   ]
  },
  {
   "cell_type": "code",
   "execution_count": 18,
   "metadata": {},
   "outputs": [
    {
     "data": {
      "text/html": [
       "<div>\n",
       "<style scoped>\n",
       "    .dataframe tbody tr th:only-of-type {\n",
       "        vertical-align: middle;\n",
       "    }\n",
       "\n",
       "    .dataframe tbody tr th {\n",
       "        vertical-align: top;\n",
       "    }\n",
       "\n",
       "    .dataframe thead th {\n",
       "        text-align: right;\n",
       "    }\n",
       "</style>\n",
       "<table border=\"1\" class=\"dataframe\">\n",
       "  <thead>\n",
       "    <tr style=\"text-align: right;\">\n",
       "      <th></th>\n",
       "      <th>CAGE_YR</th>\n",
       "      <th>SEX</th>\n",
       "      <th>DIED</th>\n",
       "      <th>HOSPITAL</th>\n",
       "      <th>HOSPDAYS</th>\n",
       "      <th>NUMDAYS</th>\n",
       "    </tr>\n",
       "  </thead>\n",
       "  <tbody>\n",
       "    <tr>\n",
       "      <th>count</th>\n",
       "      <td>45649.000000</td>\n",
       "      <td>45649.000000</td>\n",
       "      <td>45649.000000</td>\n",
       "      <td>45649.000000</td>\n",
       "      <td>45649.000000</td>\n",
       "      <td>45649.000000</td>\n",
       "    </tr>\n",
       "    <tr>\n",
       "      <th>mean</th>\n",
       "      <td>45.371837</td>\n",
       "      <td>0.193104</td>\n",
       "      <td>0.006134</td>\n",
       "      <td>0.017613</td>\n",
       "      <td>0.035247</td>\n",
       "      <td>2.026375</td>\n",
       "    </tr>\n",
       "    <tr>\n",
       "      <th>std</th>\n",
       "      <td>16.623778</td>\n",
       "      <td>0.394738</td>\n",
       "      <td>0.078079</td>\n",
       "      <td>0.131540</td>\n",
       "      <td>0.439273</td>\n",
       "      <td>4.233492</td>\n",
       "    </tr>\n",
       "    <tr>\n",
       "      <th>min</th>\n",
       "      <td>0.000000</td>\n",
       "      <td>0.000000</td>\n",
       "      <td>0.000000</td>\n",
       "      <td>0.000000</td>\n",
       "      <td>0.000000</td>\n",
       "      <td>0.000000</td>\n",
       "    </tr>\n",
       "    <tr>\n",
       "      <th>25%</th>\n",
       "      <td>33.000000</td>\n",
       "      <td>0.000000</td>\n",
       "      <td>0.000000</td>\n",
       "      <td>0.000000</td>\n",
       "      <td>0.000000</td>\n",
       "      <td>0.000000</td>\n",
       "    </tr>\n",
       "    <tr>\n",
       "      <th>50%</th>\n",
       "      <td>44.000000</td>\n",
       "      <td>0.000000</td>\n",
       "      <td>0.000000</td>\n",
       "      <td>0.000000</td>\n",
       "      <td>0.000000</td>\n",
       "      <td>1.000000</td>\n",
       "    </tr>\n",
       "    <tr>\n",
       "      <th>75%</th>\n",
       "      <td>57.000000</td>\n",
       "      <td>0.000000</td>\n",
       "      <td>0.000000</td>\n",
       "      <td>0.000000</td>\n",
       "      <td>0.000000</td>\n",
       "      <td>2.000000</td>\n",
       "    </tr>\n",
       "    <tr>\n",
       "      <th>max</th>\n",
       "      <td>104.000000</td>\n",
       "      <td>1.000000</td>\n",
       "      <td>1.000000</td>\n",
       "      <td>1.000000</td>\n",
       "      <td>30.000000</td>\n",
       "      <td>90.000000</td>\n",
       "    </tr>\n",
       "  </tbody>\n",
       "</table>\n",
       "</div>"
      ],
      "text/plain": [
       "            CAGE_YR           SEX          DIED      HOSPITAL      HOSPDAYS  \\\n",
       "count  45649.000000  45649.000000  45649.000000  45649.000000  45649.000000   \n",
       "mean      45.371837      0.193104      0.006134      0.017613      0.035247   \n",
       "std       16.623778      0.394738      0.078079      0.131540      0.439273   \n",
       "min        0.000000      0.000000      0.000000      0.000000      0.000000   \n",
       "25%       33.000000      0.000000      0.000000      0.000000      0.000000   \n",
       "50%       44.000000      0.000000      0.000000      0.000000      0.000000   \n",
       "75%       57.000000      0.000000      0.000000      0.000000      0.000000   \n",
       "max      104.000000      1.000000      1.000000      1.000000     30.000000   \n",
       "\n",
       "            NUMDAYS  \n",
       "count  45649.000000  \n",
       "mean       2.026375  \n",
       "std        4.233492  \n",
       "min        0.000000  \n",
       "25%        0.000000  \n",
       "50%        1.000000  \n",
       "75%        2.000000  \n",
       "max       90.000000  "
      ]
     },
     "execution_count": 18,
     "metadata": {},
     "output_type": "execute_result"
    }
   ],
   "source": [
    "df_article.describe()"
   ]
  },
  {
   "cell_type": "code",
   "execution_count": 19,
   "metadata": {},
   "outputs": [
    {
     "name": "stderr",
     "output_type": "stream",
     "text": [
      "INFO:cmdstanpy:found newer exe file, not recompiling\n",
      "INFO:cmdstanpy:CmdStan start processing\n",
      "chain 1 |\u001b[34m██████████\u001b[0m| 00:02 Sampling completed                    "
     ]
    },
    {
     "name": "stdout",
     "output_type": "stream",
     "text": [
      "                                                                                "
     ]
    },
    {
     "name": "stderr",
     "output_type": "stream",
     "text": [
      "\n",
      "INFO:cmdstanpy:CmdStan done processing.\n"
     ]
    },
    {
     "name": "stdout",
     "output_type": "stream",
     "text": [
      "\n"
     ]
    }
   ],
   "source": [
    "model_ppc = CmdStanModel(stan_file='../models/model_1_prior.stan')\n",
    "\n",
    "R = 100\n",
    "dict = {\n",
    "        \"N\": len(df_article),\n",
    "        \"sex\": df_article[\"SEX\"],\n",
    "        \"age\": df_article[\"CAGE_YR\"]\n",
    "}\n",
    "\n",
    "sim_data_art = model_ppc.sample(data=dict,\n",
    "                        iter_sampling=R,\n",
    "                        iter_warmup=1,\n",
    "                        refresh=R,\n",
    "                        fixed_param=True,\n",
    "                        chains=1)"
   ]
  },
  {
   "cell_type": "code",
   "execution_count": 20,
   "metadata": {},
   "outputs": [],
   "source": [
    "sim_prior_model_1_1 = sim_data_art.draws_pd()\n",
    "\n",
    "death_pred_prior_1_1 = sim_data_art.stan_variable(\"death\")\n",
    "p_1_1 = sim_data_art.stan_variable(\"p\")\n",
    "alpha_1_1 = sim_data_art.stan_variable(\"alpha\")\n",
    "beta_age_1_1 = sim_data_art.stan_variable(\"beta_age\")\n",
    "beta_sex_1_1 = sim_data_art.stan_variable(\"beta_sex\")"
   ]
  },
  {
   "cell_type": "code",
   "execution_count": 21,
   "metadata": {},
   "outputs": [
    {
     "data": {
      "text/plain": [
       "(100, 45649)"
      ]
     },
     "execution_count": 21,
     "metadata": {},
     "output_type": "execute_result"
    }
   ],
   "source": [
    "death_pred_prior_1_1.shape"
   ]
  },
  {
   "cell_type": "code",
   "execution_count": 22,
   "metadata": {},
   "outputs": [],
   "source": [
    "death_pred_mean_art = np.mean(death_pred_prior_1_1, axis=0)\n",
    "p_1_1 = np.mean(p_1_1, axis=0)\n",
    "death_pred_prior_1_1_ = death_pred_prior_1_1.flatten()"
   ]
  },
  {
   "cell_type": "code",
   "execution_count": 23,
   "metadata": {},
   "outputs": [
    {
     "name": "stdout",
     "output_type": "stream",
     "text": [
      "0.006286008455825978\n",
      "0.006133759775679643\n"
     ]
    }
   ],
   "source": [
    "print(death_pred_mean_art.mean())\n",
    "print(df_article[\"DIED\"].mean())\n",
    "# print(p_1_1.mean())"
   ]
  },
  {
   "cell_type": "code",
   "execution_count": 24,
   "metadata": {},
   "outputs": [
    {
     "data": {
      "image/png": "[encoded data removed]",
      "text/plain": [
       "<Figure size 432x288 with 1 Axes>"
      ]
     },
     "metadata": {
      "needs_background": "light"
     },
     "output_type": "display_data"
    }
   ],
   "source": [
    "plt.hist(death_pred_mean_art*100,bins=20, density=True)\n",
    "plt.show()"
   ]
  },
  {
   "cell_type": "code",
   "execution_count": 25,
   "metadata": {},
   "outputs": [
    {
     "data": {
      "image/png": "[encoded data removed]",
      "text/plain": [
       "<Figure size 432x288 with 1 Axes>"
      ]
     },
     "metadata": {
      "needs_background": "light"
     },
     "output_type": "display_data"
    }
   ],
   "source": [
    "plt.hist(death_pred_prior_1_1_, density=True)\n",
    "plt.show()"
   ]
  },
  {
   "cell_type": "markdown",
   "metadata": {},
   "source": [
    "## Data Prior"
   ]
  },
  {
   "cell_type": "code",
   "execution_count": 26,
   "metadata": {},
   "outputs": [
    {
     "name": "stderr",
     "output_type": "stream",
     "text": [
      "INFO:cmdstanpy:CmdStan start processing\n",
      "chain 1 |\u001b[34m██████████\u001b[0m| 00:23 Sampling completed                      "
     ]
    },
    {
     "name": "stdout",
     "output_type": "stream",
     "text": [
      "                                                                                "
     ]
    },
    {
     "name": "stderr",
     "output_type": "stream",
     "text": [
      "\n",
      "INFO:cmdstanpy:CmdStan done processing.\n"
     ]
    },
    {
     "name": "stdout",
     "output_type": "stream",
     "text": [
      "\n"
     ]
    }
   ],
   "source": [
    "R = 1000\n",
    "dict = {\n",
    "        \"N\": len(df),\n",
    "        \"sex\": df[\"SEX\"],\n",
    "        \"age\": df[\"CAGE_YR\"]\n",
    "}\n",
    "\n",
    "sim_data_real = model_ppc.sample(data=dict,\n",
    "                        iter_sampling=R,\n",
    "                        iter_warmup=1,\n",
    "                        refresh=R,\n",
    "                        fixed_param=True,\n",
    "                        chains=1)"
   ]
  },
  {
   "cell_type": "code",
   "execution_count": 27,
   "metadata": {},
   "outputs": [],
   "source": [
    "sim_prior_model_1_2 = sim_data_real.draws_pd()\n",
    "\n",
    "death_pred_prior_1_2 = sim_data_real.stan_variable(\"death\")\n",
    "p_1_2 = sim_data_real.stan_variable(\"p\")\n",
    "alpha_1_2 = sim_data_real.stan_variable(\"alpha\")\n",
    "beta_age_1_2 = sim_data_real.stan_variable(\"beta_age\")\n",
    "beta_sex_1_2 = sim_data_real.stan_variable(\"beta_sex\")"
   ]
  },
  {
   "cell_type": "code",
   "execution_count": 28,
   "metadata": {},
   "outputs": [
    {
     "name": "stdout",
     "output_type": "stream",
     "text": [
      "0.016066034494605922\n",
      "0.016583064202111822\n"
     ]
    }
   ],
   "source": [
    "death_pred_real_1 = np.mean(death_pred_prior_1_2, axis=0)\n",
    "p_1_2 = np.mean(p_1_2, axis=0)\n",
    "# death_pred_prior_1_2_ = death_pred_prior_1_2.flatten()\n",
    "print(death_pred_real_1.mean())\n",
    "print(df[\"DIED\"].mean())"
   ]
  },
  {
   "cell_type": "code",
   "execution_count": 29,
   "metadata": {},
   "outputs": [
    {
     "data": {
      "text/plain": [
       "array([0.01 , 0.01 , 0.007, ..., 0.007, 0.009, 0.008])"
      ]
     },
     "execution_count": 29,
     "metadata": {},
     "output_type": "execute_result"
    }
   ],
   "source": [
    "death_pred_real_1"
   ]
  },
  {
   "cell_type": "code",
   "execution_count": 30,
   "metadata": {},
   "outputs": [
    {
     "data": {
      "image/png": "[encoded data removed]",
      "text/plain": [
       "<Figure size 432x288 with 1 Axes>"
      ]
     },
     "metadata": {
      "needs_background": "light"
     },
     "output_type": "display_data"
    }
   ],
   "source": [
    "plt.hist(death_pred_real_1*100, bins=20, density=True)\n",
    "# plt.hist(p_1_2, density=True)\n",
    "# plt.hist(df[\"DIED\"], density=True)\n",
    "plt.show()"
   ]
  },
  {
   "cell_type": "markdown",
   "metadata": {},
   "source": [
    "## Data Posterion"
   ]
  },
  {
   "cell_type": "code",
   "execution_count": 31,
   "metadata": {},
   "outputs": [
    {
     "name": "stderr",
     "output_type": "stream",
     "text": [
      "INFO:cmdstanpy:found newer exe file, not recompiling\n"
     ]
    }
   ],
   "source": [
    "model_posterior = CmdStanModel(stan_file='../models/model_1_posterior.stan')"
   ]
  },
  {
   "cell_type": "code",
   "execution_count": 32,
   "metadata": {},
   "outputs": [
    {
     "name": "stderr",
     "output_type": "stream",
     "text": [
      "INFO:cmdstanpy:CmdStan start processing\n",
      "chain 1 |\u001b[33m          \u001b[0m| 00:00 Status"
     ]
    },
    {
     "name": "stderr",
     "output_type": "stream",
     "text": [
      "chain 1 |\u001b[34m██████████\u001b[0m| 00:27 Sampling completed                      "
     ]
    },
    {
     "name": "stdout",
     "output_type": "stream",
     "text": [
      "                                                                                "
     ]
    },
    {
     "name": "stderr",
     "output_type": "stream",
     "text": [
      "\n",
      "INFO:cmdstanpy:CmdStan done processing.\n"
     ]
    },
    {
     "name": "stdout",
     "output_type": "stream",
     "text": [
      "\n"
     ]
    }
   ],
   "source": [
    "R = 1000\n",
    "dict = {\n",
    "        \"N\": len(df),\n",
    "        \"age\": df[\"CAGE_YR\"],\n",
    "        \"sex\": df[\"SEX\"],\n",
    "        \"death\": df[\"DIED\"]\n",
    "    }\n",
    "\n",
    "fit = model_posterior.sample(data=dict,\n",
    "                    iter_sampling=R,\n",
    "                    chains=1,\n",
    "                    fixed_param=True,\n",
    "                    seed=42,\n",
    "                    refresh=R)"
   ]
  },
  {
   "cell_type": "code",
   "execution_count": 33,
   "metadata": {},
   "outputs": [],
   "source": [
    "death_pred_posterior = fit.stan_variable(\"death_pred\")"
   ]
  },
  {
   "cell_type": "code",
   "execution_count": 34,
   "metadata": {},
   "outputs": [
    {
     "data": {
      "text/plain": [
       "array([[0., 0., 0., ..., 0., 0., 0.],\n",
       "       [0., 0., 0., ..., 0., 0., 0.],\n",
       "       [0., 0., 0., ..., 0., 0., 0.],\n",
       "       ...,\n",
       "       [0., 0., 0., ..., 0., 0., 0.],\n",
       "       [0., 0., 0., ..., 0., 0., 0.],\n",
       "       [0., 0., 0., ..., 0., 0., 0.]])"
      ]
     },
     "execution_count": 34,
     "metadata": {},
     "output_type": "execute_result"
    }
   ],
   "source": [
    "death_pred_posterior"
   ]
  },
  {
   "cell_type": "code",
   "execution_count": 35,
   "metadata": {},
   "outputs": [],
   "source": [
    "death_pred_mean = np.mean(death_pred_posterior, axis=0)"
   ]
  },
  {
   "cell_type": "code",
   "execution_count": 36,
   "metadata": {},
   "outputs": [
    {
     "data": {
      "text/plain": [
       "0.0"
      ]
     },
     "execution_count": 36,
     "metadata": {},
     "output_type": "execute_result"
    }
   ],
   "source": [
    "death_pred_mean.mean()"
   ]
  },
  {
   "cell_type": "code",
   "execution_count": 33,
   "metadata": {},
   "outputs": [
    {
     "data": {
      "text/plain": [
       "1.0"
      ]
     },
     "execution_count": 33,
     "metadata": {},
     "output_type": "execute_result"
    }
   ],
   "source": [
    "death_pred_posterior.max()"
   ]
  },
  {
   "cell_type": "code",
   "execution_count": 38,
   "metadata": {},
   "outputs": [
    {
     "data": {
      "image/png": "[encoded data removed]",
      "text/plain": [
       "<Figure size 432x288 with 1 Axes>"
      ]
     },
     "metadata": {
      "needs_background": "light"
     },
     "output_type": "display_data"
    }
   ],
   "source": [
    "plt.hist(death_pred_mean*100, bins=14, density=True, alpha=0.7)\n",
    "# plt.hist(df[\"DIED\"], density=True, alpha=0.5)\n",
    "plt.show()"
   ]
  },
  {
   "cell_type": "code",
   "execution_count": 39,
   "metadata": {},
   "outputs": [
    {
     "data": {
      "image/png": "[encoded data removed]",
      "text/plain": [
       "<Figure size 720x2160 with 3 Axes>"
      ]
     },
     "metadata": {
      "needs_background": "light"
     },
     "output_type": "display_data"
    }
   ],
   "source": [
    "param_names = ['alpha', 'beta_age', 'beta_sex']\n",
    "\n",
    "n_params = len(param_names)\n",
    "n_rows, n_cols = n_params, 1\n",
    "fig, axes = plt.subplots(n_rows, n_cols, figsize=(10*n_cols, 10*n_rows))\n",
    "\n",
    "\n",
    "for i, param_name in enumerate(param_names):\n",
    "    param_values = fit.stan_variable(param_name)\n",
    "\n",
    "    counts, bins, patches = axes[i].hist(param_values.flatten(), bins=50, color='cornflowerblue', edgecolor='royalblue', density=True)\n",
    "\n",
    "    statistics = az.summary(fit, var_names=[param_name], kind='stats', hdi_prob=0.94)\n",
    "\n",
    "    hdi_l = statistics.loc[param_name, 'hdi_3%']\n",
    "    hdi_h = statistics.loc[param_name, 'hdi_97%']\n",
    "    mean = statistics.loc[param_name, 'mean']\n",
    "    \n",
    "    max_count = max(counts)\n",
    "    y_hdi = max_count * 0.1\n",
    "    y_annotate = max_count * 0.15\n",
    "\n",
    "    # Plot HDI line and annotations\n",
    "    axes[i].hlines(y=y_hdi, xmin=hdi_l, xmax=hdi_h, color='black')\n",
    "    axes[i].annotate(f'{hdi_l:.3f}', xy=(hdi_l, y_annotate), xycoords='data', fontsize=12, horizontalalignment='center')\n",
    "    axes[i].annotate(f'{hdi_h:.3f}', xy=(hdi_h, y_annotate), xycoords='data', fontsize=12, horizontalalignment='center')\n",
    "    axes[i].annotate('94% HDI', xy=((hdi_l + hdi_h) / 2, y_annotate), xycoords='data', fontsize=12, horizontalalignment='center')\n",
    "    axes[i].annotate(f'mean={mean:.3f}', xy=(mean, y_annotate * 1.5), xycoords='data', fontsize=12, horizontalalignment='center')\n",
    "    \n",
    "    axes[i].set_title(param_name.upper())\n",
    "    axes[i].set_xlabel(param_name)\n",
    "    axes[i].set_ylabel('Density')\n",
    "\n",
    "fig.tight_layout()\n",
    "plt.show()"
   ]
  },
  {
   "cell_type": "markdown",
   "metadata": {},
   "source": [
    "# Model 2\n",
    "## Article prior"
   ]
  },
  {
   "cell_type": "code",
   "execution_count": 44,
   "metadata": {},
   "outputs": [
    {
     "name": "stderr",
     "output_type": "stream",
     "text": [
      "INFO:cmdstanpy:compiling stan file /root/models/model_2_prior.stan to exe file /root/models/model_2_prior\n",
      "INFO:cmdstanpy:compiled model executable: /root/models/model_2_prior\n"
     ]
    }
   ],
   "source": [
    "model_2_ppc = CmdStanModel(stan_file='../models/model_2_prior.stan')"
   ]
  },
  {
   "cell_type": "code",
   "execution_count": 45,
   "metadata": {},
   "outputs": [
    {
     "name": "stderr",
     "output_type": "stream",
     "text": [
      "INFO:cmdstanpy:CmdStan start processing\n"
     ]
    },
    {
     "name": "stderr",
     "output_type": "stream",
     "text": [
      "chain 1 |\u001b[34m██████████\u001b[0m| 00:02 Sampling completed                    "
     ]
    },
    {
     "name": "stdout",
     "output_type": "stream",
     "text": [
      "                                                                                "
     ]
    },
    {
     "name": "stderr",
     "output_type": "stream",
     "text": [
      "\n",
      "INFO:cmdstanpy:CmdStan done processing.\n"
     ]
    },
    {
     "name": "stdout",
     "output_type": "stream",
     "text": [
      "\n"
     ]
    }
   ],
   "source": [
    "R = 100\n",
    "dict = {\n",
    "        \"N\": len(df_article),\n",
    "        \"sex\": df_article[\"SEX\"],\n",
    "        \"age\": df_article[\"CAGE_YR\"],\n",
    "        \"hospital_days\" : df_article[\"HOSPDAYS\"]\n",
    "}\n",
    "\n",
    "sim_data_art_2 = model_2_ppc.sample(data=dict,\n",
    "                        iter_sampling=R,\n",
    "                        iter_warmup=1,\n",
    "                        refresh=R,\n",
    "                        fixed_param=True,\n",
    "                        chains=1)"
   ]
  },
  {
   "cell_type": "code",
   "execution_count": 46,
   "metadata": {},
   "outputs": [],
   "source": [
    "sim_prior_model_2_1 = sim_data_art_2.draws_pd()\n",
    "\n",
    "death_pred_prior_2_1 = sim_data_art_2.stan_variable(\"death\")\n",
    "p_2_1 = sim_data_art_2.stan_variable(\"p\")\n",
    "a_2 = sim_data_art_2.stan_variable(\"a\")\n",
    "b_2 = sim_data_art_2.stan_variable(\"b\")\n",
    "c_2 = sim_data_art_2.stan_variable(\"c\")\n",
    "d_2 = sim_data_art_2.stan_variable(\"d\")\n",
    "e_2 = sim_data_art_2.stan_variable(\"e\")\n",
    "f_2 = sim_data_art_2.stan_variable(\"f\")"
   ]
  },
  {
   "cell_type": "code",
   "execution_count": 59,
   "metadata": {},
   "outputs": [],
   "source": [
    "death_pred_mean_2_art = np.mean(death_pred_prior_2_1, axis=0)\n",
    "death_pred_prior_2_1_ = death_pred_prior_2_1.flatten()"
   ]
  },
  {
   "cell_type": "code",
   "execution_count": 60,
   "metadata": {},
   "outputs": [
    {
     "name": "stdout",
     "output_type": "stream",
     "text": [
      "0.007963372691625227\n",
      "0.006133759775679643\n"
     ]
    }
   ],
   "source": [
    "print(death_pred_mean_2_art.mean())\n",
    "print(df_article[\"DIED\"].mean())"
   ]
  },
  {
   "cell_type": "code",
   "execution_count": 79,
   "metadata": {},
   "outputs": [
    {
     "data": {
      "image/png": "[encoded data removed]",
      "text/plain": [
       "<Figure size 432x288 with 1 Axes>"
      ]
     },
     "metadata": {
      "needs_background": "light"
     },
     "output_type": "display_data"
    }
   ],
   "source": [
    "plt.hist(death_pred_mean_2_art*100, bins=20, density=True)\n",
    "plt.show()"
   ]
  },
  {
   "cell_type": "code",
   "execution_count": 82,
   "metadata": {},
   "outputs": [
    {
     "data": {
      "image/png": "[encoded data removed]",
      "text/plain": [
       "<Figure size 432x288 with 1 Axes>"
      ]
     },
     "metadata": {
      "needs_background": "light"
     },
     "output_type": "display_data"
    }
   ],
   "source": [
    "plt.hist(death_pred_prior_2_1_*100, density=True)\n",
    "plt.show()"
   ]
  },
  {
   "cell_type": "markdown",
   "metadata": {},
   "source": [
    "## Data prior"
   ]
  },
  {
   "cell_type": "code",
   "execution_count": 83,
   "metadata": {},
   "outputs": [
    {
     "name": "stderr",
     "output_type": "stream",
     "text": [
      "INFO:cmdstanpy:CmdStan start processing\n",
      "chain 1 |\u001b[34m██████████\u001b[0m| 00:25 Sampling completed                      "
     ]
    },
    {
     "name": "stdout",
     "output_type": "stream",
     "text": [
      "                                                                                "
     ]
    },
    {
     "name": "stderr",
     "output_type": "stream",
     "text": [
      "\n",
      "INFO:cmdstanpy:CmdStan done processing.\n"
     ]
    },
    {
     "name": "stdout",
     "output_type": "stream",
     "text": [
      "\n"
     ]
    }
   ],
   "source": [
    "R = 1000\n",
    "dict = {\n",
    "        \"N\": len(df),\n",
    "        \"sex\": df[\"SEX\"],\n",
    "        \"age\": df[\"CAGE_YR\"],\n",
    "        \"hospital_days\" : df[\"HOSPDAYS\"]\n",
    "}\n",
    "\n",
    "sim_data_real_2 = model_2_ppc.sample(data=dict,\n",
    "                        iter_sampling=R,\n",
    "                        iter_warmup=1,\n",
    "                        refresh=R,\n",
    "                        fixed_param=True,\n",
    "                        chains=1)"
   ]
  },
  {
   "cell_type": "code",
   "execution_count": 84,
   "metadata": {},
   "outputs": [],
   "source": [
    "sim_prior_model_2_2 = sim_data_real_2.draws_pd()\n",
    "\n",
    "death_pred_prior_2_2 = sim_data_real_2.stan_variable(\"death\")\n",
    "p_2_2 = sim_data_real_2.stan_variable(\"p\")\n",
    "a_2_2 = sim_data_real_2.stan_variable(\"a\")\n",
    "b_2_2 = sim_data_real_2.stan_variable(\"b\")\n",
    "c_2_2 = sim_data_real_2.stan_variable(\"c\")\n",
    "d_2_2 = sim_data_real_2.stan_variable(\"d\")\n",
    "e_2_2 = sim_data_real_2.stan_variable(\"e\")\n",
    "f_2_2 = sim_data_real_2.stan_variable(\"f\")"
   ]
  },
  {
   "cell_type": "code",
   "execution_count": 94,
   "metadata": {},
   "outputs": [
    {
     "name": "stdout",
     "output_type": "stream",
     "text": [
      "0.02099864861769624\n",
      "0.016583064202111822\n"
     ]
    }
   ],
   "source": [
    "death_pred_real_2 = np.mean(death_pred_prior_2_2, axis=0)\n",
    "p_2_2 = np.mean(p_2_2, axis=0)\n",
    "\n",
    "print(death_pred_real_2.mean())\n",
    "print(df[\"DIED\"].mean())"
   ]
  },
  {
   "cell_type": "code",
   "execution_count": 95,
   "metadata": {},
   "outputs": [
    {
     "data": {
      "text/plain": [
       "array([0.018, 0.011, 0.011, ..., 0.012, 0.015, 0.007])"
      ]
     },
     "execution_count": 95,
     "metadata": {},
     "output_type": "execute_result"
    }
   ],
   "source": [
    "death_pred_real_2"
   ]
  },
  {
   "cell_type": "code",
   "execution_count": 96,
   "metadata": {},
   "outputs": [
    {
     "data": {
      "image/png": "[encoded data removed]",
      "text/plain": [
       "<Figure size 432x288 with 1 Axes>"
      ]
     },
     "metadata": {
      "needs_background": "light"
     },
     "output_type": "display_data"
    }
   ],
   "source": [
    "plt.hist(death_pred_real_2*100, bins=20, density=True)\n",
    "# plt.hist(p_1_2, density=True)\n",
    "# plt.hist(df[\"DIED\"], density=True)\n",
    "plt.show()"
   ]
  },
  {
   "cell_type": "markdown",
   "metadata": {},
   "source": [
    "## Data Posterior"
   ]
  },
  {
   "cell_type": "code",
   "execution_count": 100,
   "metadata": {},
   "outputs": [
    {
     "name": "stderr",
     "output_type": "stream",
     "text": [
      "INFO:cmdstanpy:compiling stan file /root/models/model_2_posterior.stan to exe file /root/models/model_2_posterior\n",
      "INFO:cmdstanpy:compiled model executable: /root/models/model_2_posterior\n"
     ]
    }
   ],
   "source": [
    "model_2_posterior = CmdStanModel(stan_file='../models/model_2_posterior.stan')"
   ]
  },
  {
   "cell_type": "code",
   "execution_count": 101,
   "metadata": {},
   "outputs": [
    {
     "name": "stderr",
     "output_type": "stream",
     "text": [
      "INFO:cmdstanpy:CmdStan start processing\n",
      "chain 1 |\u001b[33m          \u001b[0m| 00:00 Status\n",
      "\u001b[A\n",
      "\n",
      "chain 1 |\u001b[33m▍         \u001b[0m| 00:00 Status\n",
      "\u001b[A\n",
      "\n",
      "\u001b[A\u001b[A\n",
      "\n",
      "\u001b[A\u001b[A\n",
      "\n",
      "chain 1 |\u001b[33m▉         \u001b[0m| 03:23 Iteration:    1 / 2000 [  0%]  (Warmup)\n",
      "\n",
      "\u001b[A\u001b[A\n",
      "\u001b[A\n",
      "\n",
      "\u001b[A\u001b[A\n",
      "\n",
      "\u001b[A\u001b[A\n",
      "\n",
      "\u001b[A\u001b[A\n",
      "chain 1 |\u001b[33m█▎        \u001b[0m| 09:01 Iteration:  100 / 2000 [  5%]  (Warmup)\n",
      "\n",
      "\u001b[A\u001b[A"
     ]
    },
    {
     "ename": "KeyboardInterrupt",
     "evalue": "",
     "output_type": "error",
     "traceback": [
      "\u001b[0;31m---------------------------------------------------------------------------\u001b[0m",
      "\u001b[0;31mKeyboardInterrupt\u001b[0m                         Traceback (most recent call last)",
      "Input \u001b[0;32mIn [101]\u001b[0m, in \u001b[0;36m<cell line: 0>\u001b[0;34m()\u001b[0m\n\u001b[1;32m      1\u001b[0m R \u001b[38;5;241m=\u001b[39m \u001b[38;5;241m100\u001b[39m\n\u001b[1;32m      2\u001b[0m \u001b[38;5;28mdict\u001b[39m \u001b[38;5;241m=\u001b[39m {\n\u001b[1;32m      3\u001b[0m         \u001b[38;5;124m\"\u001b[39m\u001b[38;5;124mN\u001b[39m\u001b[38;5;124m\"\u001b[39m: \u001b[38;5;28mlen\u001b[39m(df),\n\u001b[1;32m      4\u001b[0m         \u001b[38;5;124m\"\u001b[39m\u001b[38;5;124mage\u001b[39m\u001b[38;5;124m\"\u001b[39m: df[\u001b[38;5;124m\"\u001b[39m\u001b[38;5;124mCAGE_YR\u001b[39m\u001b[38;5;124m\"\u001b[39m],\n\u001b[0;32m   (...)\u001b[0m\n\u001b[1;32m      7\u001b[0m         \u001b[38;5;124m\"\u001b[39m\u001b[38;5;124mdeath\u001b[39m\u001b[38;5;124m\"\u001b[39m: df[\u001b[38;5;124m\"\u001b[39m\u001b[38;5;124mDIED\u001b[39m\u001b[38;5;124m\"\u001b[39m]\n\u001b[1;32m      8\u001b[0m     }\n\u001b[0;32m---> 10\u001b[0m fit \u001b[38;5;241m=\u001b[39m model_2_posterior\u001b[38;5;241m.\u001b[39msample(data\u001b[38;5;241m=\u001b[39m\u001b[38;5;28mdict\u001b[39m, seed\u001b[38;5;241m=\u001b[39m\u001b[38;5;241m42\u001b[39m)\n",
      "File \u001b[0;32m/usr/local/lib/python3.12/site-packages/cmdstanpy/model.py:1035\u001b[0m, in \u001b[0;36mCmdStanModel.sample\u001b[0;34m(self, data, chains, parallel_chains, threads_per_chain, seed, chain_ids, inits, iter_warmup, iter_sampling, save_warmup, thin, max_treedepth, metric, step_size, adapt_engaged, adapt_delta, adapt_init_phase, adapt_metric_window, adapt_step_size, fixed_param, output_dir, sig_figs, save_latent_dynamics, save_profile, show_progress, show_console, refresh, time_fmt, force_one_process_per_chain)\u001b[0m\n\u001b[1;32m   1024\u001b[0m     progress_hook \u001b[38;5;241m=\u001b[39m \u001b[38;5;28mself\u001b[39m\u001b[38;5;241m.\u001b[39m_wrap_sampler_progress_hook(\n\u001b[1;32m   1025\u001b[0m         chain_ids\u001b[38;5;241m=\u001b[39mchain_ids,\n\u001b[1;32m   1026\u001b[0m         total\u001b[38;5;241m=\u001b[39miter_total,\n\u001b[1;32m   1027\u001b[0m     )\n\u001b[1;32m   1028\u001b[0m runset \u001b[38;5;241m=\u001b[39m RunSet(\n\u001b[1;32m   1029\u001b[0m     args\u001b[38;5;241m=\u001b[39margs,\n\u001b[1;32m   1030\u001b[0m     chains\u001b[38;5;241m=\u001b[39mchains,\n\u001b[0;32m   (...)\u001b[0m\n\u001b[1;32m   1033\u001b[0m     one_process_per_chain\u001b[38;5;241m=\u001b[39mone_process_per_chain,\n\u001b[1;32m   1034\u001b[0m )\n\u001b[0;32m-> 1035\u001b[0m \u001b[38;5;28;01mwith\u001b[39;00m ThreadPoolExecutor(max_workers\u001b[38;5;241m=\u001b[39mparallel_procs) \u001b[38;5;28;01mas\u001b[39;00m executor:\n\u001b[1;32m   1036\u001b[0m     \u001b[38;5;28;01mfor\u001b[39;00m i \u001b[38;5;129;01min\u001b[39;00m \u001b[38;5;28mrange\u001b[39m(runset\u001b[38;5;241m.\u001b[39mnum_procs):\n\u001b[1;32m   1037\u001b[0m         executor\u001b[38;5;241m.\u001b[39msubmit(\n\u001b[1;32m   1038\u001b[0m             \u001b[38;5;28mself\u001b[39m\u001b[38;5;241m.\u001b[39m_run_cmdstan,\n\u001b[1;32m   1039\u001b[0m             runset\u001b[38;5;241m=\u001b[39mrunset,\n\u001b[0;32m   (...)\u001b[0m\n\u001b[1;32m   1043\u001b[0m             progress_hook\u001b[38;5;241m=\u001b[39mprogress_hook,\n\u001b[1;32m   1044\u001b[0m         )\n",
      "File \u001b[0;32m/usr/local/lib/python3.12/concurrent/futures/_base.py:647\u001b[0m, in \u001b[0;36mExecutor.__exit__\u001b[0;34m(self, exc_type, exc_val, exc_tb)\u001b[0m\n\u001b[1;32m    646\u001b[0m \u001b[38;5;28;01mdef\u001b[39;00m \u001b[38;5;21m__exit__\u001b[39m(\u001b[38;5;28mself\u001b[39m, exc_type, exc_val, exc_tb):\n\u001b[0;32m--> 647\u001b[0m     \u001b[38;5;28mself\u001b[39m\u001b[38;5;241m.\u001b[39mshutdown(wait\u001b[38;5;241m=\u001b[39m\u001b[38;5;28;01mTrue\u001b[39;00m)\n\u001b[1;32m    648\u001b[0m     \u001b[38;5;28;01mreturn\u001b[39;00m \u001b[38;5;28;01mFalse\u001b[39;00m\n",
      "File \u001b[0;32m/usr/local/lib/python3.12/concurrent/futures/thread.py:238\u001b[0m, in \u001b[0;36mThreadPoolExecutor.shutdown\u001b[0;34m(self, wait, cancel_futures)\u001b[0m\n\u001b[1;32m    236\u001b[0m \u001b[38;5;28;01mif\u001b[39;00m wait:\n\u001b[1;32m    237\u001b[0m     \u001b[38;5;28;01mfor\u001b[39;00m t \u001b[38;5;129;01min\u001b[39;00m \u001b[38;5;28mself\u001b[39m\u001b[38;5;241m.\u001b[39m_threads:\n\u001b[0;32m--> 238\u001b[0m         t\u001b[38;5;241m.\u001b[39mjoin()\n",
      "File \u001b[0;32m/usr/local/lib/python3.12/threading.py:1147\u001b[0m, in \u001b[0;36mThread.join\u001b[0;34m(self, timeout)\u001b[0m\n\u001b[1;32m   1144\u001b[0m     \u001b[38;5;28;01mraise\u001b[39;00m \u001b[38;5;167;01mRuntimeError\u001b[39;00m(\u001b[38;5;124m\"\u001b[39m\u001b[38;5;124mcannot join current thread\u001b[39m\u001b[38;5;124m\"\u001b[39m)\n\u001b[1;32m   1146\u001b[0m \u001b[38;5;28;01mif\u001b[39;00m timeout \u001b[38;5;129;01mis\u001b[39;00m \u001b[38;5;28;01mNone\u001b[39;00m:\n\u001b[0;32m-> 1147\u001b[0m     \u001b[38;5;28mself\u001b[39m\u001b[38;5;241m.\u001b[39m_wait_for_tstate_lock()\n\u001b[1;32m   1148\u001b[0m \u001b[38;5;28;01melse\u001b[39;00m:\n\u001b[1;32m   1149\u001b[0m     \u001b[38;5;66;03m# the behavior of a negative timeout isn't documented, but\u001b[39;00m\n\u001b[1;32m   1150\u001b[0m     \u001b[38;5;66;03m# historically .join(timeout=x) for x<0 has acted as if timeout=0\u001b[39;00m\n\u001b[1;32m   1151\u001b[0m     \u001b[38;5;28mself\u001b[39m\u001b[38;5;241m.\u001b[39m_wait_for_tstate_lock(timeout\u001b[38;5;241m=\u001b[39m\u001b[38;5;28mmax\u001b[39m(timeout, \u001b[38;5;241m0\u001b[39m))\n",
      "File \u001b[0;32m/usr/local/lib/python3.12/threading.py:1167\u001b[0m, in \u001b[0;36mThread._wait_for_tstate_lock\u001b[0;34m(self, block, timeout)\u001b[0m\n\u001b[1;32m   1164\u001b[0m     \u001b[38;5;28;01mreturn\u001b[39;00m\n\u001b[1;32m   1166\u001b[0m \u001b[38;5;28;01mtry\u001b[39;00m:\n\u001b[0;32m-> 1167\u001b[0m     \u001b[38;5;28;01mif\u001b[39;00m lock\u001b[38;5;241m.\u001b[39macquire(block, timeout):\n\u001b[1;32m   1168\u001b[0m         lock\u001b[38;5;241m.\u001b[39mrelease()\n\u001b[1;32m   1169\u001b[0m         \u001b[38;5;28mself\u001b[39m\u001b[38;5;241m.\u001b[39m_stop()\n",
      "\u001b[0;31mKeyboardInterrupt\u001b[0m: "
     ]
    },
    {
     "name": "stderr",
     "output_type": "stream",
     "text": [
      "\n",
      "\n",
      "\u001b[A\u001b[A"
     ]
    }
   ],
   "source": [
    "R = 1000\n",
    "dict = {\n",
    "        \"N\": len(df),\n",
    "        \"age\": df[\"CAGE_YR\"],\n",
    "        \"sex\": df[\"SEX\"],\n",
    "        \"hospital_days\": df[\"HOSPDAYS\"],\n",
    "        \"death\": df[\"DIED\"]\n",
    "    }\n",
    "\n",
    "fit_2 = model_2_posterior.sample(data=dict,\n",
    "                    iter_sampling=R,\n",
    "                    chains=1,\n",
    "                    fixed_param=True,\n",
    "                    seed=42,refresh=R)"
   ]
  }
 ],
 "metadata": {
  "kernelspec": {
   "display_name": ".venv",
   "language": "python",
   "name": "python3"
  },
  "language_info": {
   "codemirror_mode": {
    "name": "ipython",
    "version": 3
   },
   "file_extension": ".py",
   "mimetype": "text/x-python",
   "name": "python",
   "nbconvert_exporter": "python",
   "pygments_lexer": "ipython3",
   "version": "3.12.2"
  }
 },
 "nbformat": 4,
 "nbformat_minor": 2
}
