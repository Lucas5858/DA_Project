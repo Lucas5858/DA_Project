{
 "cells": [
  {
   "cell_type": "markdown",
   "metadata": {},
   "source": [
    "# <center>Death prediction based on the VAERS post vaccine adverse reactions</center>\n",
    "\n",
    "*<center>Szymon Szewczyk, Łukasz Szyszka</center>*\n",
    "\n",
    "*<center>July 10, 2024</center>*\n",
    "\n",
    "---\n",
    "\n",
    "## Introduction\n",
    "\n",
    "aaa\n",
    "\n",
    "## Data Source\n",
    "\n",
    "aaa\n",
    "\n",
    "## Data Preprocessing"
   ]
  },
  {
   "cell_type": "code",
   "execution_count": 2,
   "metadata": {},
   "outputs": [
    {
     "name": "stderr",
     "output_type": "stream",
     "text": [
      "/usr/local/lib/python3.12/site-packages/tqdm/auto.py:22: TqdmWarning: IProgress not found. Please update jupyter and ipywidgets. See https://ipywidgets.readthedocs.io/en/stable/user_install.html\n",
      "  from .autonotebook import tqdm as notebook_tqdm\n"
     ]
    }
   ],
   "source": [
    "from cmdstanpy import CmdStanModel\n",
    "\n",
    "import arviz as az\n",
    "import numpy as np\n",
    "import scipy.stats as stats\n",
    "import seaborn as sns\n",
    "\n",
    "import matplotlib.pyplot as plt\n",
    "import pandas as pd\n",
    "# from .autonotebook import tqdm as notebook_tqdm"
   ]
  },
  {
   "cell_type": "code",
   "execution_count": 77,
   "metadata": {},
   "outputs": [
    {
     "data": {
      "text/plain": [
       "Index(['VAERS_ID', 'RECVDATE', 'STATE', 'AGE_YRS', 'CAGE_YR', 'CAGE_MO', 'SEX',\n",
       "       'RPT_DATE', 'SYMPTOM_TEXT', 'DIED', 'DATEDIED', 'L_THREAT', 'ER_VISIT',\n",
       "       'HOSPITAL', 'HOSPDAYS', 'X_STAY', 'DISABLE', 'RECOVD', 'VAX_DATE',\n",
       "       'ONSET_DATE', 'NUMDAYS', 'LAB_DATA', 'V_ADMINBY', 'V_FUNDBY',\n",
       "       'OTHER_MEDS', 'CUR_ILL', 'HISTORY', 'PRIOR_VAX', 'SPLTTYPE',\n",
       "       'FORM_VERS', 'TODAYS_DATE', 'BIRTH_DEFECT', 'OFC_VISIT', 'ER_ED_VISIT',\n",
       "       'ALLERGIES', 'VAX_TYPE', 'VAX_MANU', 'VAX_LOT', 'VAX_DOSE_SERIES',\n",
       "       'VAX_ROUTE', 'VAX_SITE', 'VAX_NAME'],\n",
       "      dtype='object')"
      ]
     },
     "execution_count": 77,
     "metadata": {},
     "output_type": "execute_result"
    }
   ],
   "source": [
    "df_data = pd.read_csv(\"../dane/2022VAERSDATA.csv\", encoding='latin1', low_memory=False)\n",
    "df_vax = pd.read_csv(\"../dane/2022VAERSVAX.csv\", encoding='latin1', low_memory=False)\n",
    "df = pd.merge(df_data, df_vax, on='VAERS_ID')\n",
    "\n",
    "df.columns"
   ]
  },
  {
   "cell_type": "code",
   "execution_count": 78,
   "metadata": {},
   "outputs": [
    {
     "name": "stdout",
     "output_type": "stream",
     "text": [
      "<class 'pandas.core.frame.DataFrame'>\n",
      "Int64Index: 283454 entries, 0 to 283453\n",
      "Data columns (total 10 columns):\n",
      " #   Column    Non-Null Count   Dtype  \n",
      "---  ------    --------------   -----  \n",
      " 0   VAERS_ID  283454 non-null  int64  \n",
      " 1   STATE     227998 non-null  object \n",
      " 2   CAGE_YR   214658 non-null  float64\n",
      " 3   SEX       283454 non-null  object \n",
      " 4   DIED      8248 non-null    object \n",
      " 5   HOSPITAL  39676 non-null   object \n",
      " 6   HOSPDAYS  23257 non-null   float64\n",
      " 7   NUMDAYS   228359 non-null  float64\n",
      " 8   VAX_TYPE  283454 non-null  object \n",
      " 9   VAX_MANU  283454 non-null  object \n",
      "dtypes: float64(3), int64(1), object(6)\n",
      "memory usage: 23.8+ MB\n"
     ]
    }
   ],
   "source": [
    "df = df[['VAERS_ID', \"STATE\", \"CAGE_YR\", \"SEX\", \"DIED\", \"HOSPITAL\", \"HOSPDAYS\", \"NUMDAYS\", \"VAX_TYPE\", \"VAX_MANU\"]]\n",
    "\n",
    "df.info()"
   ]
  },
  {
   "cell_type": "code",
   "execution_count": 79,
   "metadata": {},
   "outputs": [
    {
     "name": "stdout",
     "output_type": "stream",
     "text": [
      "<class 'pandas.core.frame.DataFrame'>\n",
      "Int64Index: 173665 entries, 208 to 283453\n",
      "Data columns (total 10 columns):\n",
      " #   Column    Non-Null Count   Dtype  \n",
      "---  ------    --------------   -----  \n",
      " 0   VAERS_ID  173665 non-null  int64  \n",
      " 1   STATE     173665 non-null  object \n",
      " 2   CAGE_YR   173665 non-null  float64\n",
      " 3   SEX       173665 non-null  int64  \n",
      " 4   DIED      173665 non-null  int64  \n",
      " 5   HOSPITAL  173665 non-null  int64  \n",
      " 6   HOSPDAYS  173665 non-null  float64\n",
      " 7   NUMDAYS   173665 non-null  float64\n",
      " 8   VAX_TYPE  173665 non-null  object \n",
      " 9   VAX_MANU  173665 non-null  object \n",
      "dtypes: float64(3), int64(4), object(3)\n",
      "memory usage: 14.6+ MB\n"
     ]
    }
   ],
   "source": [
    "df = df[df[\"SEX\"].isin([\"F\", \"M\"])]\n",
    "df['SEX'] = df['SEX'].apply(lambda x: 1 if x == 'M' else 0)\n",
    "df = df.dropna(subset=[\"STATE\", \"CAGE_YR\", \"NUMDAYS\"])\n",
    "df['DIED'] = df['DIED'].apply(lambda x: 1 if x == 'Y' else 0)\n",
    "df['HOSPITAL'] = df['HOSPITAL'].apply(lambda x: 1 if x == 'Y' else 0)\n",
    "df['HOSPDAYS'] = pd.to_numeric(df['HOSPDAYS'], errors='coerce').fillna(0)\n",
    "\n",
    "df.info()"
   ]
  },
  {
   "cell_type": "markdown",
   "metadata": {},
   "source": [
    "### Additional constrains\n",
    "\n",
    "- States\n",
    "- Age\n",
    "- Vaccine type"
   ]
  },
  {
   "cell_type": "code",
   "execution_count": 80,
   "metadata": {},
   "outputs": [
    {
     "data": {
      "text/html": [
       "<div>\n",
       "<style scoped>\n",
       "    .dataframe tbody tr th:only-of-type {\n",
       "        vertical-align: middle;\n",
       "    }\n",
       "\n",
       "    .dataframe tbody tr th {\n",
       "        vertical-align: top;\n",
       "    }\n",
       "\n",
       "    .dataframe thead th {\n",
       "        text-align: right;\n",
       "    }\n",
       "</style>\n",
       "<table border=\"1\" class=\"dataframe\">\n",
       "  <thead>\n",
       "    <tr style=\"text-align: right;\">\n",
       "      <th></th>\n",
       "      <th>VAERS_ID</th>\n",
       "      <th>CAGE_YR</th>\n",
       "      <th>SEX</th>\n",
       "      <th>DIED</th>\n",
       "      <th>HOSPITAL</th>\n",
       "      <th>HOSPDAYS</th>\n",
       "      <th>NUMDAYS</th>\n",
       "    </tr>\n",
       "  </thead>\n",
       "  <tbody>\n",
       "    <tr>\n",
       "      <th>count</th>\n",
       "      <td>4.365900e+04</td>\n",
       "      <td>43659.000000</td>\n",
       "      <td>43659.000000</td>\n",
       "      <td>43659.000000</td>\n",
       "      <td>43659.000000</td>\n",
       "      <td>43659.000000</td>\n",
       "      <td>43659.000000</td>\n",
       "    </tr>\n",
       "    <tr>\n",
       "      <th>mean</th>\n",
       "      <td>2.265529e+06</td>\n",
       "      <td>65.976591</td>\n",
       "      <td>0.369225</td>\n",
       "      <td>0.016583</td>\n",
       "      <td>0.094620</td>\n",
       "      <td>0.395680</td>\n",
       "      <td>13.492293</td>\n",
       "    </tr>\n",
       "    <tr>\n",
       "      <th>std</th>\n",
       "      <td>1.482283e+05</td>\n",
       "      <td>10.090116</td>\n",
       "      <td>0.482601</td>\n",
       "      <td>0.127705</td>\n",
       "      <td>0.292692</td>\n",
       "      <td>2.029613</td>\n",
       "      <td>23.354360</td>\n",
       "    </tr>\n",
       "    <tr>\n",
       "      <th>min</th>\n",
       "      <td>1.997131e+06</td>\n",
       "      <td>50.000000</td>\n",
       "      <td>0.000000</td>\n",
       "      <td>0.000000</td>\n",
       "      <td>0.000000</td>\n",
       "      <td>0.000000</td>\n",
       "      <td>0.000000</td>\n",
       "    </tr>\n",
       "    <tr>\n",
       "      <th>25%</th>\n",
       "      <td>2.144674e+06</td>\n",
       "      <td>58.000000</td>\n",
       "      <td>0.000000</td>\n",
       "      <td>0.000000</td>\n",
       "      <td>0.000000</td>\n",
       "      <td>0.000000</td>\n",
       "      <td>0.000000</td>\n",
       "    </tr>\n",
       "    <tr>\n",
       "      <th>50%</th>\n",
       "      <td>2.273466e+06</td>\n",
       "      <td>65.000000</td>\n",
       "      <td>0.000000</td>\n",
       "      <td>0.000000</td>\n",
       "      <td>0.000000</td>\n",
       "      <td>0.000000</td>\n",
       "      <td>1.000000</td>\n",
       "    </tr>\n",
       "    <tr>\n",
       "      <th>75%</th>\n",
       "      <td>2.373750e+06</td>\n",
       "      <td>73.000000</td>\n",
       "      <td>1.000000</td>\n",
       "      <td>0.000000</td>\n",
       "      <td>0.000000</td>\n",
       "      <td>0.000000</td>\n",
       "      <td>17.000000</td>\n",
       "    </tr>\n",
       "    <tr>\n",
       "      <th>max</th>\n",
       "      <td>2.719848e+06</td>\n",
       "      <td>100.000000</td>\n",
       "      <td>1.000000</td>\n",
       "      <td>1.000000</td>\n",
       "      <td>1.000000</td>\n",
       "      <td>30.000000</td>\n",
       "      <td>90.000000</td>\n",
       "    </tr>\n",
       "  </tbody>\n",
       "</table>\n",
       "</div>"
      ],
      "text/plain": [
       "           VAERS_ID       CAGE_YR           SEX          DIED      HOSPITAL  \\\n",
       "count  4.365900e+04  43659.000000  43659.000000  43659.000000  43659.000000   \n",
       "mean   2.265529e+06     65.976591      0.369225      0.016583      0.094620   \n",
       "std    1.482283e+05     10.090116      0.482601      0.127705      0.292692   \n",
       "min    1.997131e+06     50.000000      0.000000      0.000000      0.000000   \n",
       "25%    2.144674e+06     58.000000      0.000000      0.000000      0.000000   \n",
       "50%    2.273466e+06     65.000000      0.000000      0.000000      0.000000   \n",
       "75%    2.373750e+06     73.000000      1.000000      0.000000      0.000000   \n",
       "max    2.719848e+06    100.000000      1.000000      1.000000      1.000000   \n",
       "\n",
       "           HOSPDAYS       NUMDAYS  \n",
       "count  43659.000000  43659.000000  \n",
       "mean       0.395680     13.492293  \n",
       "std        2.029613     23.354360  \n",
       "min        0.000000      0.000000  \n",
       "25%        0.000000      0.000000  \n",
       "50%        0.000000      1.000000  \n",
       "75%        0.000000     17.000000  \n",
       "max       30.000000     90.000000  "
      ]
     },
     "execution_count": 80,
     "metadata": {},
     "output_type": "execute_result"
    }
   ],
   "source": [
    "######################### STATES #######################\n",
    "df = df[df[\"STATE\"] != 'SD']\n",
    "df = df[df[\"STATE\"] != 'TN']\n",
    "df = df[df[\"STATE\"] != 'KY']\n",
    "df = df[df[\"STATE\"] != 'WI']\n",
    "# df = df[df[\"STATES\"].isin([\"TN\", \"WI\", \"CA\"])]\n",
    "\n",
    "state_counts = df['STATE'].value_counts()\n",
    "states_to_keep = state_counts[state_counts >= 200].index\n",
    "df = df[df['STATE'].isin(states_to_keep)]\n",
    "\n",
    "######################### AGE ########################\n",
    "df = df[df[\"CAGE_YR\"] >= 50]\n",
    "df = df[df[\"CAGE_YR\"] <= 100]\n",
    "\n",
    "#################### VACCINE TYPE ########################\n",
    "df = df[df[\"VAX_TYPE\"] == 'COVID19']\n",
    "\n",
    "#################### VACCINE MANU ########################\n",
    "df = df[df[\"VAX_MANU\"].isin([\"MODERNA\", r\"PFIZER\\BIONTECH\"])]\n",
    "\n",
    "#################### HOSPITAL ########################\n",
    "# df = df[df[\"HOSPITAL\"] == 1]\n",
    "\n",
    "#################### HOSPDAYS ########################\n",
    "df = df[df[\"HOSPDAYS\"] <= 30]\n",
    "\n",
    "#################### NUMDAYS ########################\n",
    "# df = df[df[\"NUMDAYS\"] >= 1]\n",
    "df = df[df[\"NUMDAYS\"] <= 90]\n",
    "\n",
    "df.describe()"
   ]
  },
  {
   "cell_type": "markdown",
   "metadata": {},
   "source": [
    "## Distribution of outcomes"
   ]
  },
  {
   "cell_type": "code",
   "execution_count": 11,
   "metadata": {},
   "outputs": [],
   "source": [
    "# plt.figure(figsize=(5 , 5))\n",
    "# plt.hist(x=df[\"DIED\"])\n",
    "# plt.ylabel('Number of People')\n",
    "# plt.title('Distribution of Outcome')\n",
    "# plt.show()"
   ]
  },
  {
   "cell_type": "code",
   "execution_count": 10,
   "metadata": {},
   "outputs": [],
   "source": [
    "# plt.figure(figsize=(5,5))\n",
    "# pie_data=df['DIED'].value_counts()\n",
    "# explode=(0.05,0)\n",
    "# colors=['moccasin','coral']\n",
    "# labels=['0-NonDeath','1-Death']\n",
    "# sns.set(font_scale=1.5)\n",
    "# plt.pie(pie_data,labels=labels,autopct=\"%.2f%%\",explode=explode,colors=colors)\n",
    "# plt.legend(labels, loc='lower left')\n",
    "# plt.title('Proportion of Death and Non-Death Individuals')\n",
    "# plt.show()"
   ]
  },
  {
   "cell_type": "code",
   "execution_count": 12,
   "metadata": {},
   "outputs": [],
   "source": [
    "# df[[\"CAGE_YR\", \"SEX\", \"HOSPITAL\", \"HOSPDAYS\", \"NUMDAYS\", \"DIED\", \"STATE\"]].hist(figsize=(20,16), grid=True, bins=50)"
   ]
  },
  {
   "cell_type": "code",
   "execution_count": 13,
   "metadata": {},
   "outputs": [],
   "source": [
    "# df[[\"CAGE_YR\", \"SEX\", \"HOSPITAL\", \"HOSPDAYS\", \"NUMDAYS\", \"DIED\", \"STATE\"]].plot(kind='box', subplots=True, layout=(3,3), sharex=False, sharey=False, figsize=(10,10))\n",
    "# sns.set(font_scale = 1.5)"
   ]
  },
  {
   "cell_type": "code",
   "execution_count": 14,
   "metadata": {},
   "outputs": [],
   "source": [
    "# fig, ax = plt.subplots(3,2, figsize=(10,10))\n",
    "# sns.set(font_scale = 1)\n",
    "# sns.distplot(df.CAGE_YR, ax = ax[0,0], color = 'orange')\n",
    "# sns.distplot(df.SEX, ax = ax[0,1], color = 'red')\n",
    "# sns.distplot(df.HOSPDAYS, ax = ax[1,0], color = 'seagreen')\n",
    "# sns.distplot(df.HOSPITAL, ax = ax[1,1], color = 'purple')\n",
    "# sns.distplot(df.NUMDAYS, ax = ax[2,0], color = 'deeppink')\n",
    "# sns.distplot(df.DIED, ax = ax[2,1], color = 'brown')"
   ]
  },
  {
   "cell_type": "code",
   "execution_count": 81,
   "metadata": {},
   "outputs": [],
   "source": [
    "corr = df[[\"CAGE_YR\", \"SEX\", \"HOSPITAL\", \"HOSPDAYS\", \"NUMDAYS\", \"DIED\"]].corr()\n",
    "# corr"
   ]
  },
  {
   "cell_type": "code",
   "execution_count": 82,
   "metadata": {},
   "outputs": [
    {
     "data": {
      "image/png": "[encoded data removed]",
      "text/plain": [
       "<Figure size 432x432 with 1 Axes>"
      ]
     },
     "metadata": {
      "needs_background": "light"
     },
     "output_type": "display_data"
    }
   ],
   "source": [
    "# plt.figure(figsize=(15,10))\n",
    "# sns.set(font_scale = 1.5)\n",
    "# sns.heatmap(corr, annot = True, cmap = 'plasma', vmin = -1, vmax = 1, linecolor='white', linewidths= 1)\n",
    "cor = [\"CAGE_YR\", \"SEX\", \"HOSPITAL\", \"HOSPDAYS\", \"NUMDAYS\", \"DIED\"]\n",
    "\n",
    "fig, ax = plt.subplots(figsize=(6,6))\n",
    "im = ax.imshow(corr)\n",
    "\n",
    "ax.set_xticks(np.arange(len(cor)), labels=cor)\n",
    "ax.set_yticks(np.arange(len(cor)), labels=cor)\n",
    "plt.setp(ax.get_xticklabels(), rotation=45, ha=\"right\",\n",
    "         rotation_mode=\"anchor\")\n",
    "\n",
    "for i in range(len(cor)):\n",
    "    for j in range(len(cor)):\n",
    "        text = ax.text(j, i, f\"{corr.iloc[i, j]:.2f}\",\n",
    "                       ha=\"center\", va=\"center\", color=\"w\")\n",
    "\n",
    "ax.set_title(\"Harvest of local farmers (in tons/year)\")\n",
    "fig.tight_layout()\n",
    "plt.show()"
   ]
  },
  {
   "cell_type": "code",
   "execution_count": 16,
   "metadata": {},
   "outputs": [],
   "source": [
    "# sns.set(font_scale = 1.5)\n",
    "# sns.pairplot(data=df, hue='DIED', diag_kind='kde', palette='Set2')"
   ]
  },
  {
   "cell_type": "markdown",
   "metadata": {},
   "source": [
    "# Model"
   ]
  },
  {
   "cell_type": "markdown",
   "metadata": {},
   "source": [
    "## Article Prior"
   ]
  },
  {
   "cell_type": "code",
   "execution_count": 84,
   "metadata": {},
   "outputs": [],
   "source": [
    "df_data_2020 = pd.read_csv(\"../dane/2020VAERSDATA.csv\", encoding='latin1', low_memory=False)\n",
    "df_vax_2020 = pd.read_csv(\"../dane/2020VAERSVAX.csv\", encoding='latin1', low_memory=False)\n",
    "df_2020 = pd.merge(df_data_2020, df_vax_2020, on='VAERS_ID')\n",
    "\n",
    "df_data_2021 = pd.read_csv(\"../dane/2021VAERSDATA.csv\", encoding='latin1', low_memory=False)\n",
    "df_vax_2021 = pd.read_csv(\"../dane/2021VAERSVAX.csv\", encoding='latin1', low_memory=False)\n",
    "df_2021 = pd.merge(df_data_2021, df_vax_2021, on='VAERS_ID')\n",
    "\n",
    "df_article = pd.concat([df_2020, df_2021])\n",
    "df_article = df_article.set_index('VAERS_ID')"
   ]
  },
  {
   "cell_type": "code",
   "execution_count": 85,
   "metadata": {},
   "outputs": [
    {
     "name": "stdout",
     "output_type": "stream",
     "text": [
      "<class 'pandas.core.frame.DataFrame'>\n",
      "Int64Index: 64921 entries, 901875 to 2642529\n",
      "Data columns (total 9 columns):\n",
      " #   Column    Non-Null Count  Dtype  \n",
      "---  ------    --------------  -----  \n",
      " 0   STATE     52156 non-null  object \n",
      " 1   CAGE_YR   56362 non-null  float64\n",
      " 2   SEX       64921 non-null  object \n",
      " 3   DIED      349 non-null    object \n",
      " 4   HOSPITAL  1044 non-null   object \n",
      " 5   HOSPDAYS  653 non-null    float64\n",
      " 6   NUMDAYS   60416 non-null  float64\n",
      " 7   VAX_TYPE  64921 non-null  object \n",
      " 8   VAX_MANU  64921 non-null  object \n",
      "dtypes: float64(3), object(6)\n",
      "memory usage: 5.0+ MB\n"
     ]
    }
   ],
   "source": [
    "df_article['RECVDATE'] = pd.to_datetime(df_article['RECVDATE'], format='%m/%d/%Y')\n",
    "\n",
    "start_date = '2020-12-14'\n",
    "end_date = '2021-01-22'\n",
    "\n",
    "df_article = df_article[(df_article['RECVDATE'] >= start_date) & (df_article['RECVDATE'] <= end_date)]\n",
    "\n",
    "df_article = df_article[[\"STATE\", \"CAGE_YR\", \"SEX\", \"DIED\", \"HOSPITAL\", \"HOSPDAYS\", \"NUMDAYS\", \"VAX_TYPE\", \"VAX_MANU\"]]\n",
    "\n",
    "df_article.info()"
   ]
  },
  {
   "cell_type": "code",
   "execution_count": 86,
   "metadata": {},
   "outputs": [
    {
     "name": "stdout",
     "output_type": "stream",
     "text": [
      "<class 'pandas.core.frame.DataFrame'>\n",
      "Int64Index: 45649 entries, 901875 to 2642010\n",
      "Data columns (total 9 columns):\n",
      " #   Column    Non-Null Count  Dtype  \n",
      "---  ------    --------------  -----  \n",
      " 0   STATE     45649 non-null  object \n",
      " 1   CAGE_YR   45649 non-null  float64\n",
      " 2   SEX       45649 non-null  int64  \n",
      " 3   DIED      45649 non-null  int64  \n",
      " 4   HOSPITAL  45649 non-null  int64  \n",
      " 5   HOSPDAYS  45649 non-null  float64\n",
      " 6   NUMDAYS   45649 non-null  float64\n",
      " 7   VAX_TYPE  45649 non-null  object \n",
      " 8   VAX_MANU  45649 non-null  object \n",
      "dtypes: float64(3), int64(3), object(3)\n",
      "memory usage: 3.5+ MB\n"
     ]
    }
   ],
   "source": [
    "df_article = df_article[df_article[\"SEX\"].isin([\"F\", \"M\"])]\n",
    "df_article['SEX'] = df_article['SEX'].apply(lambda x: 1 if x == 'M' else 0)\n",
    "df_article = df_article.dropna(subset=[\"STATE\", \"CAGE_YR\", \"NUMDAYS\"])\n",
    "df_article['DIED'] = df_article['DIED'].apply(lambda x: 1 if x == 'Y' else 0)\n",
    "df_article['HOSPITAL'] = df_article['HOSPITAL'].apply(lambda x: 1 if x == 'Y' else 0)\n",
    "df_article['HOSPDAYS'] = pd.to_numeric(df_article['HOSPDAYS'], errors='coerce').fillna(0)\n",
    "\n",
    "df_article = df_article[df_article[\"NUMDAYS\"] <= 90]\n",
    "\n",
    "df_article.info()"
   ]
  },
  {
   "cell_type": "code",
   "execution_count": 87,
   "metadata": {},
   "outputs": [
    {
     "data": {
      "text/html": [
       "<div>\n",
       "<style scoped>\n",
       "    .dataframe tbody tr th:only-of-type {\n",
       "        vertical-align: middle;\n",
       "    }\n",
       "\n",
       "    .dataframe tbody tr th {\n",
       "        vertical-align: top;\n",
       "    }\n",
       "\n",
       "    .dataframe thead th {\n",
       "        text-align: right;\n",
       "    }\n",
       "</style>\n",
       "<table border=\"1\" class=\"dataframe\">\n",
       "  <thead>\n",
       "    <tr style=\"text-align: right;\">\n",
       "      <th></th>\n",
       "      <th>CAGE_YR</th>\n",
       "      <th>SEX</th>\n",
       "      <th>DIED</th>\n",
       "      <th>HOSPITAL</th>\n",
       "      <th>HOSPDAYS</th>\n",
       "      <th>NUMDAYS</th>\n",
       "    </tr>\n",
       "  </thead>\n",
       "  <tbody>\n",
       "    <tr>\n",
       "      <th>count</th>\n",
       "      <td>45649.000000</td>\n",
       "      <td>45649.000000</td>\n",
       "      <td>45649.000000</td>\n",
       "      <td>45649.000000</td>\n",
       "      <td>45649.000000</td>\n",
       "      <td>45649.000000</td>\n",
       "    </tr>\n",
       "    <tr>\n",
       "      <th>mean</th>\n",
       "      <td>45.371837</td>\n",
       "      <td>0.193104</td>\n",
       "      <td>0.006134</td>\n",
       "      <td>0.017613</td>\n",
       "      <td>0.035247</td>\n",
       "      <td>2.026375</td>\n",
       "    </tr>\n",
       "    <tr>\n",
       "      <th>std</th>\n",
       "      <td>16.623778</td>\n",
       "      <td>0.394738</td>\n",
       "      <td>0.078079</td>\n",
       "      <td>0.131540</td>\n",
       "      <td>0.439273</td>\n",
       "      <td>4.233492</td>\n",
       "    </tr>\n",
       "    <tr>\n",
       "      <th>min</th>\n",
       "      <td>0.000000</td>\n",
       "      <td>0.000000</td>\n",
       "      <td>0.000000</td>\n",
       "      <td>0.000000</td>\n",
       "      <td>0.000000</td>\n",
       "      <td>0.000000</td>\n",
       "    </tr>\n",
       "    <tr>\n",
       "      <th>25%</th>\n",
       "      <td>33.000000</td>\n",
       "      <td>0.000000</td>\n",
       "      <td>0.000000</td>\n",
       "      <td>0.000000</td>\n",
       "      <td>0.000000</td>\n",
       "      <td>0.000000</td>\n",
       "    </tr>\n",
       "    <tr>\n",
       "      <th>50%</th>\n",
       "      <td>44.000000</td>\n",
       "      <td>0.000000</td>\n",
       "      <td>0.000000</td>\n",
       "      <td>0.000000</td>\n",
       "      <td>0.000000</td>\n",
       "      <td>1.000000</td>\n",
       "    </tr>\n",
       "    <tr>\n",
       "      <th>75%</th>\n",
       "      <td>57.000000</td>\n",
       "      <td>0.000000</td>\n",
       "      <td>0.000000</td>\n",
       "      <td>0.000000</td>\n",
       "      <td>0.000000</td>\n",
       "      <td>2.000000</td>\n",
       "    </tr>\n",
       "    <tr>\n",
       "      <th>max</th>\n",
       "      <td>104.000000</td>\n",
       "      <td>1.000000</td>\n",
       "      <td>1.000000</td>\n",
       "      <td>1.000000</td>\n",
       "      <td>30.000000</td>\n",
       "      <td>90.000000</td>\n",
       "    </tr>\n",
       "  </tbody>\n",
       "</table>\n",
       "</div>"
      ],
      "text/plain": [
       "            CAGE_YR           SEX          DIED      HOSPITAL      HOSPDAYS  \\\n",
       "count  45649.000000  45649.000000  45649.000000  45649.000000  45649.000000   \n",
       "mean      45.371837      0.193104      0.006134      0.017613      0.035247   \n",
       "std       16.623778      0.394738      0.078079      0.131540      0.439273   \n",
       "min        0.000000      0.000000      0.000000      0.000000      0.000000   \n",
       "25%       33.000000      0.000000      0.000000      0.000000      0.000000   \n",
       "50%       44.000000      0.000000      0.000000      0.000000      0.000000   \n",
       "75%       57.000000      0.000000      0.000000      0.000000      0.000000   \n",
       "max      104.000000      1.000000      1.000000      1.000000     30.000000   \n",
       "\n",
       "            NUMDAYS  \n",
       "count  45649.000000  \n",
       "mean       2.026375  \n",
       "std        4.233492  \n",
       "min        0.000000  \n",
       "25%        0.000000  \n",
       "50%        1.000000  \n",
       "75%        2.000000  \n",
       "max       90.000000  "
      ]
     },
     "execution_count": 87,
     "metadata": {},
     "output_type": "execute_result"
    }
   ],
   "source": [
    "df_article.describe()"
   ]
  },
  {
   "cell_type": "code",
   "execution_count": 122,
   "metadata": {},
   "outputs": [
    {
     "name": "stderr",
     "output_type": "stream",
     "text": [
      "INFO:cmdstanpy:compiling stan file /root/models/model_1_prior.stan to exe file /root/models/model_1_prior\n",
      "INFO:cmdstanpy:compiled model executable: /root/models/model_1_prior\n",
      "INFO:cmdstanpy:CmdStan start processing\n",
      "chain 1 |\u001b[34m██████████\u001b[0m| 00:02 Sampling completed                    "
     ]
    },
    {
     "name": "stdout",
     "output_type": "stream",
     "text": [
      "                                                                                "
     ]
    },
    {
     "name": "stderr",
     "output_type": "stream",
     "text": [
      "\n",
      "INFO:cmdstanpy:CmdStan done processing.\n"
     ]
    },
    {
     "name": "stdout",
     "output_type": "stream",
     "text": [
      "\n"
     ]
    }
   ],
   "source": [
    "model_ppc = CmdStanModel(stan_file='../models/model_1_prior.stan')\n",
    "\n",
    "R = 100\n",
    "dict = {\n",
    "        \"N\": len(df_article),\n",
    "        \"sex\": df_article[\"SEX\"],\n",
    "        \"age\": df_article[\"CAGE_YR\"]\n",
    "}\n",
    "\n",
    "sim_data_art = model_ppc.sample(data=dict,\n",
    "                        iter_sampling=R,\n",
    "                        iter_warmup=1,\n",
    "                        refresh=R,\n",
    "                        fixed_param=True,\n",
    "                        chains=1)"
   ]
  },
  {
   "cell_type": "code",
   "execution_count": 123,
   "metadata": {},
   "outputs": [],
   "source": [
    "sim_prior_model_1_1 = sim_data_art.draws_pd()\n",
    "\n",
    "death_pred_prior_1_1 = sim_data_art.stan_variable(\"death\")\n",
    "p_1_1 = sim_data_art.stan_variable(\"p\")\n",
    "alpha_1_1 = sim_data_art.stan_variable(\"alpha\")\n",
    "beta_age_1_1 = sim_data_art.stan_variable(\"beta_age\")\n",
    "beta_sex_1_1 = sim_data_art.stan_variable(\"beta_sex\")"
   ]
  },
  {
   "cell_type": "code",
   "execution_count": 124,
   "metadata": {},
   "outputs": [],
   "source": [
    "p_1_1 = p.flatten()\n",
    "death_pred_prior_1_1 = death_pred_prior_1_1.flatten()"
   ]
  },
  {
   "cell_type": "code",
   "execution_count": 125,
   "metadata": {},
   "outputs": [
    {
     "name": "stdout",
     "output_type": "stream",
     "text": [
      "0.0061815154767902915\n",
      "0.006133759775679643\n"
     ]
    }
   ],
   "source": [
    "print(death_pred_prior_1_1.mean())\n",
    "print(df_article[\"DIED\"].mean())"
   ]
  },
  {
   "cell_type": "code",
   "execution_count": 126,
   "metadata": {},
   "outputs": [
    {
     "data": {
      "image/png": "[encoded data removed]",
      "text/plain": [
       "<Figure size 432x288 with 1 Axes>"
      ]
     },
     "metadata": {
      "needs_background": "light"
     },
     "output_type": "display_data"
    }
   ],
   "source": [
    "plt.hist(death_pred_prior_1_1, density=True)\n",
    "plt.show()"
   ]
  },
  {
   "cell_type": "markdown",
   "metadata": {},
   "source": [
    "## Data Prior"
   ]
  },
  {
   "cell_type": "code",
   "execution_count": 127,
   "metadata": {},
   "outputs": [
    {
     "name": "stderr",
     "output_type": "stream",
     "text": [
      "INFO:cmdstanpy:CmdStan start processing\n"
     ]
    },
    {
     "name": "stderr",
     "output_type": "stream",
     "text": [
      "chain 1 |\u001b[34m██████████\u001b[0m| 00:02 Sampling completed                    "
     ]
    },
    {
     "name": "stdout",
     "output_type": "stream",
     "text": [
      "                                                                                "
     ]
    },
    {
     "name": "stderr",
     "output_type": "stream",
     "text": [
      "\n",
      "INFO:cmdstanpy:CmdStan done processing.\n"
     ]
    },
    {
     "name": "stdout",
     "output_type": "stream",
     "text": [
      "\n"
     ]
    }
   ],
   "source": [
    "R = 100\n",
    "dict = {\n",
    "        \"N\": len(df),\n",
    "        \"sex\": df[\"SEX\"],\n",
    "        \"age\": df[\"CAGE_YR\"]\n",
    "}\n",
    "\n",
    "sim_data_real = model_ppc.sample(data=dict,\n",
    "                        iter_sampling=R,\n",
    "                        iter_warmup=1,\n",
    "                        refresh=R,\n",
    "                        fixed_param=True,\n",
    "                        chains=1)"
   ]
  },
  {
   "cell_type": "code",
   "execution_count": 128,
   "metadata": {},
   "outputs": [],
   "source": [
    "sim_prior_model_1_2 = sim_data_real.draws_pd()\n",
    "\n",
    "death_pred_prior_1_2 = sim_data_real.stan_variable(\"death\")\n",
    "p_1_2 = sim_data_real.stan_variable(\"p\")\n",
    "alpha_1_2 = sim_data_real.stan_variable(\"alpha\")\n",
    "beta_age_1_2 = sim_data_real.stan_variable(\"beta_age\")\n",
    "beta_sex_1_2 = sim_data_real.stan_variable(\"beta_sex\")"
   ]
  },
  {
   "cell_type": "code",
   "execution_count": 129,
   "metadata": {},
   "outputs": [
    {
     "name": "stdout",
     "output_type": "stream",
     "text": [
      "0.01589133970086351\n",
      "0.016583064202111822\n"
     ]
    }
   ],
   "source": [
    "p_1_2 = p.flatten()\n",
    "death_pred_prior_1_2 = death_pred_prior_1_2.flatten()\n",
    "print(death_pred_prior_1_2.mean())\n",
    "print(df[\"DIED\"].mean())"
   ]
  },
  {
   "cell_type": "code",
   "execution_count": 131,
   "metadata": {},
   "outputs": [
    {
     "data": {
      "image/png": "[encoded data removed]",
      "text/plain": [
       "<Figure size 432x288 with 1 Axes>"
      ]
     },
     "metadata": {
      "needs_background": "light"
     },
     "output_type": "display_data"
    }
   ],
   "source": [
    "plt.hist(death_pred_prior_1_2, density=True)\n",
    "# plt.hist(p_1_2, density=True)\n",
    "plt.hist(df[\"DIED\"], density=True)\n",
    "plt.show()"
   ]
  },
  {
   "cell_type": "markdown",
   "metadata": {},
   "source": [
    "## Data Posterion"
   ]
  },
  {
   "cell_type": "code",
   "execution_count": 133,
   "metadata": {},
   "outputs": [
    {
     "name": "stderr",
     "output_type": "stream",
     "text": [
      "INFO:cmdstanpy:compiling stan file /root/models/model_1_posterior.stan to exe file /root/models/model_1_posterior\n",
      "INFO:cmdstanpy:compiled model executable: /root/models/model_1_posterior\n"
     ]
    }
   ],
   "source": [
    "model_posterior = CmdStanModel(stan_file='../models/model_1_posterior.stan')"
   ]
  },
  {
   "cell_type": "code",
   "execution_count": 134,
   "metadata": {},
   "outputs": [
    {
     "name": "stderr",
     "output_type": "stream",
     "text": [
      "INFO:cmdstanpy:CmdStan start processing\n",
      "chain 1 |\u001b[33m          \u001b[0m| 00:00 Status\n",
      "\u001b[A\n",
      "\n",
      "chain 1 |\u001b[33m▍         \u001b[0m| 00:00 Status\n",
      "\n",
      "\u001b[A\u001b[A\n",
      "\u001b[A\n",
      "\n",
      "chain 1 |\u001b[33m▉         \u001b[0m| 00:11 Iteration:    1 / 2000 [  0%]  (Warmup)\n",
      "\u001b[A\n",
      "\n",
      "\u001b[A\u001b[A\n",
      "chain 1 |\u001b[33m█▎        \u001b[0m| 00:41 Iteration:  100 / 2000 [  5%]  (Warmup)\n",
      "\n",
      "\u001b[A\u001b[A\n",
      "chain 1 |\u001b[33m█▊        \u001b[0m| 01:02 Iteration:  200 / 2000 [ 10%]  (Warmup)\n",
      "\u001b[A\n",
      "\n",
      "chain 1 |\u001b[33m██▎       \u001b[0m| 01:20 Iteration:  300 / 2000 [ 15%]  (Warmup)\n",
      "\u001b[A\n",
      "\n",
      "chain 1 |\u001b[33m██▋       \u001b[0m| 01:38 Iteration:  400 / 2000 [ 20%]  (Warmup)\n",
      "\n",
      "\u001b[A\u001b[A\n",
      "chain 1 |\u001b[33m███▏      \u001b[0m| 01:53 Iteration:  500 / 2000 [ 25%]  (Warmup)\n",
      "chain 1 |\u001b[33m███▋      \u001b[0m| 02:05 Iteration:  600 / 2000 [ 30%]  (Warmup)\n",
      "\n",
      "\u001b[A\u001b[A\n",
      "chain 1 |\u001b[33m████      \u001b[0m| 02:17 Iteration:  700 / 2000 [ 35%]  (Warmup)\n",
      "\n",
      "\u001b[A\u001b[A\n",
      "chain 1 |\u001b[33m████▌     \u001b[0m| 02:30 Iteration:  800 / 2000 [ 40%]  (Warmup)\n",
      "\n",
      "\u001b[A\u001b[A\n",
      "chain 1 |\u001b[34m█████▍    \u001b[0m| 02:44 Iteration: 1000 / 2000 [ 50%]  (Warmup)\n",
      "\n",
      "\u001b[A\u001b[A\n",
      "\n",
      "\u001b[A\u001b[A\n",
      "chain 1 |\u001b[34m█████▉    \u001b[0m| 03:00 Iteration: 1001 / 2000 [ 50%]  (Sampling)\n",
      "\n",
      "\u001b[A\u001b[A\n",
      "chain 1 |\u001b[34m██████▎   \u001b[0m| 03:18 Iteration: 1100 / 2000 [ 55%]  (Sampling)\n",
      "\n",
      "\u001b[A\u001b[A\n",
      "chain 1 |\u001b[34m██████▊   \u001b[0m| 03:34 Iteration: 1200 / 2000 [ 60%]  (Sampling)\n",
      "\n",
      "\u001b[A\u001b[A\n",
      "chain 1 |\u001b[34m███████▎  \u001b[0m| 03:50 Iteration: 1300 / 2000 [ 65%]  (Sampling)\n",
      "\n",
      "\u001b[A\u001b[A\n",
      "chain 1 |\u001b[34m███████▋  \u001b[0m| 04:08 Iteration: 1400 / 2000 [ 70%]  (Sampling)\n",
      "\n",
      "\u001b[A\u001b[A\n",
      "chain 1 |\u001b[34m████████▏ \u001b[0m| 04:23 Iteration: 1500 / 2000 [ 75%]  (Sampling)\n",
      "\n",
      "\u001b[A\u001b[A\n",
      "chain 1 |\u001b[34m████████▋ \u001b[0m| 04:40 Iteration: 1600 / 2000 [ 80%]  (Sampling)\n",
      "\n",
      "\u001b[A\u001b[A\n",
      "chain 1 |\u001b[34m█████████ \u001b[0m| 04:57 Iteration: 1700 / 2000 [ 85%]  (Sampling)\n",
      "\n",
      "\u001b[A\u001b[A\n",
      "chain 1 |\u001b[34m█████████▌\u001b[0m| 05:12 Iteration: 1800 / 2000 [ 90%]  (Sampling)\n",
      "\u001b[A\n",
      "\n",
      "chain 1 |\u001b[34m██████████\u001b[0m| 05:28 Iteration: 1900 / 2000 [ 95%]  (Sampling)\n",
      "\n",
      "chain 1 |\u001b[34m██████████\u001b[0m| 05:39 Sampling completed                       \n",
      "chain 2 |\u001b[34m██████████\u001b[0m| 05:39 Sampling completed                       \n",
      "chain 3 |\u001b[34m██████████\u001b[0m| 05:39 Sampling completed                       \n",
      "chain 4 |\u001b[34m██████████\u001b[0m| 05:39 Sampling completed                       "
     ]
    },
    {
     "name": "stdout",
     "output_type": "stream",
     "text": [
      "                                                                                                                                                                                                                                                                                                                                "
     ]
    },
    {
     "name": "stderr",
     "output_type": "stream",
     "text": [
      "\n",
      "INFO:cmdstanpy:CmdStan done processing.\n"
     ]
    },
    {
     "name": "stdout",
     "output_type": "stream",
     "text": [
      "\n"
     ]
    }
   ],
   "source": [
    "R = 1000\n",
    "dict = {\n",
    "        \"N\": len(df),\n",
    "        \"age\": df[\"CAGE_YR\"],\n",
    "        \"sex\": df[\"SEX\"],\n",
    "        \"death\": df[\"DIED\"]\n",
    "    }\n",
    "\n",
    "fit = model_posterior.sample(data=dict, seed=42)"
   ]
  },
  {
   "cell_type": "code",
   "execution_count": 136,
   "metadata": {},
   "outputs": [],
   "source": [
    "death_pred_posterior = fit.stan_variable(\"death_pred\")"
   ]
  },
  {
   "cell_type": "code",
   "execution_count": 174,
   "metadata": {},
   "outputs": [],
   "source": [
    "# from scipy.stats import mode\n",
    "\n",
    "# death_pred_posterior[3998].mean()\n",
    "\n",
    "# yields_pred_posterior_max = np.mean(death_pred_posterior, axis=0)\n",
    "# most_common_values = mode(death_pred_posterior, axis=1)\n",
    "\n",
    "death_pred_mean = np.mean(death_pred_posterior, axis=0)"
   ]
  },
  {
   "cell_type": "code",
   "execution_count": 178,
   "metadata": {},
   "outputs": [
    {
     "data": {
      "text/plain": [
       "0.1395"
      ]
     },
     "execution_count": 178,
     "metadata": {},
     "output_type": "execute_result"
    }
   ],
   "source": [
    "death_pred_mean.max()"
   ]
  },
  {
   "cell_type": "code",
   "execution_count": 179,
   "metadata": {},
   "outputs": [
    {
     "data": {
      "text/plain": [
       "1.0"
      ]
     },
     "execution_count": 179,
     "metadata": {},
     "output_type": "execute_result"
    }
   ],
   "source": [
    "death_pred_posterior.max()"
   ]
  },
  {
   "cell_type": "code",
   "execution_count": 172,
   "metadata": {},
   "outputs": [
    {
     "data": {
      "text/plain": [
       "0.0"
      ]
     },
     "execution_count": 172,
     "metadata": {},
     "output_type": "execute_result"
    }
   ],
   "source": [
    "# most_common_values_in_columns.mean()"
   ]
  },
  {
   "cell_type": "code",
   "execution_count": 173,
   "metadata": {},
   "outputs": [
    {
     "name": "stdout",
     "output_type": "stream",
     "text": [
      "0.016738490345633204\n"
     ]
    }
   ],
   "source": [
    "print(death_pred_posterior_1.mean())"
   ]
  },
  {
   "cell_type": "code",
   "execution_count": 142,
   "metadata": {},
   "outputs": [
    {
     "data": {
      "image/png": "[encoded data removed]",
      "text/plain": [
       "<Figure size 432x288 with 1 Axes>"
      ]
     },
     "metadata": {
      "needs_background": "light"
     },
     "output_type": "display_data"
    }
   ],
   "source": [
    "plt.hist(death_pred_posterior_1, density=True, alpha=0.7)\n",
    "plt.hist(df[\"DIED\"], density=True, alpha=0.5)\n",
    "plt.show()"
   ]
  },
  {
   "cell_type": "code",
   "execution_count": 143,
   "metadata": {},
   "outputs": [
    {
     "ename": "ValueError",
     "evalue": "Found input variables with inconsistent numbers of samples: [43659, 174636000]",
     "output_type": "error",
     "traceback": [
      "\u001b[0;31m---------------------------------------------------------------------------\u001b[0m",
      "\u001b[0;31mValueError\u001b[0m                                Traceback (most recent call last)",
      "Input \u001b[0;32mIn [143]\u001b[0m, in \u001b[0;36m<cell line: 0>\u001b[0;34m()\u001b[0m\n\u001b[1;32m      1\u001b[0m \u001b[38;5;28;01mfrom\u001b[39;00m \u001b[38;5;21;01msklearn\u001b[39;00m\u001b[38;5;21;01m.\u001b[39;00m\u001b[38;5;21;01mmetrics\u001b[39;00m \u001b[38;5;28;01mimport\u001b[39;00m  roc_curve, auc ,accuracy_score, precision_score, recall_score, f1_score, confusion_matrix\n\u001b[0;32m----> 3\u001b[0m conf_matrix \u001b[38;5;241m=\u001b[39m confusion_matrix(df[\u001b[38;5;124m\"\u001b[39m\u001b[38;5;124mDIED\u001b[39m\u001b[38;5;124m\"\u001b[39m], death_pred_posterior_1)\n",
      "File \u001b[0;32m/usr/local/lib/python3.12/site-packages/sklearn/utils/_param_validation.py:213\u001b[0m, in \u001b[0;36mvalidate_params.<locals>.decorator.<locals>.wrapper\u001b[0;34m(*args, **kwargs)\u001b[0m\n\u001b[1;32m    207\u001b[0m \u001b[38;5;28;01mtry\u001b[39;00m:\n\u001b[1;32m    208\u001b[0m     \u001b[38;5;28;01mwith\u001b[39;00m config_context(\n\u001b[1;32m    209\u001b[0m         skip_parameter_validation\u001b[38;5;241m=\u001b[39m(\n\u001b[1;32m    210\u001b[0m             prefer_skip_nested_validation \u001b[38;5;129;01mor\u001b[39;00m global_skip_validation\n\u001b[1;32m    211\u001b[0m         )\n\u001b[1;32m    212\u001b[0m     ):\n\u001b[0;32m--> 213\u001b[0m         \u001b[38;5;28;01mreturn\u001b[39;00m func(\u001b[38;5;241m*\u001b[39margs, \u001b[38;5;241m*\u001b[39m\u001b[38;5;241m*\u001b[39mkwargs)\n\u001b[1;32m    214\u001b[0m \u001b[38;5;28;01mexcept\u001b[39;00m InvalidParameterError \u001b[38;5;28;01mas\u001b[39;00m e:\n\u001b[1;32m    215\u001b[0m     \u001b[38;5;66;03m# When the function is just a wrapper around an estimator, we allow\u001b[39;00m\n\u001b[1;32m    216\u001b[0m     \u001b[38;5;66;03m# the function to delegate validation to the estimator, but we replace\u001b[39;00m\n\u001b[1;32m    217\u001b[0m     \u001b[38;5;66;03m# the name of the estimator by the name of the function in the error\u001b[39;00m\n\u001b[1;32m    218\u001b[0m     \u001b[38;5;66;03m# message to avoid confusion.\u001b[39;00m\n\u001b[1;32m    219\u001b[0m     msg \u001b[38;5;241m=\u001b[39m re\u001b[38;5;241m.\u001b[39msub(\n\u001b[1;32m    220\u001b[0m         \u001b[38;5;124mr\u001b[39m\u001b[38;5;124m\"\u001b[39m\u001b[38;5;124mparameter of \u001b[39m\u001b[38;5;124m\\\u001b[39m\u001b[38;5;124mw+ must be\u001b[39m\u001b[38;5;124m\"\u001b[39m,\n\u001b[1;32m    221\u001b[0m         \u001b[38;5;124mf\u001b[39m\u001b[38;5;124m\"\u001b[39m\u001b[38;5;124mparameter of \u001b[39m\u001b[38;5;132;01m{\u001b[39;00mfunc\u001b[38;5;241m.\u001b[39m\u001b[38;5;18m__qualname__\u001b[39m\u001b[38;5;132;01m}\u001b[39;00m\u001b[38;5;124m must be\u001b[39m\u001b[38;5;124m\"\u001b[39m,\n\u001b[1;32m    222\u001b[0m         \u001b[38;5;28mstr\u001b[39m(e),\n\u001b[1;32m    223\u001b[0m     )\n",
      "File \u001b[0;32m/usr/local/lib/python3.12/site-packages/sklearn/metrics/_classification.py:319\u001b[0m, in \u001b[0;36mconfusion_matrix\u001b[0;34m(y_true, y_pred, labels, sample_weight, normalize)\u001b[0m\n\u001b[1;32m    224\u001b[0m \u001b[38;5;129m@validate_params\u001b[39m(\n\u001b[1;32m    225\u001b[0m     {\n\u001b[1;32m    226\u001b[0m         \u001b[38;5;124m\"\u001b[39m\u001b[38;5;124my_true\u001b[39m\u001b[38;5;124m\"\u001b[39m: [\u001b[38;5;124m\"\u001b[39m\u001b[38;5;124marray-like\u001b[39m\u001b[38;5;124m\"\u001b[39m],\n\u001b[0;32m   (...)\u001b[0m\n\u001b[1;32m    235\u001b[0m     y_true, y_pred, \u001b[38;5;241m*\u001b[39m, labels\u001b[38;5;241m=\u001b[39m\u001b[38;5;28;01mNone\u001b[39;00m, sample_weight\u001b[38;5;241m=\u001b[39m\u001b[38;5;28;01mNone\u001b[39;00m, normalize\u001b[38;5;241m=\u001b[39m\u001b[38;5;28;01mNone\u001b[39;00m\n\u001b[1;32m    236\u001b[0m ):\n\u001b[1;32m    237\u001b[0m     \u001b[38;5;124;03m\"\"\"Compute confusion matrix to evaluate the accuracy of a classification.\u001b[39;00m\n\u001b[1;32m    238\u001b[0m \n\u001b[1;32m    239\u001b[0m \u001b[38;5;124;03m    By definition a confusion matrix :math:`C` is such that :math:`C_{i, j}`\u001b[39;00m\n\u001b[0;32m   (...)\u001b[0m\n\u001b[1;32m    317\u001b[0m \u001b[38;5;124;03m    (0, 2, 1, 1)\u001b[39;00m\n\u001b[1;32m    318\u001b[0m \u001b[38;5;124;03m    \"\"\"\u001b[39;00m\n\u001b[0;32m--> 319\u001b[0m     y_type, y_true, y_pred \u001b[38;5;241m=\u001b[39m _check_targets(y_true, y_pred)\n\u001b[1;32m    320\u001b[0m     \u001b[38;5;28;01mif\u001b[39;00m y_type \u001b[38;5;129;01mnot\u001b[39;00m \u001b[38;5;129;01min\u001b[39;00m (\u001b[38;5;124m\"\u001b[39m\u001b[38;5;124mbinary\u001b[39m\u001b[38;5;124m\"\u001b[39m, \u001b[38;5;124m\"\u001b[39m\u001b[38;5;124mmulticlass\u001b[39m\u001b[38;5;124m\"\u001b[39m):\n\u001b[1;32m    321\u001b[0m         \u001b[38;5;28;01mraise\u001b[39;00m \u001b[38;5;167;01mValueError\u001b[39;00m(\u001b[38;5;124m\"\u001b[39m\u001b[38;5;132;01m%s\u001b[39;00m\u001b[38;5;124m is not supported\u001b[39m\u001b[38;5;124m\"\u001b[39m \u001b[38;5;241m%\u001b[39m y_type)\n",
      "File \u001b[0;32m/usr/local/lib/python3.12/site-packages/sklearn/metrics/_classification.py:85\u001b[0m, in \u001b[0;36m_check_targets\u001b[0;34m(y_true, y_pred)\u001b[0m\n\u001b[1;32m     58\u001b[0m \u001b[38;5;28;01mdef\u001b[39;00m \u001b[38;5;21m_check_targets\u001b[39m(y_true, y_pred):\n\u001b[1;32m     59\u001b[0m     \u001b[38;5;124;03m\"\"\"Check that y_true and y_pred belong to the same classification task.\u001b[39;00m\n\u001b[1;32m     60\u001b[0m \n\u001b[1;32m     61\u001b[0m \u001b[38;5;124;03m    This converts multiclass or binary types to a common shape, and raises a\u001b[39;00m\n\u001b[0;32m   (...)\u001b[0m\n\u001b[1;32m     83\u001b[0m \u001b[38;5;124;03m    y_pred : array or indicator matrix\u001b[39;00m\n\u001b[1;32m     84\u001b[0m \u001b[38;5;124;03m    \"\"\"\u001b[39;00m\n\u001b[0;32m---> 85\u001b[0m     check_consistent_length(y_true, y_pred)\n\u001b[1;32m     86\u001b[0m     type_true \u001b[38;5;241m=\u001b[39m type_of_target(y_true, input_name\u001b[38;5;241m=\u001b[39m\u001b[38;5;124m\"\u001b[39m\u001b[38;5;124my_true\u001b[39m\u001b[38;5;124m\"\u001b[39m)\n\u001b[1;32m     87\u001b[0m     type_pred \u001b[38;5;241m=\u001b[39m type_of_target(y_pred, input_name\u001b[38;5;241m=\u001b[39m\u001b[38;5;124m\"\u001b[39m\u001b[38;5;124my_pred\u001b[39m\u001b[38;5;124m\"\u001b[39m)\n",
      "File \u001b[0;32m/usr/local/lib/python3.12/site-packages/sklearn/utils/validation.py:457\u001b[0m, in \u001b[0;36mcheck_consistent_length\u001b[0;34m(*arrays)\u001b[0m\n\u001b[1;32m    455\u001b[0m uniques \u001b[38;5;241m=\u001b[39m np\u001b[38;5;241m.\u001b[39munique(lengths)\n\u001b[1;32m    456\u001b[0m \u001b[38;5;28;01mif\u001b[39;00m \u001b[38;5;28mlen\u001b[39m(uniques) \u001b[38;5;241m>\u001b[39m \u001b[38;5;241m1\u001b[39m:\n\u001b[0;32m--> 457\u001b[0m     \u001b[38;5;28;01mraise\u001b[39;00m \u001b[38;5;167;01mValueError\u001b[39;00m(\n\u001b[1;32m    458\u001b[0m         \u001b[38;5;124m\"\u001b[39m\u001b[38;5;124mFound input variables with inconsistent numbers of samples: \u001b[39m\u001b[38;5;132;01m%r\u001b[39;00m\u001b[38;5;124m\"\u001b[39m\n\u001b[1;32m    459\u001b[0m         \u001b[38;5;241m%\u001b[39m [\u001b[38;5;28mint\u001b[39m(l) \u001b[38;5;28;01mfor\u001b[39;00m l \u001b[38;5;129;01min\u001b[39;00m lengths]\n\u001b[1;32m    460\u001b[0m     )\n",
      "\u001b[0;31mValueError\u001b[0m: Found input variables with inconsistent numbers of samples: [43659, 174636000]"
     ]
    }
   ],
   "source": [
    "from sklearn.metrics import  roc_curve, auc ,accuracy_score, precision_score, recall_score, f1_score, confusion_matrix\n",
    "\n",
    "conf_matrix = confusion_matrix(df[\"DIED\"], death_pred_posterior_1)"
   ]
  },
  {
   "cell_type": "code",
   "execution_count": null,
   "metadata": {},
   "outputs": [],
   "source": []
  },
  {
   "cell_type": "code",
   "execution_count": null,
   "metadata": {},
   "outputs": [],
   "source": []
  },
  {
   "cell_type": "code",
   "execution_count": null,
   "metadata": {},
   "outputs": [],
   "source": []
  },
  {
   "cell_type": "code",
   "execution_count": null,
   "metadata": {},
   "outputs": [],
   "source": []
  },
  {
   "cell_type": "code",
   "execution_count": null,
   "metadata": {},
   "outputs": [],
   "source": [
    "fig, ax = plt.subplots(2, 2, figsize=(25,15))\n",
    "\n",
    "ax[0][0].hist(x=df[\"CAGE_YR\"], bins=50, density=True, alpha=0.7)\n",
    "ax[0][0].hist(x=death_pred_prior, bins=50, density=True, alpha=0.7)\n",
    "ax[0][0].legend([\"real\", \"simulated\"])\n",
    "ax[0][0].set_title(\"AGE distributioin\")\n",
    "\n",
    "ax[0][1].hist(x=df[\"SEX\"], density=True, alpha=0.8)\n",
    "# ax[0][1].hist(x=sim_prior_model_1_1[\"sex[1]\"], density=True, alpha=0.6)\n",
    "ax[0][1].legend([\"real\", \"simulated\"])\n",
    "ax[0][1].set_title(\"SEX distribution\")\n",
    "\n",
    "ax[1][0].hist(x=df_article[\"DIED\"], density=True, alpha=0.9)\n",
    "ax[1][0].hist(x=sim_prior_model_1_1[\"death[3]\"], density=True, alpha=0.6)\n",
    "ax[1][0].legend([\"real\", \"simulated\"])\n",
    "ax[1][0].set_title(\"NUMDAYS distribution\")\n",
    "\n",
    "plt.subplots_adjust(hspace=0.4, wspace=0.1)\n",
    "plt.show()"
   ]
  },
  {
   "cell_type": "code",
   "execution_count": 170,
   "metadata": {},
   "outputs": [
    {
     "data": {
      "image/png": "[encoded data removed]",
      "text/plain": [
       "<Figure size 1800x1080 with 6 Axes>"
      ]
     },
     "metadata": {},
     "output_type": "display_data"
    }
   ],
   "source": [
    "fig, ax = plt.subplots(3, 2, figsize=(25,15))\n",
    "\n",
    "ax[0][0].hist(x=df[\"CAGE_YR\"], bins=50, density=True, alpha=0.7)\n",
    "ax[0][0].hist(x=sim_prior_1[\"age\"], bins=50, density=True, alpha=0.7)\n",
    "ax[0][0].legend([\"real\", \"simulated\"])\n",
    "ax[0][0].set_title(\"AGE distributioin\")\n",
    "\n",
    "ax[0][1].hist(x=df[\"SEX\"], density=True, alpha=0.8)\n",
    "ax[0][1].hist(x=sim_prior_1[\"sex\"], density=True, alpha=0.6)\n",
    "ax[0][1].legend([\"real\", \"simulated\"])\n",
    "ax[0][1].set_title(\"SEX distribution\")\n",
    "\n",
    "ax[1][0].hist(x=df[\"HOSPDAYS\"], bins=30, density=True, alpha=0.8)\n",
    "ax[1][0].hist(x=sim_prior_1[\"hospital_days\"],bins=3, density=True, alpha=0.6)\n",
    "ax[1][0].legend([\"real\", \"simulated\"])\n",
    "ax[1][0].set_title(\"HOSPDAYS distribution\")\n",
    "\n",
    "ax[1][1].hist(x=df[\"HOSPITAL\"], density=True, alpha=0.8)\n",
    "ax[1][1].hist(x=sim_prior_1[\"hospital\"], density=True, alpha=0.6)\n",
    "ax[1][1].legend([\"real\", \"simulated\"])\n",
    "ax[1][1].set_title(\"HOSPITAL distribution\")\n",
    "\n",
    "ax[2][0].hist(x=df_article[\"NUMDAYS\"], bins=90, density=True, alpha=0.9)\n",
    "ax[2][0].hist(x=sim_prior_1[\"numdays\"], bins=5, density=True, alpha=0.6)\n",
    "ax[2][0].legend([\"real\", \"simulated\"])\n",
    "ax[2][0].set_title(\"NUMDAYS distribution\")\n",
    "\n",
    "ax[2][1].hist(x=df_article[\"DIED\"], density=True, alpha=0.9)\n",
    "ax[2][1].hist(x=sim_prior_1[\"death\"], density=True, alpha=0.6)\n",
    "ax[2][1].legend([\"real\", \"simulated\"])\n",
    "ax[2][1].set_title(\"NUMDAYS distribution\")\n",
    "\n",
    "plt.subplots_adjust(hspace=0.4, wspace=0.1)\n",
    "plt.show()"
   ]
  },
  {
   "cell_type": "code",
   "execution_count": 164,
   "metadata": {},
   "outputs": [
    {
     "data": {
      "text/plain": [
       "0    45369\n",
       "1      280\n",
       "Name: DIED, dtype: int64"
      ]
     },
     "execution_count": 164,
     "metadata": {},
     "output_type": "execute_result"
    }
   ],
   "source": [
    "df_article[\"DIED\"].value_counts()"
   ]
  },
  {
   "cell_type": "code",
   "execution_count": 172,
   "metadata": {},
   "outputs": [
    {
     "data": {
      "text/plain": [
       "0.0    1477\n",
       "1.0     189\n",
       "Name: death, dtype: int64"
      ]
     },
     "execution_count": 172,
     "metadata": {},
     "output_type": "execute_result"
    }
   ],
   "source": [
    "sim_prior_1[\"death\"].value_counts()"
   ]
  },
  {
   "cell_type": "code",
   "execution_count": 160,
   "metadata": {},
   "outputs": [
    {
     "data": {
      "text/html": [
       "<div>\n",
       "<style scoped>\n",
       "    .dataframe tbody tr th:only-of-type {\n",
       "        vertical-align: middle;\n",
       "    }\n",
       "\n",
       "    .dataframe tbody tr th {\n",
       "        vertical-align: top;\n",
       "    }\n",
       "\n",
       "    .dataframe thead th {\n",
       "        text-align: right;\n",
       "    }\n",
       "</style>\n",
       "<table border=\"1\" class=\"dataframe\">\n",
       "  <thead>\n",
       "    <tr style=\"text-align: right;\">\n",
       "      <th></th>\n",
       "      <th>CAGE_YR</th>\n",
       "      <th>SEX</th>\n",
       "      <th>DIED</th>\n",
       "      <th>HOSPITAL</th>\n",
       "      <th>HOSPDAYS</th>\n",
       "      <th>NUMDAYS</th>\n",
       "    </tr>\n",
       "  </thead>\n",
       "  <tbody>\n",
       "    <tr>\n",
       "      <th>count</th>\n",
       "      <td>45649.000000</td>\n",
       "      <td>45649.000000</td>\n",
       "      <td>45649.000000</td>\n",
       "      <td>45649.000000</td>\n",
       "      <td>45649.000000</td>\n",
       "      <td>45649.000000</td>\n",
       "    </tr>\n",
       "    <tr>\n",
       "      <th>mean</th>\n",
       "      <td>45.371837</td>\n",
       "      <td>0.806896</td>\n",
       "      <td>0.006134</td>\n",
       "      <td>0.017613</td>\n",
       "      <td>0.035247</td>\n",
       "      <td>2.026375</td>\n",
       "    </tr>\n",
       "    <tr>\n",
       "      <th>std</th>\n",
       "      <td>16.623778</td>\n",
       "      <td>0.394738</td>\n",
       "      <td>0.078079</td>\n",
       "      <td>0.131540</td>\n",
       "      <td>0.439273</td>\n",
       "      <td>4.233492</td>\n",
       "    </tr>\n",
       "    <tr>\n",
       "      <th>min</th>\n",
       "      <td>0.000000</td>\n",
       "      <td>0.000000</td>\n",
       "      <td>0.000000</td>\n",
       "      <td>0.000000</td>\n",
       "      <td>0.000000</td>\n",
       "      <td>0.000000</td>\n",
       "    </tr>\n",
       "    <tr>\n",
       "      <th>25%</th>\n",
       "      <td>33.000000</td>\n",
       "      <td>1.000000</td>\n",
       "      <td>0.000000</td>\n",
       "      <td>0.000000</td>\n",
       "      <td>0.000000</td>\n",
       "      <td>0.000000</td>\n",
       "    </tr>\n",
       "    <tr>\n",
       "      <th>50%</th>\n",
       "      <td>44.000000</td>\n",
       "      <td>1.000000</td>\n",
       "      <td>0.000000</td>\n",
       "      <td>0.000000</td>\n",
       "      <td>0.000000</td>\n",
       "      <td>1.000000</td>\n",
       "    </tr>\n",
       "    <tr>\n",
       "      <th>75%</th>\n",
       "      <td>57.000000</td>\n",
       "      <td>1.000000</td>\n",
       "      <td>0.000000</td>\n",
       "      <td>0.000000</td>\n",
       "      <td>0.000000</td>\n",
       "      <td>2.000000</td>\n",
       "    </tr>\n",
       "    <tr>\n",
       "      <th>max</th>\n",
       "      <td>104.000000</td>\n",
       "      <td>1.000000</td>\n",
       "      <td>1.000000</td>\n",
       "      <td>1.000000</td>\n",
       "      <td>30.000000</td>\n",
       "      <td>90.000000</td>\n",
       "    </tr>\n",
       "  </tbody>\n",
       "</table>\n",
       "</div>"
      ],
      "text/plain": [
       "            CAGE_YR           SEX          DIED      HOSPITAL      HOSPDAYS  \\\n",
       "count  45649.000000  45649.000000  45649.000000  45649.000000  45649.000000   \n",
       "mean      45.371837      0.806896      0.006134      0.017613      0.035247   \n",
       "std       16.623778      0.394738      0.078079      0.131540      0.439273   \n",
       "min        0.000000      0.000000      0.000000      0.000000      0.000000   \n",
       "25%       33.000000      1.000000      0.000000      0.000000      0.000000   \n",
       "50%       44.000000      1.000000      0.000000      0.000000      0.000000   \n",
       "75%       57.000000      1.000000      0.000000      0.000000      0.000000   \n",
       "max      104.000000      1.000000      1.000000      1.000000     30.000000   \n",
       "\n",
       "            NUMDAYS  \n",
       "count  45649.000000  \n",
       "mean       2.026375  \n",
       "std        4.233492  \n",
       "min        0.000000  \n",
       "25%        0.000000  \n",
       "50%        1.000000  \n",
       "75%        2.000000  \n",
       "max       90.000000  "
      ]
     },
     "execution_count": 160,
     "metadata": {},
     "output_type": "execute_result"
    }
   ],
   "source": [
    "df_article.describe()"
   ]
  },
  {
   "cell_type": "markdown",
   "metadata": {},
   "source": [
    "# Prior - SEX, CAGE_YR"
   ]
  },
  {
   "cell_type": "code",
   "execution_count": 229,
   "metadata": {},
   "outputs": [
    {
     "name": "stderr",
     "output_type": "stream",
     "text": [
      "INFO:cmdstanpy:compiling stan file /root/models/model_1_prior.stan to exe file /root/models/model_1_prior\n",
      "INFO:cmdstanpy:compiled model executable: /root/models/model_1_prior\n",
      "INFO:cmdstanpy:CmdStan start processing\n",
      "chain 1 |\u001b[34m██████████\u001b[0m| 00:36 Sampling completed                      "
     ]
    },
    {
     "name": "stdout",
     "output_type": "stream",
     "text": [
      "                                                                                "
     ]
    },
    {
     "name": "stderr",
     "output_type": "stream",
     "text": [
      "\n",
      "INFO:cmdstanpy:CmdStan done processing.\n"
     ]
    },
    {
     "name": "stdout",
     "output_type": "stream",
     "text": [
      "\n"
     ]
    }
   ],
   "source": [
    "model_ppc = CmdStanModel(stan_file='../models/model_1_prior.stan')\n",
    "\n",
    "R = 1000\n",
    "dict = {\n",
    "        \"N\": len(df_article),\n",
    "        \"sex\": df_article[\"SEX\"],\n",
    "        \"ages\": df_article[\"CAGE_YR\"]\n",
    "}\n",
    "\n",
    "sim_data = model_ppc.sample(data=dict,\n",
    "                        iter_sampling=R,\n",
    "                        iter_warmup=1,\n",
    "                        refresh=R,\n",
    "                        fixed_param=True,\n",
    "                        chains=1)\n"
   ]
  },
  {
   "cell_type": "code",
   "execution_count": 235,
   "metadata": {},
   "outputs": [],
   "source": [
    "# sim_prior_model_1_1.stan_variable(\"death[1]\") #[\"death\"].value_counts()\n",
    "sim_prior_model_1_1 = sim_data.draws_pd()\n",
    "death_pred_prior = sim_data.stan_variable(\"death\")\n",
    "#  = sim.stan_variable(\"yields\")"
   ]
  },
  {
   "cell_type": "code",
   "execution_count": 1,
   "metadata": {},
   "outputs": [
    {
     "ename": "NameError",
     "evalue": "name 'plt' is not defined",
     "output_type": "error",
     "traceback": [
      "\u001b[0;31m---------------------------------------------------------------------------\u001b[0m",
      "\u001b[0;31mNameError\u001b[0m                                 Traceback (most recent call last)",
      "Input \u001b[0;32mIn [1]\u001b[0m, in \u001b[0;36m<cell line: 0>\u001b[0;34m()\u001b[0m\n\u001b[0;32m----> 1\u001b[0m fig, ax \u001b[38;5;241m=\u001b[39m plt\u001b[38;5;241m.\u001b[39msubplots(\u001b[38;5;241m2\u001b[39m, \u001b[38;5;241m2\u001b[39m, figsize\u001b[38;5;241m=\u001b[39m(\u001b[38;5;241m25\u001b[39m,\u001b[38;5;241m15\u001b[39m))\n\u001b[1;32m      3\u001b[0m ax[\u001b[38;5;241m0\u001b[39m][\u001b[38;5;241m0\u001b[39m]\u001b[38;5;241m.\u001b[39mhist(x\u001b[38;5;241m=\u001b[39mdf[\u001b[38;5;124m\"\u001b[39m\u001b[38;5;124mCAGE_YR\u001b[39m\u001b[38;5;124m\"\u001b[39m], bins\u001b[38;5;241m=\u001b[39m\u001b[38;5;241m50\u001b[39m, density\u001b[38;5;241m=\u001b[39m\u001b[38;5;28;01mTrue\u001b[39;00m, alpha\u001b[38;5;241m=\u001b[39m\u001b[38;5;241m0.7\u001b[39m)\n\u001b[1;32m      4\u001b[0m ax[\u001b[38;5;241m0\u001b[39m][\u001b[38;5;241m0\u001b[39m]\u001b[38;5;241m.\u001b[39mhist(x\u001b[38;5;241m=\u001b[39mdeath_pred_prior, bins\u001b[38;5;241m=\u001b[39m\u001b[38;5;241m50\u001b[39m, density\u001b[38;5;241m=\u001b[39m\u001b[38;5;28;01mTrue\u001b[39;00m, alpha\u001b[38;5;241m=\u001b[39m\u001b[38;5;241m0.7\u001b[39m)\n",
      "\u001b[0;31mNameError\u001b[0m: name 'plt' is not defined"
     ]
    }
   ],
   "source": [
    "fig, ax = plt.subplots(2, 2, figsize=(25,15))\n",
    "\n",
    "ax[0][0].hist(x=df[\"CAGE_YR\"], bins=50, density=True, alpha=0.7)\n",
    "ax[0][0].hist(x=death_pred_prior, bins=50, density=True, alpha=0.7)\n",
    "ax[0][0].legend([\"real\", \"simulated\"])\n",
    "ax[0][0].set_title(\"AGE distributioin\")\n",
    "\n",
    "ax[0][1].hist(x=df[\"SEX\"], density=True, alpha=0.8)\n",
    "# ax[0][1].hist(x=sim_prior_model_1_1[\"sex[1]\"], density=True, alpha=0.6)\n",
    "ax[0][1].legend([\"real\", \"simulated\"])\n",
    "ax[0][1].set_title(\"SEX distribution\")\n",
    "\n",
    "ax[1][0].hist(x=df_article[\"DIED\"], density=True, alpha=0.9)\n",
    "ax[1][0].hist(x=sim_prior_model_1_1[\"death[3]\"], density=True, alpha=0.6)\n",
    "ax[1][0].legend([\"real\", \"simulated\"])\n",
    "ax[1][0].set_title(\"NUMDAYS distribution\")\n",
    "\n",
    "plt.subplots_adjust(hspace=0.4, wspace=0.1)\n",
    "plt.show()"
   ]
  },
  {
   "cell_type": "markdown",
   "metadata": {},
   "source": [
    "# POSTERION"
   ]
  },
  {
   "cell_type": "code",
   "execution_count": 214,
   "metadata": {},
   "outputs": [
    {
     "name": "stderr",
     "output_type": "stream",
     "text": [
      "INFO:cmdstanpy:compiling stan file /root/models/model_1.stan to exe file /root/models/model_1\n",
      "ERROR:cmdstanpy:Stan program failed to compile:\n",
      "WARNING:cmdstanpy:\n",
      "--- Translating Stan model to C++ code ---\n",
      "bin/stanc  --o=/root/models/model_1.hpp /root/models/model_1.stan\n",
      "Semantic error in '/root/models/model_1.stan', line 10, column 2 to column 15:\n",
      "   -------------------------------------------------\n",
      "     8:  parameters {\n",
      "     9:    real intercept;\n",
      "    10:    int beta_sex;\n",
      "           ^\n",
      "    11:    real beta_age;\n",
      "    12:  }\n",
      "   -------------------------------------------------\n",
      "\n",
      "(Transformed) Parameters cannot be integers.\n",
      "make: *** [make/program:50: /root/models/model_1.hpp] Error 1\n",
      "\n",
      "Command ['make', '/root/models/model_1']\n",
      "\terror during processing No such file or directory\n",
      "\n"
     ]
    },
    {
     "ename": "ValueError",
     "evalue": "Unable to compile Stan model file: /root/models/model_1.stan.",
     "output_type": "error",
     "traceback": [
      "\u001b[0;31m---------------------------------------------------------------------------\u001b[0m",
      "\u001b[0;31mValueError\u001b[0m                                Traceback (most recent call last)",
      "Input \u001b[0;32mIn [214]\u001b[0m, in \u001b[0;36m<cell line: 0>\u001b[0;34m()\u001b[0m\n\u001b[0;32m----> 1\u001b[0m model_ppc \u001b[38;5;241m=\u001b[39m CmdStanModel(stan_file\u001b[38;5;241m=\u001b[39m\u001b[38;5;124m'\u001b[39m\u001b[38;5;124m../models/model_1.stan\u001b[39m\u001b[38;5;124m'\u001b[39m)\n",
      "File \u001b[0;32m/usr/local/lib/python3.12/site-packages/cmdstanpy/model.py:210\u001b[0m, in \u001b[0;36mCmdStanModel.__init__\u001b[0;34m(self, model_name, stan_file, exe_file, compile, stanc_options, cpp_options, user_header)\u001b[0m\n\u001b[1;32m    208\u001b[0m \u001b[38;5;28mself\u001b[39m\u001b[38;5;241m.\u001b[39mcompile(force\u001b[38;5;241m=\u001b[39m\u001b[38;5;28mstr\u001b[39m(\u001b[38;5;28mcompile\u001b[39m)\u001b[38;5;241m.\u001b[39mlower() \u001b[38;5;241m==\u001b[39m \u001b[38;5;124m'\u001b[39m\u001b[38;5;124mforce\u001b[39m\u001b[38;5;124m'\u001b[39m)\n\u001b[1;32m    209\u001b[0m \u001b[38;5;28;01mif\u001b[39;00m \u001b[38;5;28mself\u001b[39m\u001b[38;5;241m.\u001b[39m_exe_file \u001b[38;5;129;01mis\u001b[39;00m \u001b[38;5;28;01mNone\u001b[39;00m:\n\u001b[0;32m--> 210\u001b[0m     \u001b[38;5;28;01mraise\u001b[39;00m \u001b[38;5;167;01mValueError\u001b[39;00m(\n\u001b[1;32m    211\u001b[0m         \u001b[38;5;124m'\u001b[39m\u001b[38;5;124mUnable to compile Stan model file: \u001b[39m\u001b[38;5;132;01m{}\u001b[39;00m\u001b[38;5;124m.\u001b[39m\u001b[38;5;124m'\u001b[39m\u001b[38;5;241m.\u001b[39mformat(\n\u001b[1;32m    212\u001b[0m             \u001b[38;5;28mself\u001b[39m\u001b[38;5;241m.\u001b[39m_stan_file\n\u001b[1;32m    213\u001b[0m         )\n\u001b[1;32m    214\u001b[0m     )\n",
      "\u001b[0;31mValueError\u001b[0m: Unable to compile Stan model file: /root/models/model_1.stan."
     ]
    }
   ],
   "source": [
    "model_ppc = CmdStanModel(stan_file='../models/model_1.stan')"
   ]
  },
  {
   "cell_type": "code",
   "execution_count": null,
   "metadata": {},
   "outputs": [],
   "source": [
    "\n",
    "\n",
    "R = 1000\n",
    "dict = {\n",
    "        \"N\": len(df_article),\n",
    "        \"sex\": df_article[\"SEX\"],\n",
    "        \"ages\": df_article[\"CAGE_YR\"]\n",
    "}\n",
    "\n",
    "sim_data = model_ppc.sample(data=dict,\n",
    "                        iter_sampling=R, \n",
    "                        iter_warmup=1,\n",
    "                        refresh=R,\n",
    "                        fixed_param=True,\n",
    "                        chains=1)\n",
    "\n",
    "sim_prior_model_1_1 = sim_data.draws_pd()"
   ]
  }
 ],
 "metadata": {
  "kernelspec": {
   "display_name": ".venv",
   "language": "python",
   "name": "python3"
  },
  "language_info": {
   "codemirror_mode": {
    "name": "ipython",
    "version": 3
   },
   "file_extension": ".py",
   "mimetype": "text/x-python",
   "name": "python",
   "nbconvert_exporter": "python",
   "pygments_lexer": "ipython3",
   "version": "3.12.2"
  }
 },
 "nbformat": 4,
 "nbformat_minor": 2
}
