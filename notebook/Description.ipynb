{
 "cells": [
  {
   "cell_type": "markdown",
   "metadata": {},
   "source": [
    "# <center>Mortality prediction based on the VAERS post vaccine adverse reactions</center>\n",
    "\n",
    "## *<center>Authors: Szymon Szewczyk, Łukasz Szyszka</center>*\n",
    "\n",
    "### *<center>July 7, 2024</center>*\n",
    "\n",
    "---"
   ]
  },
  {
   "cell_type": "markdown",
   "metadata": {},
   "source": [
    "Authors:\n",
    "Szymon Szewczyk\n",
    "Łukasz Szyszka"
   ]
  },
  {
   "cell_type": "markdown",
   "metadata": {},
   "source": [
    "### Legal Disclaimer\n",
    "\n",
    "The purpose of this project is to develop Bayesian Models for predicting the probability of patient mortality due to adverse reactions from COVID-19 vaccination. This project is intended solely for educational purposes. The analysis and results derived from this project should not be interpreted as advice for or against any type of vaccination. The authors strongly recommend that individuals consult with appropriate healthcare professionals before making any health-related decisions. The authors disclaim any responsibility for any consequences resulting from actions taken by individuals based on information from this project, in compliance with applicable US and EU laws."
   ]
  },
  {
   "cell_type": "markdown",
   "metadata": {},
   "source": [
    "### 1. Problem formulation [0-5 pts]:\n",
    "- is the problem clearly stated [1 pt]\n",
    "- what is the point of creating model, are potential use cases defined [1 pt]\n",
    "- where do data comes from, what does it containt [1 pt]\n",
    "- DAG has been drawn [1 pt]\n",
    "- confoundings (pipe, fork, collider) were described [1 pt]"
   ]
  },
  {
   "cell_type": "markdown",
   "metadata": {},
   "source": [
    "The Bayesian Models developed in this project are designed to predict the probability of patient mortality due to adverse reactions from COVID-19 vaccination. The predictions are based on various predictors, such as the patient's age, sex, number of days since vaccination, and the number of days the patient had to spend in the hospital due to the adverse reaction.\n",
    "\n",
    "The objective of creating these models is to present the probability of patient mortality in an unbiased and objective manner. The first model is more general, utilizing two predictors, while the second model employs four predictors. Both models can be used similarly to illustrate the influence of different predictors on the final outcome. Healthcare is a critical aspect of our lives, and conducting unbiased research is essential to improving the quality of all forms of medicine and medical services.\n",
    "\n",
    "The data used to create the models is sourced from the VAERS datasets for the year 2022, available at https://vaers.hhs.gov/data/datasets.html. This data contains reported cases of vaccination adverse reactions in the United States in 2022.\n",
    "The names and descriptions of the columns can be found below:\n",
    "\n",
    "#### VAERSDARA.csv:\n",
    "VAERS_ID: VAERS identification number\\\n",
    "RECVDATE: Date report was received\\\n",
    "STATE: State\\\n",
    "AGE_YRS: Age in years\\\n",
    "CAGE_YR: Calculated age of patient in years *\\\n",
    "CAGE_MO: Calculated age of patient in months *\\\n",
    "SEX: Sex\\\n",
    "RPT_DATE: Date form completed\\\n",
    "SYMPTOM_TEXT: Reported symptom text\\\n",
    "DIED Char: Died\\\n",
    "DATEDIED: Date of death\\\n",
    "L_THREAT: Life-threatening illness\\\n",
    "ER_VISIT: Emergency room or doctor visit\\\n",
    "HOSPITAL: Hospitalized\\\n",
    "HOSPDAYS: Number of days hospitalized\\\n",
    "X_STAY: Prolongation of existing hospitalization\\\n",
    "DISABLE: Disability\\\n",
    "RECOVD: Recovered\\\n",
    "VAX_DATE: Vaccination date\\\n",
    "ONSET_DATE: Adverse event onset date\\\n",
    "NUMDAYS: Number of days (onset date – vaccination date)\\\n",
    "LAB_DATA: Diagnostic laboratory data\\\n",
    "V_ADMINBY: Type of facility where vaccine was administered\\\n",
    "V_FUNDBY: Type of funds used to purchase vaccines\\\n",
    "OTHER_MEDS: Other medications\\\n",
    "CUR_ILL: Illnesses at time of vaccination\\\n",
    "HISTORY: Chronic or long-standing health conditions\\\n",
    "PRIOR_VAX: Prior vaccination event information\\\n",
    "SPLTTYPE: Manufacturer/immunization project report number\\\n",
    "FORM_VERS: VAERS form version 1 or 2\\\n",
    "TODAYS_DATE Date: Date Form Completed\\\n",
    "BIRTH_DEFECT: Congenital anomaly or birth defect\\\n",
    "OFC_VISIT: Doctor or other healthcare provider office/clinic visit\\\n",
    "ER_ED_VISIT: Emergency room/ department or urgent care\\\n",
    "ALLERGIES: Allergies to medications, food, or other products\n",
    "\n",
    "\\* The sum of the two variables CAGE_YR and CAGE_MO provide the calculated age of a person. For example, if CAGE_YR = 1\n",
    "and CAGE_MO = 0.5, then the age of the individual is 1.5 years, or 1 year 6 months. \n",
    "\n",
    "#### VAERSVAX.csv:\n",
    "VAERS_ID: VAERS identification number\\\n",
    "VAX_TYPE: Administered vaccine type\\\n",
    "VAX_MANU: Vaccine manufacturer\\\n",
    "VAX_LOT: Manufacturer’s vaccine lot\\\n",
    "VAX_DOSE_SERIES: Number of doses administered\\\n",
    "VAX_ROUTE: Vaccination route\\\n",
    "VAX_SITE: Vaccination site\\\n",
    "VAX_NAME: Vaccination name\n",
    "\n",
    "\n",
    "About VAERS (source: https://vaers.hhs.gov/about.html)\n",
    "Established in 1990, the Vaccine Adverse Event Reporting System (VAERS) is a national early warning system to detect possible safety problems in U.S.-licensed vaccines. VAERS is co-managed by the Centers for Disease Control and Prevention (CDC) and the U.S. Food and Drug Administration (FDA). VAERS accepts and analyzes reports of adverse events (possible side effects) after a person has received a vaccination. Anyone can report an adverse event to VAERS. Healthcare professionals are required to report certain adverse events and vaccine manufacturers are required to report all adverse events that come to their attention.\n",
    "\n",
    "DAG (Directed acyclic graph) used to create the models is presented below:\n",
    "\n",
    "\n",
    "![DAG graph](DAG_DA_2.png)"
   ]
  },
  {
   "cell_type": "markdown",
   "metadata": {},
   "source": [
    "The confoundings (pipe, fork, collider) are described below:\n",
    "\n",
    "#### Pipes: When one variable influences the next in a direct sequence.\n",
    "\n",
    "'Patient's age' influences both 'Probability of patient reporting illness/adverse reaction(s)' and 'Patient's history of illnesses'.\\\n",
    "'Patient's sex' influences both 'General probability of females suffering from adverse reaction(s) (usually mild ones)' and 'Probability of males suffering from serious adverse reaction(s)'.\\\n",
    "Then all the above except for 'Patient's age' and 'Patient's sex' influence 'Probability that a patient needs hospitalization'.\\\n",
    "Then 'Number of days spent in hospital' influences 'Probability of patient mortality'.\n",
    "\n",
    "'Type of vaccine (mRNA / Protein subunit)' influences 'Probability of patient mortality'.\\\n",
    "'Vaccine manufacturer' influences 'Probability of patient mortality'.\\\n",
    "'Number of days since vaccination' influences 'Probability of patient mortality'.\\\n",
    "'State of residence (quality of healthcare)' influences 'Probability of patient mortality'.\n",
    "\n",
    "#### Forks: When one variable influences multiple variables.\n",
    "\n",
    "Patient's age infuences:\n",
    "- 'Probability of patient reporting illness/adverse reaction(s)'\n",
    "- 'Patient's history of illnesses'\n",
    "\n",
    "Patient's sex influences:\n",
    "- 'General probability of females suffering from adverse reaction(s) (usually mild ones)'\n",
    "- 'Probability of males suffering from serious adverse reaction(s)'\n",
    "\n",
    "#### Colliders: When two or more variables influence a single variable.\n",
    "\n",
    "'Probability that a patient needs hospitalization' is influenced by:\n",
    "- 'Probability of patient reporting illness/adverse reaction(s)'\n",
    "- 'Patient's history of illnesses'\n",
    "- 'General probability of females suffering from adverse reaction(s) (usually mild ones)'\n",
    "- 'Probability of males suffering from serious adverse reaction(s)'\n",
    "\n",
    "'Probability of patient mortality' is influenced by:\n",
    "- 'Patient's age'\n",
    "- 'Patient's sex'\n",
    "- 'Number of days spent in hospital'\n",
    "- 'Type of vaccine (mRNA / Protein subunit)'\n",
    "- 'Vaccine manufacturer'\n",
    "- 'Number of days since vaccination'\n",
    "- 'State of residence (quality of healthcare)'\n",
    "\n"
   ]
  },
  {
   "cell_type": "markdown",
   "metadata": {},
   "source": [
    "### 2. Data preprocessing [0-2 pts]:\n",
    "- is preprocessing step clearly described [1 pt]\n",
    "- reasoning and types of actions taken on the dataset have been described [1 pt]\n",
    "\n",
    "#### Original Data\n",
    "TODO: Load original data\n",
    "\n",
    "\n",
    "#### Data preprocessing"
   ]
  },
  {
   "cell_type": "markdown",
   "metadata": {},
   "source": [
    "### 3. Model [0-4 pts]\n",
    "- are two different models specified [1 pt]\n",
    "- are difference between two models explained [1 pt]\n",
    "- is the difference in the models justified (e.g. does adding aditional parameter makes sense? ) [1 pt]\n",
    "- are models sufficiently described (what are formulas, what are parameters, what data are required ) [1 pt]"
   ]
  },
  {
   "cell_type": "markdown",
   "metadata": {},
   "source": [
    "### First model\n",
    "\n",
    "The first model uses two predictors:\n",
    "- Patient's age\n",
    "- Patient's sex\n",
    "\n",
    "\n",
    "### Second model\n",
    "\n",
    "The second model extends the first model adding two new parameters:\n",
    "- Number of days since vaccination\n",
    "- Number of days spent in hospital"
   ]
  },
  {
   "cell_type": "markdown",
   "metadata": {},
   "source": [
    "### 4. Priors [0-4 pts]\n",
    "- Is it explained why particular priors for parameters were selected [1 pt]\n",
    "- Have prior predictive checks been done for parameters (are parameters simulated from priors make sense) [1 pt]\n",
    "- Have prior predictive checks been done for measurements (are measurements simulated from priors make sense) [1 pt]\n",
    "- How prior parameters were selected [1 pt]"
   ]
  },
  {
   "cell_type": "markdown",
   "metadata": {},
   "source": [
    "### 5. Posterior analysis (model 1) [0-4 pts]\n",
    "- were there any issues with the sampling? if there were what kind of ideas for mitigation were used [1 pt]\n",
    "- are the samples from posterior predictive distribution analyzed [1 pt]\n",
    "- are the data consistent with posterior predictive samples and is it sufficiently commented (if they are not then is the justification provided)\n",
    "- have parameter marginal disrtibutions been analyzed (histograms of individual parametes plus summaries, are they diffuse or concentrated, what can we say about values) [1 pt]"
   ]
  },
  {
   "cell_type": "markdown",
   "metadata": {},
   "source": [
    "### 6. Posterior analysis (model 2) [0-4 pts]\n",
    "- were there any issues with the sampling? if there were what kind of ideas for mitigation were used [1 pt]\n",
    "- are the samples from posterior predictive distribution analyzed [1 pt]\n",
    "- are the data consistent with posterior predictive samples and is it sufficiently commented (if they are not then is the justification provided)\n",
    "- have parameter marginal disrtibutions been analyzed (histograms of individual parametes plus summaries, are they diffuse or concentrated, what can we say about values) [1 pt]"
   ]
  },
  {
   "cell_type": "markdown",
   "metadata": {},
   "source": [
    "### 7. Model comaprison [0-4 pts]\n",
    "- have models been compared using information criteria [1 pt]\n",
    "- have result for WAIC been discussed (is there a clear winner, or is there an overlap, were there any warnings) [1 pt]\n",
    "- have result for PSIS-LOO been discussed (is there a clear winner, or is there an overlap, were there any warnings) [1 pt]\n",
    "- what the model comparison discussed? Do authors agree with information criteria? Why in your opinion one model better than another [1 pt]"
   ]
  }
 ],
 "metadata": {
  "kernelspec": {
   "display_name": "Python 3",
   "language": "python",
   "name": "python3"
  },
  "language_info": {
   "name": "python",
   "version": "3.9.13"
  }
 },
 "nbformat": 4,
 "nbformat_minor": 2
}
