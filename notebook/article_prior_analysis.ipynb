{
 "cells": [
  {
   "cell_type": "code",
   "execution_count": 1,
   "metadata": {},
   "outputs": [],
   "source": [
    "import numpy as np\n",
    "import scipy.stats as stats\n",
    "import seaborn as sns\n",
    "\n",
    "import matplotlib.pyplot as plt\n",
    "import pandas as pd"
   ]
  },
  {
   "cell_type": "code",
   "execution_count": 3,
   "metadata": {},
   "outputs": [],
   "source": [
    "df_data_2020 = pd.read_csv(\"../dane/2020VAERSDATA.csv\", encoding='latin1', low_memory=False)\n",
    "df_vax_2020 = pd.read_csv(\"../dane/2020VAERSVAX.csv\", encoding='latin1', low_memory=False)\n",
    "df_2020 = pd.merge(df_data_2020, df_vax_2020, on='VAERS_ID')\n",
    "\n",
    "df_data_2021 = pd.read_csv(\"../dane/2021VAERSDATA.csv\", encoding='latin1', low_memory=False)\n",
    "df_vax_2021 = pd.read_csv(\"../dane/2021VAERSVAX.csv\", encoding='latin1', low_memory=False)\n",
    "df_2021 = pd.merge(df_data_2021, df_vax_2021, on='VAERS_ID')\n",
    "\n",
    "df = pd.concat([df_2020, df_2021])"
   ]
  },
  {
   "cell_type": "code",
   "execution_count": 16,
   "metadata": {},
   "outputs": [],
   "source": [
    "df = df.set_index('VAERS_ID')"
   ]
  },
  {
   "cell_type": "code",
   "execution_count": 24,
   "metadata": {},
   "outputs": [],
   "source": [
    "df['RECVDATE'] = pd.to_datetime(df['RECVDATE'], format='%m/%d/%Y')\n",
    "\n",
    "start_date = '2020-12-14'\n",
    "end_date = '2021-01-22'\n",
    "\n",
    "df = df[(df['RECVDATE'] >= start_date) & (df['RECVDATE'] <= end_date)]"
   ]
  },
  {
   "cell_type": "code",
   "execution_count": 27,
   "metadata": {},
   "outputs": [
    {
     "name": "stdout",
     "output_type": "stream",
     "text": [
      "<class 'pandas.core.frame.DataFrame'>\n",
      "Index: 64921 entries, 901875 to 2642529\n",
      "Data columns (total 9 columns):\n",
      " #   Column    Non-Null Count  Dtype  \n",
      "---  ------    --------------  -----  \n",
      " 0   STATE     52156 non-null  object \n",
      " 1   CAGE_YR   56362 non-null  float64\n",
      " 2   SEX       64921 non-null  object \n",
      " 3   DIED      349 non-null    object \n",
      " 4   HOSPITAL  1044 non-null   object \n",
      " 5   HOSPDAYS  653 non-null    float64\n",
      " 6   NUMDAYS   60416 non-null  float64\n",
      " 7   VAX_TYPE  64921 non-null  object \n",
      " 8   VAX_MANU  64921 non-null  object \n",
      "dtypes: float64(3), object(6)\n",
      "memory usage: 5.0+ MB\n"
     ]
    }
   ],
   "source": [
    "df = df[[\"STATE\", \"CAGE_YR\", \"SEX\", \"DIED\", \"HOSPITAL\", \"HOSPDAYS\", \"NUMDAYS\", \"VAX_TYPE\", \"VAX_MANU\"]]\n",
    "\n",
    "df.info()"
   ]
  },
  {
   "cell_type": "code",
   "execution_count": 28,
   "metadata": {},
   "outputs": [
    {
     "name": "stdout",
     "output_type": "stream",
     "text": [
      "<class 'pandas.core.frame.DataFrame'>\n",
      "Index: 45783 entries, 901875 to 2642010\n",
      "Data columns (total 9 columns):\n",
      " #   Column    Non-Null Count  Dtype  \n",
      "---  ------    --------------  -----  \n",
      " 0   STATE     45783 non-null  object \n",
      " 1   CAGE_YR   45783 non-null  float64\n",
      " 2   SEX       45783 non-null  int64  \n",
      " 3   DIED      45783 non-null  int64  \n",
      " 4   HOSPITAL  45783 non-null  int64  \n",
      " 5   HOSPDAYS  45783 non-null  float64\n",
      " 6   NUMDAYS   45783 non-null  float64\n",
      " 7   VAX_TYPE  45783 non-null  object \n",
      " 8   VAX_MANU  45783 non-null  object \n",
      "dtypes: float64(3), int64(3), object(3)\n",
      "memory usage: 3.5+ MB\n"
     ]
    }
   ],
   "source": [
    "df = df[df[\"SEX\"].isin([\"F\", \"M\"])]\n",
    "df['SEX'] = df['SEX'].apply(lambda x: 1 if x == 'F' else 0)\n",
    "df = df.dropna(subset=[\"STATE\", \"CAGE_YR\", \"NUMDAYS\"])\n",
    "df['DIED'] = df['DIED'].apply(lambda x: 1 if x == 'Y' else 0)\n",
    "df['HOSPITAL'] = df['HOSPITAL'].apply(lambda x: 1 if x == 'Y' else 0)\n",
    "df['HOSPDAYS'] = pd.to_numeric(df['HOSPDAYS'], errors='coerce').fillna(0)\n",
    "\n",
    "df.info()"
   ]
  },
  {
   "cell_type": "code",
   "execution_count": 32,
   "metadata": {},
   "outputs": [
    {
     "name": "stdout",
     "output_type": "stream",
     "text": [
      "<class 'pandas.core.frame.DataFrame'>\n",
      "Index: 15794 entries, 902418 to 2507444\n",
      "Data columns (total 9 columns):\n",
      " #   Column    Non-Null Count  Dtype  \n",
      "---  ------    --------------  -----  \n",
      " 0   STATE     15794 non-null  object \n",
      " 1   CAGE_YR   15794 non-null  float64\n",
      " 2   SEX       15794 non-null  int64  \n",
      " 3   DIED      15794 non-null  int64  \n",
      " 4   HOSPITAL  15794 non-null  int64  \n",
      " 5   HOSPDAYS  15794 non-null  float64\n",
      " 6   NUMDAYS   15794 non-null  float64\n",
      " 7   VAX_TYPE  15794 non-null  object \n",
      " 8   VAX_MANU  15794 non-null  object \n",
      "dtypes: float64(3), int64(3), object(3)\n",
      "memory usage: 1.2+ MB\n"
     ]
    }
   ],
   "source": [
    "df = df[df[\"VAX_TYPE\"] == 'COVID19']\n",
    "\n",
    "df.info()"
   ]
  },
  {
   "cell_type": "code",
   "execution_count": 33,
   "metadata": {},
   "outputs": [
    {
     "data": {
      "text/html": [
       "<div>\n",
       "<style scoped>\n",
       "    .dataframe tbody tr th:only-of-type {\n",
       "        vertical-align: middle;\n",
       "    }\n",
       "\n",
       "    .dataframe tbody tr th {\n",
       "        vertical-align: top;\n",
       "    }\n",
       "\n",
       "    .dataframe thead th {\n",
       "        text-align: right;\n",
       "    }\n",
       "</style>\n",
       "<table border=\"1\" class=\"dataframe\">\n",
       "  <thead>\n",
       "    <tr style=\"text-align: right;\">\n",
       "      <th></th>\n",
       "      <th>CAGE_YR</th>\n",
       "      <th>SEX</th>\n",
       "      <th>DIED</th>\n",
       "      <th>HOSPITAL</th>\n",
       "      <th>HOSPDAYS</th>\n",
       "      <th>NUMDAYS</th>\n",
       "    </tr>\n",
       "  </thead>\n",
       "  <tbody>\n",
       "    <tr>\n",
       "      <th>count</th>\n",
       "      <td>15794.000000</td>\n",
       "      <td>15794.000000</td>\n",
       "      <td>15794.000000</td>\n",
       "      <td>15794.000000</td>\n",
       "      <td>15794.000000</td>\n",
       "      <td>15794.000000</td>\n",
       "    </tr>\n",
       "    <tr>\n",
       "      <th>mean</th>\n",
       "      <td>61.874509</td>\n",
       "      <td>0.791250</td>\n",
       "      <td>0.015069</td>\n",
       "      <td>0.024123</td>\n",
       "      <td>0.047486</td>\n",
       "      <td>3.549069</td>\n",
       "    </tr>\n",
       "    <tr>\n",
       "      <th>std</th>\n",
       "      <td>10.119965</td>\n",
       "      <td>0.406428</td>\n",
       "      <td>0.121831</td>\n",
       "      <td>0.153436</td>\n",
       "      <td>0.479054</td>\n",
       "      <td>76.907064</td>\n",
       "    </tr>\n",
       "    <tr>\n",
       "      <th>min</th>\n",
       "      <td>50.000000</td>\n",
       "      <td>0.000000</td>\n",
       "      <td>0.000000</td>\n",
       "      <td>0.000000</td>\n",
       "      <td>0.000000</td>\n",
       "      <td>0.000000</td>\n",
       "    </tr>\n",
       "    <tr>\n",
       "      <th>25%</th>\n",
       "      <td>54.000000</td>\n",
       "      <td>1.000000</td>\n",
       "      <td>0.000000</td>\n",
       "      <td>0.000000</td>\n",
       "      <td>0.000000</td>\n",
       "      <td>0.000000</td>\n",
       "    </tr>\n",
       "    <tr>\n",
       "      <th>50%</th>\n",
       "      <td>59.000000</td>\n",
       "      <td>1.000000</td>\n",
       "      <td>0.000000</td>\n",
       "      <td>0.000000</td>\n",
       "      <td>0.000000</td>\n",
       "      <td>1.000000</td>\n",
       "    </tr>\n",
       "    <tr>\n",
       "      <th>75%</th>\n",
       "      <td>67.000000</td>\n",
       "      <td>1.000000</td>\n",
       "      <td>0.000000</td>\n",
       "      <td>0.000000</td>\n",
       "      <td>0.000000</td>\n",
       "      <td>2.000000</td>\n",
       "    </tr>\n",
       "    <tr>\n",
       "      <th>max</th>\n",
       "      <td>104.000000</td>\n",
       "      <td>1.000000</td>\n",
       "      <td>1.000000</td>\n",
       "      <td>1.000000</td>\n",
       "      <td>15.000000</td>\n",
       "      <td>7305.000000</td>\n",
       "    </tr>\n",
       "  </tbody>\n",
       "</table>\n",
       "</div>"
      ],
      "text/plain": [
       "            CAGE_YR           SEX          DIED      HOSPITAL      HOSPDAYS  \\\n",
       "count  15794.000000  15794.000000  15794.000000  15794.000000  15794.000000   \n",
       "mean      61.874509      0.791250      0.015069      0.024123      0.047486   \n",
       "std       10.119965      0.406428      0.121831      0.153436      0.479054   \n",
       "min       50.000000      0.000000      0.000000      0.000000      0.000000   \n",
       "25%       54.000000      1.000000      0.000000      0.000000      0.000000   \n",
       "50%       59.000000      1.000000      0.000000      0.000000      0.000000   \n",
       "75%       67.000000      1.000000      0.000000      0.000000      0.000000   \n",
       "max      104.000000      1.000000      1.000000      1.000000     15.000000   \n",
       "\n",
       "            NUMDAYS  \n",
       "count  15794.000000  \n",
       "mean       3.549069  \n",
       "std       76.907064  \n",
       "min        0.000000  \n",
       "25%        0.000000  \n",
       "50%        1.000000  \n",
       "75%        2.000000  \n",
       "max     7305.000000  "
      ]
     },
     "execution_count": 33,
     "metadata": {},
     "output_type": "execute_result"
    }
   ],
   "source": [
    "df.describe()"
   ]
  }
 ],
 "metadata": {
  "kernelspec": {
   "display_name": ".venv",
   "language": "python",
   "name": "python3"
  },
  "language_info": {
   "codemirror_mode": {
    "name": "ipython",
    "version": 3
   },
   "file_extension": ".py",
   "mimetype": "text/x-python",
   "name": "python",
   "nbconvert_exporter": "python",
   "pygments_lexer": "ipython3",
   "version": "3.12.0"
  }
 },
 "nbformat": 4,
 "nbformat_minor": 2
}
